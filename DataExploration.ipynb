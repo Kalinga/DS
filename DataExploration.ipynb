{
 "cells": [
  {
   "cell_type": "code",
   "execution_count": 1,
   "metadata": {},
   "outputs": [
    {
     "name": "stdout",
     "output_type": "stream",
     "text": [
      "connectivity_events.csv.gz  DataExploration.ipynb  README.md  servers.csv.gz\r\n"
     ]
    }
   ],
   "source": [
    "!ls"
   ]
  },
  {
   "cell_type": "code",
   "execution_count": 3,
   "metadata": {},
   "outputs": [
    {
     "name": "stdout",
     "output_type": "stream",
     "text": [
      "Archive:  connectivity_events.csv.gz\r\n",
      "  End-of-central-directory signature not found.  Either this file is not\r\n",
      "  a zipfile, or it constitutes one disk of a multi-part archive.  In the\r\n",
      "  latter case the central directory and zipfile comment will be found on\r\n",
      "  the last disk(s) of this archive.\r\n",
      "unzip:  cannot find zipfile directory in one of connectivity_events.csv.gz or\r\n",
      "        connectivity_events.csv.gz.zip, and cannot find connectivity_events.csv.gz.ZIP, period.\r\n"
     ]
    }
   ],
   "source": [
    "!unzip connectivity_events.csv.gz"
   ]
  },
  {
   "cell_type": "code",
   "execution_count": 4,
   "metadata": {},
   "outputs": [
    {
     "name": "stdout",
     "output_type": "stream",
     "text": [
      "connectivity_events.csv.gz: gzip compressed data, was \"connectivity_events.csv\", last modified: Tue May 15 05:40:16 2018, max compression, from Unix\r\n"
     ]
    }
   ],
   "source": [
    "!file connectivity_events.csv.gz"
   ]
  },
  {
   "cell_type": "code",
   "execution_count": 5,
   "metadata": {},
   "outputs": [],
   "source": [
    "!gunzip connectivity_events.csv.gz"
   ]
  },
  {
   "cell_type": "code",
   "execution_count": 6,
   "metadata": {},
   "outputs": [
    {
     "name": "stdout",
     "output_type": "stream",
     "text": [
      "connectivity_events.csv  DataExploration.ipynb\tREADME.md  servers.csv.gz\r\n"
     ]
    }
   ],
   "source": [
    "!ls"
   ]
  },
  {
   "cell_type": "code",
   "execution_count": 7,
   "metadata": {},
   "outputs": [],
   "source": [
    "!gunzip servers.csv.gz"
   ]
  },
  {
   "cell_type": "code",
   "execution_count": 8,
   "metadata": {},
   "outputs": [
    {
     "name": "stdout",
     "output_type": "stream",
     "text": [
      "connectivity_events.csv  DataExploration.ipynb\tREADME.md  servers.csv\r\n"
     ]
    }
   ],
   "source": [
    "!ls"
   ]
  },
  {
   "cell_type": "code",
   "execution_count": 9,
   "metadata": {},
   "outputs": [
    {
     "name": "stdout",
     "output_type": "stream",
     "text": [
      "2,2015-05-31 14:30:00.000000,2017-08-03 22:42:57.929\r\n",
      "3,2017-08-03 22:43:07.392988,2017-08-03 22:46:50.279\r\n",
      "4,2017-08-03 22:46:57.243687,2017-08-08 01:02:16.079\r\n",
      "5,2017-08-08 01:02:26.761809,2017-08-29 19:57:59.039\r\n",
      "6,2017-08-29 19:58:06.928351,2017-08-29 20:10:36.166\r\n",
      "7,2017-08-29 20:10:54.350097,2017-08-29 20:12:49.873\r\n",
      "8,2017-08-29 20:12:51.954571,2017-09-02 12:32:37.348\r\n",
      "9,2017-09-02 12:32:45.278531,2017-09-02 15:09:47.493\r\n",
      "10,2017-09-02 15:10:07.885013,2017-09-02 19:03:18.145\r\n",
      "11,2017-09-02 19:03:20.639235,2017-09-03 15:13:26.263\r\n"
     ]
    }
   ],
   "source": [
    "!head servers.csv"
   ]
  },
  {
   "cell_type": "code",
   "execution_count": 11,
   "metadata": {},
   "outputs": [
    {
     "name": "stdout",
     "output_type": "stream",
     "text": [
      "2015-05-31 14:30:00,100,4,2,true\r\n",
      "2015-05-31 14:30:00,101,1,2,true\r\n",
      "2015-05-31 14:30:00,102,1,2,true\r\n",
      "2015-05-31 14:30:00,103,26,2,true\r\n",
      "2015-05-31 14:30:00,104,1,2,true\r\n",
      "2015-05-31 14:30:00,105,1,2,true\r\n",
      "2015-05-31 14:30:00,106,1,2,true\r\n",
      "2015-05-31 14:30:00,10,6,2,true\r\n",
      "2015-05-31 14:30:00,107,1,2,true\r\n",
      "2015-05-31 14:30:00,108,27,2,true\r\n"
     ]
    }
   ],
   "source": [
    "!head connectivity_events.csv"
   ]
  },
  {
   "cell_type": "code",
   "execution_count": 12,
   "metadata": {},
   "outputs": [
    {
     "name": "stdout",
     "output_type": "stream",
     "text": [
      "188 servers.csv\r\n"
     ]
    }
   ],
   "source": [
    "!wc -l servers.csv"
   ]
  },
  {
   "cell_type": "code",
   "execution_count": 13,
   "metadata": {},
   "outputs": [
    {
     "name": "stdout",
     "output_type": "stream",
     "text": [
      "9308207 connectivity_events.csv\r\n"
     ]
    }
   ],
   "source": [
    "!wc -l connectivity_events.csv"
   ]
  },
  {
   "cell_type": "code",
   "execution_count": 14,
   "metadata": {},
   "outputs": [
    {
     "name": "stdout",
     "output_type": "stream",
     "text": [
      "# Data Engineer Exercise\n",
      "\n",
      "## Overview\n",
      "\n",
      "Hi there future balenista :) This repo contains a sample of anonymised\n",
      "production data from our platform that we use to calculate one of our core\n",
      "metrics. This core metric is how many devices are online in a given period of\n",
      "time. Your goal is to analyse the same data and come up with a handful of\n",
      "useful metrics and projections.\n",
      "\n",
      "## Data Schema\n",
      "\n",
      "Before diving into the tasks we need to talk about the data model. The relevant\n",
      "entities are **devices**, **users**, and **servers**. Every device belongs to a\n",
      "particular user and at any given time it is either disconnected or connected to\n",
      "a particular server.\n",
      "\n",
      "The basis of this exercise is a simple event stream of device connectivity\n",
      "events. This means that when a device connects to one of our servers we record\n",
      "an \"online\" event. When a device disconnects from one of our servers we record\n",
      "an \"offline\" event. Every event contains a timestamp, the id of the device, and\n",
      "whether the device connected or disconnected. The event also contains the id of\n",
      "the owner of this device, and the id of the server it connected to.\n",
      "\n",
      "**But be careful!** There are missing events from the stream. For example you\n",
      "might find an online event for a device that is followed by another online\n",
      "event, with no offline event in between! Or you might find that an offline\n",
      "event is followed by another offline event, without an online event in between.\n",
      "This can happen if, for example, a server crashes and doesn't get a chance to\n",
      "report a device as offline. Or an online event could be missed during a\n",
      "database outage.\n",
      "\n",
      "To help reason about this partially corrupted event stream there is an\n",
      "accompanying dataset of all the servers that have ever existed together with\n",
      "the timestamp they were created and destroyed. So, for example, if you have an\n",
      "online event for a particular server but you see no offline event, then you\n",
      "could assume that the device was in fact online until that server got\n",
      "destroyed.\n",
      "\n",
      "The specific rules we have selected to deal with problematic sections\n",
      "of a device's timeline can be summarised in the following table:\n",
      "\n",
      "| current event | current server | next event | next server | rule        |\n",
      "|---------------|----------------|------------|-------------|-------------|\n",
      "| online        | X              | online     | X           | Assume device was online from current event's timestamp until next event's timestamp\n",
      "| online        | X              | online     | Y           | Assume device was online from current event's timestamp until X's destruction time or next event's timestamp, whichever is smaller\n",
      "| online        | X              | offline    | X           | Normal case\n",
      "| online        | X              | offline    | Y           | Assume device was online from current event's timestamp until X's destruction time. Ignore next event.\n",
      "| offline       | X              | online     | X           | Normal case\n",
      "| offline       | X              | online     | Y           | Normal case\n",
      "| offline       | X              | offline    | X           | Ignore next event\n",
      "| offline       | X              | offline    | Y           | Ignore next event\n",
      "\n",
      "\n",
      "### Schema for `connectivity_events.csv`\n",
      "\n",
      "This dataset is sorted by timestamp\n",
      "\n",
      "| field     | type     |\n",
      "|-----------|----------|\n",
      "| timestamp | datetime |\n",
      "| device_id | integer  |\n",
      "| user_id   | integer  |\n",
      "| server_id | integer  |\n",
      "| connected | boolean  |\n",
      "\n",
      "### Schema for `servers.csv`\n",
      "\n",
      "This dataset is sorted by id\n",
      "\n",
      "| field        | type     |\n",
      "|--------------|----------|\n",
      "| id           | integer  |\n",
      "| created_at   | datetime |\n",
      "| destroyed_at | datetime |\n",
      "\n",
      "## Task 1 - Creating a clean view\n",
      "\n",
      "Your first task is to create a stacked chart of **unique online devices per\n",
      "day**, segregated by fleet size. The fleet size is an attribute of each user\n",
      "and is defined as the number of online devices that this user had at a\n",
      "particular day. You can split the dataset in the following fleet sizes:\n",
      "\n",
      "* 1-2 devices\n",
      "* 3-9 devices\n",
      "* 10-99 devices\n",
      "* 100-999 devices\n",
      "\n",
      "A device should be counted as online for a particular day if it was online for\n",
      "any amount of time during that day. For example, a device that appear online\n",
      "for only a second should still be counted for that day.\n",
      "\n",
      "Here is a sneak peak of what this looks like:\n",
      "\n",
      "<img src=\"https://i.imgur.com/DTrjRir.png\" />\n",
      "\n",
      "### Bonus\n",
      "\n",
      "Calculate the same chart but for every day calculate the **unique online\n",
      "devices in the past 28 days**, making it a running total.\n",
      "\n",
      "## Task 2 - Projecting into the future\n",
      "\n",
      "Once you've got task 1 down you'll have a pretty clean view of the data. The\n",
      "next goal is to try and predict how the total number of online devices will\n",
      "grow over the next year. You don't need to calculate individual trends for\n",
      "every fleet size, we're interested in the total number of online devices here.\n",
      "Since your data ends at 2018-02-28 create your prediction until 2019-02-28 and\n",
      "present it in a chart.\n",
      "\n",
      "Please also explain your projection, why you decided to approach it that way, what assumptions you made, and what drawbacks you see in your approach.\n",
      "\n",
      "## Task 3 - Business insights\n",
      "\n",
      "Now we'd like you to use the data to come up with useful business insights. This could mean identifying specific users that our sales team may want to contact given their online device history; calculating revenue by fleet size; projecting device revenue into the future; or anything else you think might be useful. You can also explain additional analyses that you would like to do if you had more data and more time.\n",
      "\n",
      "You can see our pricing plans at https://balena.io/pricing/ to help with any revenue-related analysis.\n",
      "\n",
      "Again, please explain your analysis, why you decided to approach it that way, what assumptions you made, and what drawbacks you see in your approach.\n",
      "\n",
      "## Asking questions\n",
      "\n",
      "Feel free to asks us any questions you have about this exercise. We'll be more\n",
      "than happy to assist you.\n",
      "\n",
      "Good luck!\n"
     ]
    }
   ],
   "source": [
    "!cat README.md"
   ]
  },
  {
   "cell_type": "code",
   "execution_count": null,
   "metadata": {},
   "outputs": [],
   "source": [
    "cols=['timestamp', 'device_id', 'user_id','server_id', 'connected']"
   ]
  }
 ],
 "metadata": {
  "kernelspec": {
   "display_name": "Python 3",
   "language": "python",
   "name": "python3"
  },
  "language_info": {
   "codemirror_mode": {
    "name": "ipython",
    "version": 3
   },
   "file_extension": ".py",
   "mimetype": "text/x-python",
   "name": "python",
   "nbconvert_exporter": "python",
   "pygments_lexer": "ipython3",
   "version": "3.5.2"
  }
 },
 "nbformat": 4,
 "nbformat_minor": 2
}
