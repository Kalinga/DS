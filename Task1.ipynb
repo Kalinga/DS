{
 "cells": [
  {
   "cell_type": "code",
   "execution_count": 66,
   "metadata": {},
   "outputs": [],
   "source": [
    "from datetime import datetime, timedelta\n",
    "import pandas as pd"
   ]
  },
  {
   "cell_type": "markdown",
   "metadata": {},
   "source": [
    "## 1. Read the raw csv data and explore the data"
   ]
  },
  {
   "cell_type": "code",
   "execution_count": 67,
   "metadata": {},
   "outputs": [],
   "source": [
    "cols=['id', 'created_at', 'destroyed_at']\n",
    "server_data = pd.read_csv(\"servers.csv\", delimiter=\",\", names=cols, header=None )"
   ]
  },
  {
   "cell_type": "code",
   "execution_count": 68,
   "metadata": {},
   "outputs": [
    {
     "data": {
      "text/html": [
       "<div>\n",
       "<style scoped>\n",
       "    .dataframe tbody tr th:only-of-type {\n",
       "        vertical-align: middle;\n",
       "    }\n",
       "\n",
       "    .dataframe tbody tr th {\n",
       "        vertical-align: top;\n",
       "    }\n",
       "\n",
       "    .dataframe thead th {\n",
       "        text-align: right;\n",
       "    }\n",
       "</style>\n",
       "<table border=\"1\" class=\"dataframe\">\n",
       "  <thead>\n",
       "    <tr style=\"text-align: right;\">\n",
       "      <th></th>\n",
       "      <th>id</th>\n",
       "      <th>created_at</th>\n",
       "      <th>destroyed_at</th>\n",
       "    </tr>\n",
       "  </thead>\n",
       "  <tbody>\n",
       "    <tr>\n",
       "      <th>0</th>\n",
       "      <td>2</td>\n",
       "      <td>2015-05-31 14:30:00.000000</td>\n",
       "      <td>2017-08-03 22:42:57.929</td>\n",
       "    </tr>\n",
       "    <tr>\n",
       "      <th>1</th>\n",
       "      <td>3</td>\n",
       "      <td>2017-08-03 22:43:07.392988</td>\n",
       "      <td>2017-08-03 22:46:50.279</td>\n",
       "    </tr>\n",
       "    <tr>\n",
       "      <th>2</th>\n",
       "      <td>4</td>\n",
       "      <td>2017-08-03 22:46:57.243687</td>\n",
       "      <td>2017-08-08 01:02:16.079</td>\n",
       "    </tr>\n",
       "    <tr>\n",
       "      <th>3</th>\n",
       "      <td>5</td>\n",
       "      <td>2017-08-08 01:02:26.761809</td>\n",
       "      <td>2017-08-29 19:57:59.039</td>\n",
       "    </tr>\n",
       "  </tbody>\n",
       "</table>\n",
       "</div>"
      ],
      "text/plain": [
       "   id                  created_at             destroyed_at\n",
       "0   2  2015-05-31 14:30:00.000000  2017-08-03 22:42:57.929\n",
       "1   3  2017-08-03 22:43:07.392988  2017-08-03 22:46:50.279\n",
       "2   4  2017-08-03 22:46:57.243687  2017-08-08 01:02:16.079\n",
       "3   5  2017-08-08 01:02:26.761809  2017-08-29 19:57:59.039"
      ]
     },
     "execution_count": 68,
     "metadata": {},
     "output_type": "execute_result"
    }
   ],
   "source": [
    "server_data[0:4]"
   ]
  },
  {
   "cell_type": "code",
   "execution_count": 69,
   "metadata": {},
   "outputs": [],
   "source": [
    "cols=['timestamp', 'device_id', 'user_id','server_id', 'connected']\n",
    "dtypes = {'timestamp': 'str', 'device_id': 'int', 'user_id': 'int', 'server_id': 'int', 'connected':'bool'}\n",
    "parse_dates = ['timestamp']\n",
    "events_data = pd.read_csv(\"connectivity_events.csv\", delimiter=\",\", names=cols, header=None,dtype=dtypes, parse_dates=parse_dates )\n",
    "#events_data = pd.read_csv(\"case1.csv\", delimiter=\",\", names=cols, header=None,dtype=dtypes, parse_dates=parse_dates )\n",
    "#events_data = pd.read_csv(\"case3.csv\", delimiter=\",\", names=cols, header=None,dtype=dtypes, parse_dates=parse_dates )"
   ]
  },
  {
   "cell_type": "code",
   "execution_count": 70,
   "metadata": {},
   "outputs": [],
   "source": [
    "#events_data.dtypes\n",
    "#events_data = events_data.set_index('timestamp')\n",
    "#events_data[0:5]"
   ]
  },
  {
   "cell_type": "code",
   "execution_count": 71,
   "metadata": {},
   "outputs": [
    {
     "data": {
      "text/plain": [
       "(9308207, 5)"
      ]
     },
     "execution_count": 71,
     "metadata": {},
     "output_type": "execute_result"
    }
   ],
   "source": [
    "events_data.shape"
   ]
  },
  {
   "cell_type": "code",
   "execution_count": 72,
   "metadata": {},
   "outputs": [
    {
     "data": {
      "text/plain": [
       "Index(['timestamp', 'device_id', 'user_id', 'server_id', 'connected'], dtype='object')"
      ]
     },
     "execution_count": 72,
     "metadata": {},
     "output_type": "execute_result"
    }
   ],
   "source": [
    "events_data.columns"
   ]
  },
  {
   "cell_type": "markdown",
   "metadata": {},
   "source": [
    "## 2. Fill and process the device event stream data "
   ]
  },
  {
   "cell_type": "code",
   "execution_count": 73,
   "metadata": {},
   "outputs": [],
   "source": [
    "# start, end takes pandas.Timestamp\n",
    "def fillDates(start, end):\n",
    "    #print(\"fillDates\", type(start), start, type(end),end)\n",
    "    dates = list()\n",
    "    for i in  range(1,(end.date() - start.date()).days):\n",
    "        oneday = pd.Timedelta('%d days'%i)\n",
    "        dates.append(start + oneday)\n",
    "    return dates"
   ]
  },
  {
   "cell_type": "code",
   "execution_count": 74,
   "metadata": {},
   "outputs": [],
   "source": [
    "def processEventStream(row):\n",
    "    r = list()\n",
    "    dates = list()\n",
    "    #print(row)\n",
    "\n",
    "    try:\n",
    "        if (device_state[row[1]]):\n",
    "            #print(\"device details exist\")\n",
    "            #print(row)\n",
    "            timestamp = row [0]\n",
    "            device_id = row [1]\n",
    "            user_id = row [2]\n",
    "            server_id = row [3]\n",
    "            next_event = row [4]\n",
    "            \n",
    "            if device_state[row[1]][\"state\"]: # current event 'online'\n",
    "                if next_event: # next event 'online'\n",
    "                    if device_state[row[1]][\"server\"] == server_id: # case 1\n",
    "                        # Assume device was online from current event's timestamp until next event's timestamp\n",
    "                        dates = fillDates(device_state[row[1]][\"timestamp\"], timestamp)\n",
    "                    else: # case 2 different server\n",
    "                        # get previous server destruction time\n",
    "                        destruction_time = pd.Timestamp(server_data[server_data['id'] == 2]['destroyed_at'].values[0])\n",
    "                        if (pd.Timestamp(destruction_time) < timestamp):\n",
    "                            dates = fillDates(device_state[row[1]][\"timestamp\"], destruction_time)\n",
    "                        else:\n",
    "                            dates = fillDates(device_state[row[1]][\"timestamp\"], timestamp)\n",
    "                    \n",
    "                    #update the state dictionary Case 1 & 2\n",
    "                    state_dict = {\"state\": next_event, \"server\":server_id, \"timestamp\":timestamp}\n",
    "                    device_state[device_id] = state_dict        \n",
    "                else:# next event 'offline', \n",
    "                    if device_state[row[1]][\"server\"] == server_id: # case 3 Normal case, same next server\n",
    "                        #update the state dictionary Case 3\n",
    "                        state_dict = {\"state\": next_event, \"server\":server_id, \"timestamp\":timestamp}\n",
    "                        device_state[device_id] = state_dict\n",
    "                    else:# case 4, different next server\n",
    "                        # get previous server destruction time\n",
    "                        destruction_time = pd.Timestamp(server_data[server_data['id'] == 2]['destroyed_at'].values[0])\n",
    "                        dates = fillDates(device_state[row[1]][\"timestamp\"], destruction_time)\n",
    "                        # *NO* update for the state dictionary in Case 4\n",
    "            else:  # current event 'offline'\n",
    "                if next_event: # next event 'online' # case 5 & case 6: Normal Case\n",
    "                        #update the state dictionary: case 5 & 6\n",
    "                        state_dict = {\"state\": next_event, \"server\":server_id, \"timestamp\":timestamp}\n",
    "                        device_state[device_id] = state_dict\n",
    "                        dates = list().append(timestamp)\n",
    "                else: # next event 'offline' # case 7 &  case 8\n",
    "                        pass # Ignore next event\n",
    "                \n",
    "            if dates:\n",
    "                for d in dates:\n",
    "                    newentry = list()\n",
    "                    newentry.append(d)\n",
    "                    newentry.append(device_id)\n",
    "                    newentry.append(user_id)\n",
    "                    #print(newentry)\n",
    "                    rows_list.append(newentry)\n",
    "                #print(\"more dates\", dates)\n",
    "            \n",
    "    except KeyError:\n",
    "        state_dict = {\"state\":row[4], \"server\":row[3], \"timestamp\":row[0]}\n",
    "        device_state[row[1]] = state_dict\n",
    "        #print(row[1], device_state[row[1]])\n",
    "        if (row[4]):\n",
    "            r = row.tolist()\n",
    "            #print(\"r\",type(r))\n",
    "            rows_list.append(r[0:3]) \n",
    "\n",
    "    return r\n"
   ]
  },
  {
   "cell_type": "code",
   "execution_count": 75,
   "metadata": {},
   "outputs": [],
   "source": [
    "device_state = dict()\n",
    "rows_list = list()\n",
    "#print( device_state)\n",
    "#df = small_data.apply(processEventStream, axis=1)\n",
    "events_data=events_data.apply(processEventStream, axis=1)"
   ]
  },
  {
   "cell_type": "code",
   "execution_count": 76,
   "metadata": {},
   "outputs": [],
   "source": [
    "events_data_connected =  pd.DataFrame(rows_list)\n",
    "events_data_connected.columns = [\"timestamp\", \"device_id\", \"user_id\"]"
   ]
  },
  {
   "cell_type": "code",
   "execution_count": 77,
   "metadata": {},
   "outputs": [],
   "source": [
    "#rows_list"
   ]
  },
  {
   "cell_type": "code",
   "execution_count": 78,
   "metadata": {},
   "outputs": [],
   "source": [
    "#events_data_connected"
   ]
  },
  {
   "cell_type": "code",
   "execution_count": 79,
   "metadata": {},
   "outputs": [
    {
     "data": {
      "text/plain": [
       "(56587, 3)"
      ]
     },
     "execution_count": 79,
     "metadata": {},
     "output_type": "execute_result"
    }
   ],
   "source": [
    "events_data_connected.shape"
   ]
  },
  {
   "cell_type": "code",
   "execution_count": 80,
   "metadata": {},
   "outputs": [
    {
     "data": {
      "text/html": [
       "<div>\n",
       "<style scoped>\n",
       "    .dataframe tbody tr th:only-of-type {\n",
       "        vertical-align: middle;\n",
       "    }\n",
       "\n",
       "    .dataframe tbody tr th {\n",
       "        vertical-align: top;\n",
       "    }\n",
       "\n",
       "    .dataframe thead th {\n",
       "        text-align: right;\n",
       "    }\n",
       "</style>\n",
       "<table border=\"1\" class=\"dataframe\">\n",
       "  <thead>\n",
       "    <tr style=\"text-align: right;\">\n",
       "      <th></th>\n",
       "      <th>timestamp</th>\n",
       "      <th>device_id</th>\n",
       "      <th>user_id</th>\n",
       "    </tr>\n",
       "  </thead>\n",
       "  <tbody>\n",
       "    <tr>\n",
       "      <th>0</th>\n",
       "      <td>2015-05-31 14:30:00.000</td>\n",
       "      <td>100</td>\n",
       "      <td>4</td>\n",
       "    </tr>\n",
       "    <tr>\n",
       "      <th>1</th>\n",
       "      <td>2015-05-31 14:30:00.000</td>\n",
       "      <td>101</td>\n",
       "      <td>1</td>\n",
       "    </tr>\n",
       "    <tr>\n",
       "      <th>2</th>\n",
       "      <td>2015-05-31 14:30:00.000</td>\n",
       "      <td>102</td>\n",
       "      <td>1</td>\n",
       "    </tr>\n",
       "    <tr>\n",
       "      <th>3</th>\n",
       "      <td>2015-05-31 14:30:00.000</td>\n",
       "      <td>103</td>\n",
       "      <td>26</td>\n",
       "    </tr>\n",
       "    <tr>\n",
       "      <th>4</th>\n",
       "      <td>2015-05-31 14:30:00.000</td>\n",
       "      <td>104</td>\n",
       "      <td>1</td>\n",
       "    </tr>\n",
       "    <tr>\n",
       "      <th>5</th>\n",
       "      <td>2015-05-31 14:30:00.000</td>\n",
       "      <td>105</td>\n",
       "      <td>1</td>\n",
       "    </tr>\n",
       "    <tr>\n",
       "      <th>6</th>\n",
       "      <td>2015-05-31 14:30:00.000</td>\n",
       "      <td>106</td>\n",
       "      <td>1</td>\n",
       "    </tr>\n",
       "    <tr>\n",
       "      <th>7</th>\n",
       "      <td>2015-05-31 14:30:00.000</td>\n",
       "      <td>10</td>\n",
       "      <td>6</td>\n",
       "    </tr>\n",
       "    <tr>\n",
       "      <th>8</th>\n",
       "      <td>2015-05-31 14:30:00.000</td>\n",
       "      <td>107</td>\n",
       "      <td>1</td>\n",
       "    </tr>\n",
       "    <tr>\n",
       "      <th>9</th>\n",
       "      <td>2015-05-31 14:30:00.000</td>\n",
       "      <td>108</td>\n",
       "      <td>27</td>\n",
       "    </tr>\n",
       "    <tr>\n",
       "      <th>10</th>\n",
       "      <td>2015-05-31 14:30:00.000</td>\n",
       "      <td>109</td>\n",
       "      <td>1</td>\n",
       "    </tr>\n",
       "    <tr>\n",
       "      <th>11</th>\n",
       "      <td>2015-05-31 14:30:00.000</td>\n",
       "      <td>110</td>\n",
       "      <td>1</td>\n",
       "    </tr>\n",
       "    <tr>\n",
       "      <th>12</th>\n",
       "      <td>2015-05-31 14:30:00.000</td>\n",
       "      <td>11</td>\n",
       "      <td>1</td>\n",
       "    </tr>\n",
       "    <tr>\n",
       "      <th>13</th>\n",
       "      <td>2015-05-31 14:30:00.000</td>\n",
       "      <td>111</td>\n",
       "      <td>28</td>\n",
       "    </tr>\n",
       "    <tr>\n",
       "      <th>14</th>\n",
       "      <td>2015-05-31 14:30:00.000</td>\n",
       "      <td>1</td>\n",
       "      <td>1</td>\n",
       "    </tr>\n",
       "    <tr>\n",
       "      <th>15</th>\n",
       "      <td>2015-05-31 14:30:00.000</td>\n",
       "      <td>112</td>\n",
       "      <td>1</td>\n",
       "    </tr>\n",
       "    <tr>\n",
       "      <th>16</th>\n",
       "      <td>2015-05-31 14:30:00.000</td>\n",
       "      <td>113</td>\n",
       "      <td>1</td>\n",
       "    </tr>\n",
       "    <tr>\n",
       "      <th>17</th>\n",
       "      <td>2015-05-31 14:30:00.000</td>\n",
       "      <td>114</td>\n",
       "      <td>1</td>\n",
       "    </tr>\n",
       "    <tr>\n",
       "      <th>18</th>\n",
       "      <td>2015-05-31 14:30:00.000</td>\n",
       "      <td>115</td>\n",
       "      <td>1</td>\n",
       "    </tr>\n",
       "    <tr>\n",
       "      <th>19</th>\n",
       "      <td>2015-05-31 14:30:00.000</td>\n",
       "      <td>116</td>\n",
       "      <td>1</td>\n",
       "    </tr>\n",
       "    <tr>\n",
       "      <th>20</th>\n",
       "      <td>2015-05-31 14:30:00.000</td>\n",
       "      <td>117</td>\n",
       "      <td>1</td>\n",
       "    </tr>\n",
       "    <tr>\n",
       "      <th>21</th>\n",
       "      <td>2015-05-31 14:30:00.000</td>\n",
       "      <td>118</td>\n",
       "      <td>1</td>\n",
       "    </tr>\n",
       "    <tr>\n",
       "      <th>22</th>\n",
       "      <td>2015-05-31 14:30:00.000</td>\n",
       "      <td>119</td>\n",
       "      <td>1</td>\n",
       "    </tr>\n",
       "    <tr>\n",
       "      <th>23</th>\n",
       "      <td>2015-05-31 14:30:00.000</td>\n",
       "      <td>120</td>\n",
       "      <td>1</td>\n",
       "    </tr>\n",
       "    <tr>\n",
       "      <th>24</th>\n",
       "      <td>2015-05-31 14:30:00.000</td>\n",
       "      <td>121</td>\n",
       "      <td>1</td>\n",
       "    </tr>\n",
       "    <tr>\n",
       "      <th>25</th>\n",
       "      <td>2015-05-31 14:30:00.000</td>\n",
       "      <td>12</td>\n",
       "      <td>1</td>\n",
       "    </tr>\n",
       "    <tr>\n",
       "      <th>26</th>\n",
       "      <td>2015-05-31 14:30:00.000</td>\n",
       "      <td>122</td>\n",
       "      <td>1</td>\n",
       "    </tr>\n",
       "    <tr>\n",
       "      <th>27</th>\n",
       "      <td>2015-05-31 14:30:00.000</td>\n",
       "      <td>123</td>\n",
       "      <td>1</td>\n",
       "    </tr>\n",
       "    <tr>\n",
       "      <th>28</th>\n",
       "      <td>2015-05-31 14:30:00.000</td>\n",
       "      <td>124</td>\n",
       "      <td>4</td>\n",
       "    </tr>\n",
       "    <tr>\n",
       "      <th>29</th>\n",
       "      <td>2015-05-31 14:30:00.000</td>\n",
       "      <td>125</td>\n",
       "      <td>1</td>\n",
       "    </tr>\n",
       "    <tr>\n",
       "      <th>...</th>\n",
       "      <td>...</td>\n",
       "      <td>...</td>\n",
       "      <td>...</td>\n",
       "    </tr>\n",
       "    <tr>\n",
       "      <th>56557</th>\n",
       "      <td>2018-02-28 21:06:09.876</td>\n",
       "      <td>56273</td>\n",
       "      <td>4445</td>\n",
       "    </tr>\n",
       "    <tr>\n",
       "      <th>56558</th>\n",
       "      <td>2018-02-28 21:07:10.865</td>\n",
       "      <td>56274</td>\n",
       "      <td>3584</td>\n",
       "    </tr>\n",
       "    <tr>\n",
       "      <th>56559</th>\n",
       "      <td>2018-02-28 21:07:13.550</td>\n",
       "      <td>56275</td>\n",
       "      <td>5451</td>\n",
       "    </tr>\n",
       "    <tr>\n",
       "      <th>56560</th>\n",
       "      <td>2018-02-28 21:19:04.003</td>\n",
       "      <td>56276</td>\n",
       "      <td>1511</td>\n",
       "    </tr>\n",
       "    <tr>\n",
       "      <th>56561</th>\n",
       "      <td>2018-02-28 21:24:08.105</td>\n",
       "      <td>56277</td>\n",
       "      <td>2676</td>\n",
       "    </tr>\n",
       "    <tr>\n",
       "      <th>56562</th>\n",
       "      <td>2018-02-28 21:24:28.887</td>\n",
       "      <td>56278</td>\n",
       "      <td>5428</td>\n",
       "    </tr>\n",
       "    <tr>\n",
       "      <th>56563</th>\n",
       "      <td>2018-02-28 21:32:08.421</td>\n",
       "      <td>56279</td>\n",
       "      <td>5428</td>\n",
       "    </tr>\n",
       "    <tr>\n",
       "      <th>56564</th>\n",
       "      <td>2018-02-28 21:32:29.643</td>\n",
       "      <td>56280</td>\n",
       "      <td>2986</td>\n",
       "    </tr>\n",
       "    <tr>\n",
       "      <th>56565</th>\n",
       "      <td>2018-02-28 21:33:29.384</td>\n",
       "      <td>56281</td>\n",
       "      <td>2870</td>\n",
       "    </tr>\n",
       "    <tr>\n",
       "      <th>56566</th>\n",
       "      <td>2018-02-28 21:33:35.486</td>\n",
       "      <td>56282</td>\n",
       "      <td>4445</td>\n",
       "    </tr>\n",
       "    <tr>\n",
       "      <th>56567</th>\n",
       "      <td>2018-02-28 21:33:44.876</td>\n",
       "      <td>56283</td>\n",
       "      <td>3261</td>\n",
       "    </tr>\n",
       "    <tr>\n",
       "      <th>56568</th>\n",
       "      <td>2018-02-28 21:37:22.723</td>\n",
       "      <td>56284</td>\n",
       "      <td>5428</td>\n",
       "    </tr>\n",
       "    <tr>\n",
       "      <th>56569</th>\n",
       "      <td>2018-02-28 22:00:28.998</td>\n",
       "      <td>56285</td>\n",
       "      <td>1220</td>\n",
       "    </tr>\n",
       "    <tr>\n",
       "      <th>56570</th>\n",
       "      <td>2018-02-28 22:03:14.134</td>\n",
       "      <td>56286</td>\n",
       "      <td>1220</td>\n",
       "    </tr>\n",
       "    <tr>\n",
       "      <th>56571</th>\n",
       "      <td>2018-02-28 22:14:35.990</td>\n",
       "      <td>56287</td>\n",
       "      <td>5006</td>\n",
       "    </tr>\n",
       "    <tr>\n",
       "      <th>56572</th>\n",
       "      <td>2018-02-28 22:22:53.598</td>\n",
       "      <td>56288</td>\n",
       "      <td>5452</td>\n",
       "    </tr>\n",
       "    <tr>\n",
       "      <th>56573</th>\n",
       "      <td>2018-02-28 22:28:58.286</td>\n",
       "      <td>56289</td>\n",
       "      <td>4861</td>\n",
       "    </tr>\n",
       "    <tr>\n",
       "      <th>56574</th>\n",
       "      <td>2018-02-28 22:45:19.110</td>\n",
       "      <td>56290</td>\n",
       "      <td>2230</td>\n",
       "    </tr>\n",
       "    <tr>\n",
       "      <th>56575</th>\n",
       "      <td>2018-02-28 22:46:53.384</td>\n",
       "      <td>56291</td>\n",
       "      <td>3917</td>\n",
       "    </tr>\n",
       "    <tr>\n",
       "      <th>56576</th>\n",
       "      <td>2018-02-28 22:51:52.493</td>\n",
       "      <td>56292</td>\n",
       "      <td>5453</td>\n",
       "    </tr>\n",
       "    <tr>\n",
       "      <th>56577</th>\n",
       "      <td>2018-02-28 23:00:32.228</td>\n",
       "      <td>56293</td>\n",
       "      <td>1220</td>\n",
       "    </tr>\n",
       "    <tr>\n",
       "      <th>56578</th>\n",
       "      <td>2018-02-28 23:02:13.091</td>\n",
       "      <td>56294</td>\n",
       "      <td>3917</td>\n",
       "    </tr>\n",
       "    <tr>\n",
       "      <th>56579</th>\n",
       "      <td>2018-02-28 23:03:32.718</td>\n",
       "      <td>56295</td>\n",
       "      <td>1220</td>\n",
       "    </tr>\n",
       "    <tr>\n",
       "      <th>56580</th>\n",
       "      <td>2018-02-28 23:13:01.223</td>\n",
       "      <td>56296</td>\n",
       "      <td>5219</td>\n",
       "    </tr>\n",
       "    <tr>\n",
       "      <th>56581</th>\n",
       "      <td>2018-02-28 23:18:44.968</td>\n",
       "      <td>56297</td>\n",
       "      <td>5454</td>\n",
       "    </tr>\n",
       "    <tr>\n",
       "      <th>56582</th>\n",
       "      <td>2018-02-28 23:24:13.661</td>\n",
       "      <td>56298</td>\n",
       "      <td>4445</td>\n",
       "    </tr>\n",
       "    <tr>\n",
       "      <th>56583</th>\n",
       "      <td>2018-02-28 23:37:37.050</td>\n",
       "      <td>56299</td>\n",
       "      <td>5455</td>\n",
       "    </tr>\n",
       "    <tr>\n",
       "      <th>56584</th>\n",
       "      <td>2018-02-28 23:39:03.521</td>\n",
       "      <td>56300</td>\n",
       "      <td>4824</td>\n",
       "    </tr>\n",
       "    <tr>\n",
       "      <th>56585</th>\n",
       "      <td>2018-02-28 23:41:24.144</td>\n",
       "      <td>56301</td>\n",
       "      <td>4445</td>\n",
       "    </tr>\n",
       "    <tr>\n",
       "      <th>56586</th>\n",
       "      <td>2018-02-28 23:44:12.644</td>\n",
       "      <td>56302</td>\n",
       "      <td>5219</td>\n",
       "    </tr>\n",
       "  </tbody>\n",
       "</table>\n",
       "<p>56587 rows × 3 columns</p>\n",
       "</div>"
      ],
      "text/plain": [
       "                    timestamp  device_id  user_id\n",
       "0     2015-05-31 14:30:00.000        100        4\n",
       "1     2015-05-31 14:30:00.000        101        1\n",
       "2     2015-05-31 14:30:00.000        102        1\n",
       "3     2015-05-31 14:30:00.000        103       26\n",
       "4     2015-05-31 14:30:00.000        104        1\n",
       "5     2015-05-31 14:30:00.000        105        1\n",
       "6     2015-05-31 14:30:00.000        106        1\n",
       "7     2015-05-31 14:30:00.000         10        6\n",
       "8     2015-05-31 14:30:00.000        107        1\n",
       "9     2015-05-31 14:30:00.000        108       27\n",
       "10    2015-05-31 14:30:00.000        109        1\n",
       "11    2015-05-31 14:30:00.000        110        1\n",
       "12    2015-05-31 14:30:00.000         11        1\n",
       "13    2015-05-31 14:30:00.000        111       28\n",
       "14    2015-05-31 14:30:00.000          1        1\n",
       "15    2015-05-31 14:30:00.000        112        1\n",
       "16    2015-05-31 14:30:00.000        113        1\n",
       "17    2015-05-31 14:30:00.000        114        1\n",
       "18    2015-05-31 14:30:00.000        115        1\n",
       "19    2015-05-31 14:30:00.000        116        1\n",
       "20    2015-05-31 14:30:00.000        117        1\n",
       "21    2015-05-31 14:30:00.000        118        1\n",
       "22    2015-05-31 14:30:00.000        119        1\n",
       "23    2015-05-31 14:30:00.000        120        1\n",
       "24    2015-05-31 14:30:00.000        121        1\n",
       "25    2015-05-31 14:30:00.000         12        1\n",
       "26    2015-05-31 14:30:00.000        122        1\n",
       "27    2015-05-31 14:30:00.000        123        1\n",
       "28    2015-05-31 14:30:00.000        124        4\n",
       "29    2015-05-31 14:30:00.000        125        1\n",
       "...                       ...        ...      ...\n",
       "56557 2018-02-28 21:06:09.876      56273     4445\n",
       "56558 2018-02-28 21:07:10.865      56274     3584\n",
       "56559 2018-02-28 21:07:13.550      56275     5451\n",
       "56560 2018-02-28 21:19:04.003      56276     1511\n",
       "56561 2018-02-28 21:24:08.105      56277     2676\n",
       "56562 2018-02-28 21:24:28.887      56278     5428\n",
       "56563 2018-02-28 21:32:08.421      56279     5428\n",
       "56564 2018-02-28 21:32:29.643      56280     2986\n",
       "56565 2018-02-28 21:33:29.384      56281     2870\n",
       "56566 2018-02-28 21:33:35.486      56282     4445\n",
       "56567 2018-02-28 21:33:44.876      56283     3261\n",
       "56568 2018-02-28 21:37:22.723      56284     5428\n",
       "56569 2018-02-28 22:00:28.998      56285     1220\n",
       "56570 2018-02-28 22:03:14.134      56286     1220\n",
       "56571 2018-02-28 22:14:35.990      56287     5006\n",
       "56572 2018-02-28 22:22:53.598      56288     5452\n",
       "56573 2018-02-28 22:28:58.286      56289     4861\n",
       "56574 2018-02-28 22:45:19.110      56290     2230\n",
       "56575 2018-02-28 22:46:53.384      56291     3917\n",
       "56576 2018-02-28 22:51:52.493      56292     5453\n",
       "56577 2018-02-28 23:00:32.228      56293     1220\n",
       "56578 2018-02-28 23:02:13.091      56294     3917\n",
       "56579 2018-02-28 23:03:32.718      56295     1220\n",
       "56580 2018-02-28 23:13:01.223      56296     5219\n",
       "56581 2018-02-28 23:18:44.968      56297     5454\n",
       "56582 2018-02-28 23:24:13.661      56298     4445\n",
       "56583 2018-02-28 23:37:37.050      56299     5455\n",
       "56584 2018-02-28 23:39:03.521      56300     4824\n",
       "56585 2018-02-28 23:41:24.144      56301     4445\n",
       "56586 2018-02-28 23:44:12.644      56302     5219\n",
       "\n",
       "[56587 rows x 3 columns]"
      ]
     },
     "execution_count": 80,
     "metadata": {},
     "output_type": "execute_result"
    }
   ],
   "source": [
    "events_data_connected.dropna()"
   ]
  },
  {
   "cell_type": "code",
   "execution_count": 81,
   "metadata": {},
   "outputs": [
    {
     "data": {
      "text/plain": [
       "(56587, 3)"
      ]
     },
     "execution_count": 81,
     "metadata": {},
     "output_type": "execute_result"
    }
   ],
   "source": [
    "events_data_connected.shape"
   ]
  },
  {
   "cell_type": "code",
   "execution_count": 82,
   "metadata": {},
   "outputs": [],
   "source": [
    "events_data_connected['date'] = pd.DatetimeIndex(events_data_connected['timestamp']).date"
   ]
  },
  {
   "cell_type": "code",
   "execution_count": 83,
   "metadata": {},
   "outputs": [
    {
     "data": {
      "text/html": [
       "<div>\n",
       "<style scoped>\n",
       "    .dataframe tbody tr th:only-of-type {\n",
       "        vertical-align: middle;\n",
       "    }\n",
       "\n",
       "    .dataframe tbody tr th {\n",
       "        vertical-align: top;\n",
       "    }\n",
       "\n",
       "    .dataframe thead th {\n",
       "        text-align: right;\n",
       "    }\n",
       "</style>\n",
       "<table border=\"1\" class=\"dataframe\">\n",
       "  <thead>\n",
       "    <tr style=\"text-align: right;\">\n",
       "      <th></th>\n",
       "      <th>timestamp</th>\n",
       "      <th>device_id</th>\n",
       "      <th>user_id</th>\n",
       "      <th>date</th>\n",
       "    </tr>\n",
       "  </thead>\n",
       "  <tbody>\n",
       "    <tr>\n",
       "      <th>0</th>\n",
       "      <td>2015-05-31 14:30:00</td>\n",
       "      <td>100</td>\n",
       "      <td>4</td>\n",
       "      <td>2015-05-31</td>\n",
       "    </tr>\n",
       "  </tbody>\n",
       "</table>\n",
       "</div>"
      ],
      "text/plain": [
       "            timestamp  device_id  user_id        date\n",
       "0 2015-05-31 14:30:00        100        4  2015-05-31"
      ]
     },
     "execution_count": 83,
     "metadata": {},
     "output_type": "execute_result"
    }
   ],
   "source": [
    "events_data_connected[0:1]"
   ]
  },
  {
   "cell_type": "code",
   "execution_count": 84,
   "metadata": {},
   "outputs": [],
   "source": [
    "unique_device_per_day = events_data_connected.drop_duplicates([\"date\", \"device_id\"],keep = \"first\")"
   ]
  },
  {
   "cell_type": "code",
   "execution_count": 85,
   "metadata": {},
   "outputs": [
    {
     "data": {
      "text/plain": [
       "Index(['timestamp', 'device_id', 'user_id', 'date'], dtype='object')"
      ]
     },
     "execution_count": 85,
     "metadata": {},
     "output_type": "execute_result"
    }
   ],
   "source": [
    "unique_device_per_day.columns"
   ]
  },
  {
   "cell_type": "code",
   "execution_count": 86,
   "metadata": {},
   "outputs": [],
   "source": [
    "#dev_count_perday_peruser = unique_device_per_day.groupby(['date', 'user_id']).agg({'device_id':[\"count\"]})"
   ]
  },
  {
   "cell_type": "code",
   "execution_count": 87,
   "metadata": {},
   "outputs": [],
   "source": [
    "#dev_count_perday_peruser.columns"
   ]
  },
  {
   "cell_type": "code",
   "execution_count": 88,
   "metadata": {},
   "outputs": [],
   "source": [
    "#dev_count_perday_peruser"
   ]
  },
  {
   "cell_type": "code",
   "execution_count": 89,
   "metadata": {},
   "outputs": [],
   "source": [
    "dev_count_perday = unique_device_per_day.groupby(['date', 'user_id'])['device_id'].size().reset_index(name='count')"
   ]
  },
  {
   "cell_type": "code",
   "execution_count": 90,
   "metadata": {},
   "outputs": [
    {
     "data": {
      "text/plain": [
       "Index(['date', 'user_id', 'count'], dtype='object')"
      ]
     },
     "execution_count": 90,
     "metadata": {},
     "output_type": "execute_result"
    }
   ],
   "source": [
    "dev_count_perday.columns"
   ]
  },
  {
   "cell_type": "code",
   "execution_count": 91,
   "metadata": {},
   "outputs": [
    {
     "data": {
      "text/plain": [
       "pandas.core.frame.DataFrame"
      ]
     },
     "execution_count": 91,
     "metadata": {},
     "output_type": "execute_result"
    }
   ],
   "source": [
    "type(dev_count_perday)"
   ]
  },
  {
   "cell_type": "markdown",
   "metadata": {},
   "source": [
    "* 1-2 devices        min\n",
    "* 3-9 devices        mid\n",
    "* 10-99 devices      small\n",
    "* 100-999 devices    large"
   ]
  },
  {
   "cell_type": "code",
   "execution_count": 92,
   "metadata": {},
   "outputs": [],
   "source": [
    "def func(row):\n",
    "    if row['count'] < 3:\n",
    "        val = \"min\"\n",
    "    elif row['count'] < 10:\n",
    "        val = \"mid\"\n",
    "    elif row['count'] < 100:\n",
    "        val = \"small\" \n",
    "    elif row['count'] < 1000:\n",
    "        val = \"large\"    \n",
    "    else:\n",
    "        val = \"xtra-large\"\n",
    "    return val\n",
    "\n",
    "dev_count_perday['fleet'] = dev_count_perday.apply(func, axis=1)"
   ]
  },
  {
   "cell_type": "code",
   "execution_count": 93,
   "metadata": {},
   "outputs": [
    {
     "data": {
      "text/html": [
       "<div>\n",
       "<style scoped>\n",
       "    .dataframe tbody tr th:only-of-type {\n",
       "        vertical-align: middle;\n",
       "    }\n",
       "\n",
       "    .dataframe tbody tr th {\n",
       "        vertical-align: top;\n",
       "    }\n",
       "\n",
       "    .dataframe thead th {\n",
       "        text-align: right;\n",
       "    }\n",
       "</style>\n",
       "<table border=\"1\" class=\"dataframe\">\n",
       "  <thead>\n",
       "    <tr style=\"text-align: right;\">\n",
       "      <th></th>\n",
       "      <th>date</th>\n",
       "      <th>user_id</th>\n",
       "      <th>count</th>\n",
       "      <th>fleet</th>\n",
       "    </tr>\n",
       "  </thead>\n",
       "  <tbody>\n",
       "    <tr>\n",
       "      <th>0</th>\n",
       "      <td>2015-05-31</td>\n",
       "      <td>1</td>\n",
       "      <td>131</td>\n",
       "      <td>large</td>\n",
       "    </tr>\n",
       "    <tr>\n",
       "      <th>1</th>\n",
       "      <td>2015-05-31</td>\n",
       "      <td>2</td>\n",
       "      <td>1</td>\n",
       "      <td>min</td>\n",
       "    </tr>\n",
       "    <tr>\n",
       "      <th>2</th>\n",
       "      <td>2015-05-31</td>\n",
       "      <td>3</td>\n",
       "      <td>1</td>\n",
       "      <td>min</td>\n",
       "    </tr>\n",
       "  </tbody>\n",
       "</table>\n",
       "</div>"
      ],
      "text/plain": [
       "         date  user_id  count  fleet\n",
       "0  2015-05-31        1    131  large\n",
       "1  2015-05-31        2      1    min\n",
       "2  2015-05-31        3      1    min"
      ]
     },
     "execution_count": 93,
     "metadata": {},
     "output_type": "execute_result"
    }
   ],
   "source": [
    "dev_count_perday[0:3]"
   ]
  },
  {
   "cell_type": "code",
   "execution_count": 94,
   "metadata": {},
   "outputs": [
    {
     "data": {
      "text/plain": [
       "date       object\n",
       "user_id     int64\n",
       "count       int64\n",
       "fleet      object\n",
       "dtype: object"
      ]
     },
     "execution_count": 94,
     "metadata": {},
     "output_type": "execute_result"
    }
   ],
   "source": [
    "dev_count_perday.dtypes"
   ]
  },
  {
   "cell_type": "code",
   "execution_count": 95,
   "metadata": {},
   "outputs": [],
   "source": [
    "fleet_seggregated = dev_count_perday.groupby(['date', 'fleet'])['count'].sum().reset_index(name='device_sum')"
   ]
  },
  {
   "cell_type": "code",
   "execution_count": 96,
   "metadata": {},
   "outputs": [],
   "source": [
    "bydate_fleet = dev_count_perday.groupby(['date', 'fleet'])['count'].sum().reset_index(name='device_sum')"
   ]
  },
  {
   "cell_type": "code",
   "execution_count": 97,
   "metadata": {},
   "outputs": [
    {
     "data": {
      "text/html": [
       "<div>\n",
       "<style scoped>\n",
       "    .dataframe tbody tr th:only-of-type {\n",
       "        vertical-align: middle;\n",
       "    }\n",
       "\n",
       "    .dataframe tbody tr th {\n",
       "        vertical-align: top;\n",
       "    }\n",
       "\n",
       "    .dataframe thead th {\n",
       "        text-align: right;\n",
       "    }\n",
       "</style>\n",
       "<table border=\"1\" class=\"dataframe\">\n",
       "  <thead>\n",
       "    <tr style=\"text-align: right;\">\n",
       "      <th></th>\n",
       "      <th>date</th>\n",
       "      <th>fleet</th>\n",
       "      <th>device_sum</th>\n",
       "    </tr>\n",
       "  </thead>\n",
       "  <tbody>\n",
       "    <tr>\n",
       "      <th>0</th>\n",
       "      <td>2015-05-31</td>\n",
       "      <td>large</td>\n",
       "      <td>131</td>\n",
       "    </tr>\n",
       "    <tr>\n",
       "      <th>1</th>\n",
       "      <td>2015-05-31</td>\n",
       "      <td>mid</td>\n",
       "      <td>45</td>\n",
       "    </tr>\n",
       "    <tr>\n",
       "      <th>2</th>\n",
       "      <td>2015-05-31</td>\n",
       "      <td>min</td>\n",
       "      <td>56</td>\n",
       "    </tr>\n",
       "  </tbody>\n",
       "</table>\n",
       "</div>"
      ],
      "text/plain": [
       "         date  fleet  device_sum\n",
       "0  2015-05-31  large         131\n",
       "1  2015-05-31    mid          45\n",
       "2  2015-05-31    min          56"
      ]
     },
     "execution_count": 97,
     "metadata": {},
     "output_type": "execute_result"
    }
   ],
   "source": [
    "fleet_seggregated[0:3]"
   ]
  },
  {
   "cell_type": "code",
   "execution_count": 98,
   "metadata": {},
   "outputs": [],
   "source": [
    "fleet_seggregated = fleet_seggregated.set_index('date')"
   ]
  },
  {
   "cell_type": "code",
   "execution_count": 99,
   "metadata": {},
   "outputs": [
    {
     "data": {
      "text/html": [
       "<div>\n",
       "<style scoped>\n",
       "    .dataframe tbody tr th:only-of-type {\n",
       "        vertical-align: middle;\n",
       "    }\n",
       "\n",
       "    .dataframe tbody tr th {\n",
       "        vertical-align: top;\n",
       "    }\n",
       "\n",
       "    .dataframe thead th {\n",
       "        text-align: right;\n",
       "    }\n",
       "</style>\n",
       "<table border=\"1\" class=\"dataframe\">\n",
       "  <thead>\n",
       "    <tr style=\"text-align: right;\">\n",
       "      <th></th>\n",
       "      <th>fleet</th>\n",
       "      <th>device_sum</th>\n",
       "    </tr>\n",
       "    <tr>\n",
       "      <th>date</th>\n",
       "      <th></th>\n",
       "      <th></th>\n",
       "    </tr>\n",
       "  </thead>\n",
       "  <tbody>\n",
       "    <tr>\n",
       "      <th>2015-05-31</th>\n",
       "      <td>large</td>\n",
       "      <td>131</td>\n",
       "    </tr>\n",
       "    <tr>\n",
       "      <th>2015-05-31</th>\n",
       "      <td>mid</td>\n",
       "      <td>45</td>\n",
       "    </tr>\n",
       "    <tr>\n",
       "      <th>2015-05-31</th>\n",
       "      <td>min</td>\n",
       "      <td>56</td>\n",
       "    </tr>\n",
       "  </tbody>\n",
       "</table>\n",
       "</div>"
      ],
      "text/plain": [
       "            fleet  device_sum\n",
       "date                         \n",
       "2015-05-31  large         131\n",
       "2015-05-31    mid          45\n",
       "2015-05-31    min          56"
      ]
     },
     "execution_count": 99,
     "metadata": {},
     "output_type": "execute_result"
    }
   ],
   "source": [
    "fleet_seggregated[0:3]"
   ]
  },
  {
   "cell_type": "code",
   "execution_count": 100,
   "metadata": {},
   "outputs": [],
   "source": [
    "fleet_seggregated_unstack = fleet_seggregated.groupby(['date', 'fleet']).mean().squeeze().unstack().add_suffix('_count')\n",
    "#fleet_seggregated_unstack = fleet_seggregated.set_index(['date'])['device_sum'].unstack().add_suffix('_count').reset_index()\n",
    "#df.set_index(['id','module'])['count'].unstack().add_suffix('_count').reset_index()"
   ]
  },
  {
   "cell_type": "code",
   "execution_count": 101,
   "metadata": {},
   "outputs": [
    {
     "data": {
      "text/html": [
       "<div>\n",
       "<style scoped>\n",
       "    .dataframe tbody tr th:only-of-type {\n",
       "        vertical-align: middle;\n",
       "    }\n",
       "\n",
       "    .dataframe tbody tr th {\n",
       "        vertical-align: top;\n",
       "    }\n",
       "\n",
       "    .dataframe thead th {\n",
       "        text-align: right;\n",
       "    }\n",
       "</style>\n",
       "<table border=\"1\" class=\"dataframe\">\n",
       "  <thead>\n",
       "    <tr style=\"text-align: right;\">\n",
       "      <th>fleet</th>\n",
       "      <th>large_count</th>\n",
       "      <th>mid_count</th>\n",
       "      <th>min_count</th>\n",
       "      <th>small_count</th>\n",
       "    </tr>\n",
       "    <tr>\n",
       "      <th>date</th>\n",
       "      <th></th>\n",
       "      <th></th>\n",
       "      <th></th>\n",
       "      <th></th>\n",
       "    </tr>\n",
       "  </thead>\n",
       "  <tbody>\n",
       "    <tr>\n",
       "      <th>2015-05-31</th>\n",
       "      <td>131.0</td>\n",
       "      <td>45.0</td>\n",
       "      <td>56.0</td>\n",
       "      <td>40.0</td>\n",
       "    </tr>\n",
       "    <tr>\n",
       "      <th>2015-06-01</th>\n",
       "      <td>NaN</td>\n",
       "      <td>19.0</td>\n",
       "      <td>16.0</td>\n",
       "      <td>NaN</td>\n",
       "    </tr>\n",
       "    <tr>\n",
       "      <th>2015-06-02</th>\n",
       "      <td>NaN</td>\n",
       "      <td>10.0</td>\n",
       "      <td>18.0</td>\n",
       "      <td>13.0</td>\n",
       "    </tr>\n",
       "  </tbody>\n",
       "</table>\n",
       "</div>"
      ],
      "text/plain": [
       "fleet       large_count  mid_count  min_count  small_count\n",
       "date                                                      \n",
       "2015-05-31        131.0       45.0       56.0         40.0\n",
       "2015-06-01          NaN       19.0       16.0          NaN\n",
       "2015-06-02          NaN       10.0       18.0         13.0"
      ]
     },
     "execution_count": 101,
     "metadata": {},
     "output_type": "execute_result"
    }
   ],
   "source": [
    "fleet_seggregated_unstack[0:3]"
   ]
  },
  {
   "cell_type": "markdown",
   "metadata": {},
   "source": [
    "## 3. Stack chart depicting the various fleet"
   ]
  },
  {
   "cell_type": "code",
   "execution_count": 102,
   "metadata": {},
   "outputs": [
    {
     "name": "stdout",
     "output_type": "stream",
     "text": [
      "default: [6.0, 4.0]\n"
     ]
    },
    {
     "name": "stderr",
     "output_type": "stream",
     "text": [
      "/usr/local/lib/python3.5/dist-packages/pandas/core/computation/check.py:19: UserWarning: The installed version of numexpr 2.4.3 is not supported in pandas and will be not be used\n",
      "The minimum supported version is 2.6.1\n",
      "\n",
      "  ver=ver, min_ver=_MIN_NUMEXPR_VERSION), UserWarning)\n"
     ]
    },
    {
     "data": {
      "text/plain": [
       "<Figure size 1440x720 with 0 Axes>"
      ]
     },
     "metadata": {},
     "output_type": "display_data"
    },
    {
     "data": {
      "image/png": "[encoded data removed]",
      "text/plain": [
       "<Figure size 1440x432 with 1 Axes>"
      ]
     },
     "metadata": {
      "needs_background": "light"
     },
     "output_type": "display_data"
    }
   ],
   "source": [
    "%matplotlib inline\n",
    "\n",
    "import pandas as pd\n",
    "import numpy as np\n",
    "import matplotlib.pyplot as plt\n",
    "\n",
    "\n",
    "fig_size = plt.rcParams[\"figure.figsize\"]\n",
    "print(\"default:\", fig_size)\n",
    "fig_size[0] = 20\n",
    "fig_size[1] = 6\n",
    "plt.rcParams[\"figure.figsize\"] =  fig_size \n",
    "\n",
    "# plot\n",
    "plt.figure(figsize=(20,10))\n",
    "fleet_seggregated_unstack.plot.area().get_figure().savefig('stacked-chart.png')"
   ]
  },
  {
   "cell_type": "code",
   "execution_count": null,
   "metadata": {},
   "outputs": [],
   "source": []
  },
  {
   "cell_type": "code",
   "execution_count": null,
   "metadata": {},
   "outputs": [],
   "source": []
  }
 ],
 "metadata": {
  "kernelspec": {
   "display_name": "Python 3",
   "language": "python",
   "name": "python3"
  },
  "language_info": {
   "codemirror_mode": {
    "name": "ipython",
    "version": 3
   },
   "file_extension": ".py",
   "mimetype": "text/x-python",
   "name": "python",
   "nbconvert_exporter": "python",
   "pygments_lexer": "ipython3",
   "version": "3.5.2"
  }
 },
 "nbformat": 4,
 "nbformat_minor": 2
}
