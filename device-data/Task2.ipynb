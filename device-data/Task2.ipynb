{
  "nbformat": 4,
  "nbformat_minor": 0,
  "metadata": {
    "kernelspec": {
      "name": "python3",
      "display_name": "Python 3"
    },
    "language_info": {
      "codemirror_mode": {
        "name": "ipython",
        "version": 3
      },
      "file_extension": ".py",
      "mimetype": "text/x-python",
      "name": "python",
      "nbconvert_exporter": "python",
      "pygments_lexer": "ipython3",
      "version": "3.5.2"
    },
    "colab": {
      "name": "Task2.ipynb",
      "provenance": [],
      "collapsed_sections": [
        "VcalyeeH4qT3",
        "K0pDsdMaB_Rg",
        "EROT_mUb20ha",
        "hXufa6iAG0vd",
        "3kFzEPUPG_Vl",
        "0rxenzUiS3jo",
        "AmB1PNr8B_Tw",
        "VQVhnKDowqLM"
      ]
    },
    "accelerator": "TPU"
  },
  "cells": [
    {
      "cell_type": "markdown",
      "metadata": {
        "id": "f-ySQNuOVwGC",
        "colab_type": "text"
      },
      "source": [
        "## 0. Init and imports"
      ]
    },
    {
      "cell_type": "code",
      "metadata": {
        "id": "rB5DikSbFBI8",
        "colab_type": "code",
        "outputId": "0a65fd8f-852a-4731-e515-26a1c104261b",
        "colab": {
          "base_uri": "https://localhost:8080/",
          "height": 127
        }
      },
      "source": [
        "from google.colab import drive\n",
        "drive.mount('/content/drive')"
      ],
      "execution_count": 1,
      "outputs": [
        {
          "output_type": "stream",
          "text": [
            "Go to this URL in a browser: https://accounts.google.com/o/oauth2/auth?client_id=947318989803-6bn6qk8qdgf4n4g3pfee6491hc0brc4i.apps.googleusercontent.com&redirect_uri=urn%3aietf%3awg%3aoauth%3a2.0%3aoob&response_type=code&scope=email%20https%3a%2f%2fwww.googleapis.com%2fauth%2fdocs.test%20https%3a%2f%2fwww.googleapis.com%2fauth%2fdrive%20https%3a%2f%2fwww.googleapis.com%2fauth%2fdrive.photos.readonly%20https%3a%2f%2fwww.googleapis.com%2fauth%2fpeopleapi.readonly\n",
            "\n",
            "Enter your authorization code:\n",
            "··········\n",
            "Mounted at /content/drive\n"
          ],
          "name": "stdout"
        }
      ]
    },
    {
      "cell_type": "markdown",
      "metadata": {
        "id": "SMZkJvbnYIpg",
        "colab_type": "text"
      },
      "source": [
        "drive.flush_and_unmount()  \n",
        "All changes made in this colab session should now be visible in Drive."
      ]
    },
    {
      "cell_type": "code",
      "metadata": {
        "id": "YYU48W9hB_Ps",
        "colab_type": "code",
        "colab": {}
      },
      "source": [
        "#imports\n",
        "\n",
        "from math import sqrt\n",
        "from datetime import datetime, timedelta\n",
        "\n",
        "# for scaling and inverse_transform\n",
        "from sklearn.preprocessing import MinMaxScaler\n",
        "from sklearn.metrics import mean_squared_error\n",
        "\n",
        "from pandas import read_csv\n",
        "import pandas as pd\n",
        "import numpy as np\n",
        "\n",
        "import matplotlib.pyplot as plt\n",
        "import matplotlib.dates as mdates"
      ],
      "execution_count": 0,
      "outputs": []
    },
    {
      "cell_type": "code",
      "metadata": {
        "id": "ivG7437YWt-g",
        "colab_type": "code",
        "colab": {}
      },
      "source": [
        "data_path =  r\"/content/drive/My Drive/colabData/\""
      ],
      "execution_count": 0,
      "outputs": []
    },
    {
      "cell_type": "code",
      "metadata": {
        "id": "g9L3wvmv8dR-",
        "colab_type": "code",
        "outputId": "f102365c-10cc-43a8-f084-55472df99070",
        "colab": {
          "base_uri": "https://localhost:8080/",
          "height": 35
        }
      },
      "source": [
        "data_path"
      ],
      "execution_count": 5,
      "outputs": [
        {
          "output_type": "execute_result",
          "data": {
            "text/plain": [
              "'/content/drive/My Drive/colabData/'"
            ]
          },
          "metadata": {
            "tags": []
          },
          "execution_count": 5
        }
      ]
    },
    {
      "cell_type": "markdown",
      "metadata": {
        "id": "ir8YLYLOB_P3",
        "colab_type": "text"
      },
      "source": [
        "## 1. Read the raw csv data"
      ]
    },
    {
      "cell_type": "code",
      "metadata": {
        "id": "CfCvvRugB_P5",
        "colab_type": "code",
        "colab": {}
      },
      "source": [
        "cols=['id', 'created_at', 'destroyed_at']\n",
        "server_data = pd.read_csv(data_path + \"servers.csv\", delimiter=\",\", names=cols, header=None )"
      ],
      "execution_count": 0,
      "outputs": []
    },
    {
      "cell_type": "code",
      "metadata": {
        "id": "6scowPNaB_P-",
        "colab_type": "code",
        "colab": {}
      },
      "source": [
        "cols=['timestamp', 'device_id', 'user_id','server_id', 'connected']\n",
        "dtypes = {'timestamp': 'str', 'device_id': 'int', 'user_id': 'int', 'server_id': 'int', 'connected':'bool'}\n",
        "parse_dates = ['timestamp']\n",
        "events_data = pd.read_csv(data_path + \"connectivity_events.csv\", delimiter=\",\", names=cols, header=None,dtype=dtypes, parse_dates=parse_dates )"
      ],
      "execution_count": 0,
      "outputs": []
    },
    {
      "cell_type": "code",
      "metadata": {
        "id": "Gq52gH6NB_QC",
        "colab_type": "code",
        "outputId": "fff655d1-8660-4ce1-8a87-a90815191c47",
        "colab": {
          "base_uri": "https://localhost:8080/",
          "height": 35
        }
      },
      "source": [
        "events_data.shape"
      ],
      "execution_count": 0,
      "outputs": [
        {
          "output_type": "execute_result",
          "data": {
            "text/plain": [
              "(9308207, 5)"
            ]
          },
          "metadata": {
            "tags": []
          },
          "execution_count": 231
        }
      ]
    },
    {
      "cell_type": "code",
      "metadata": {
        "id": "ISxO8fLaB_QK",
        "colab_type": "code",
        "outputId": "cc6a569b-5006-4c72-cdd2-0d2c2b3b6970",
        "colab": {
          "base_uri": "https://localhost:8080/",
          "height": 35
        }
      },
      "source": [
        "events_data.columns"
      ],
      "execution_count": 0,
      "outputs": [
        {
          "output_type": "execute_result",
          "data": {
            "text/plain": [
              "Index(['timestamp', 'device_id', 'user_id', 'server_id', 'connected'], dtype='object')"
            ]
          },
          "metadata": {
            "tags": []
          },
          "execution_count": 232
        }
      ]
    },
    {
      "cell_type": "code",
      "metadata": {
        "id": "dLRuCRkMB_QP",
        "colab_type": "code",
        "outputId": "916e57b7-d2da-4d81-cda3-5dfaa9489c3b",
        "colab": {
          "base_uri": "https://localhost:8080/",
          "height": 125
        }
      },
      "source": [
        "events_data.dtypes"
      ],
      "execution_count": 0,
      "outputs": [
        {
          "output_type": "execute_result",
          "data": {
            "text/plain": [
              "timestamp    datetime64[ns]\n",
              "device_id             int64\n",
              "user_id               int64\n",
              "server_id             int64\n",
              "connected              bool\n",
              "dtype: object"
            ]
          },
          "metadata": {
            "tags": []
          },
          "execution_count": 233
        }
      ]
    },
    {
      "cell_type": "markdown",
      "metadata": {
        "id": "DdmjkJTPB_QV",
        "colab_type": "text"
      },
      "source": [
        "## 2. Fill and process the device event stream data "
      ]
    },
    {
      "cell_type": "code",
      "metadata": {
        "id": "qUdq_iQmB_QX",
        "colab_type": "code",
        "colab": {}
      },
      "source": [
        "# start, end takes pandas.Timestamp\n",
        "def fillDates(start, end):\n",
        "    #print(\"fillDates\", type(start), start, type(end),end)\n",
        "    dates = list()\n",
        "    for i in  range(1,(end.date() - start.date()).days):\n",
        "        oneday = pd.Timedelta('%d days'%i)\n",
        "        dates.append(start + oneday)\n",
        "    return dates"
      ],
      "execution_count": 0,
      "outputs": []
    },
    {
      "cell_type": "code",
      "metadata": {
        "id": "AJhe0qGGB_Qg",
        "colab_type": "code",
        "colab": {}
      },
      "source": [
        "def processEventStream(row):\n",
        "    r = list()\n",
        "    dates = list()\n",
        "    #print(row)\n",
        "\n",
        "    try:\n",
        "        if (device_state[row[1]]):\n",
        "            #print(\"device details exist\")\n",
        "            #print(row)\n",
        "            timestamp = row [0]\n",
        "            device_id = row [1]\n",
        "            user_id = row [2]\n",
        "            server_id = row [3]\n",
        "            next_event = row [4]\n",
        "            \n",
        "            if device_state[row[1]][\"state\"]: # current event 'online'\n",
        "                if next_event: # next event 'online'\n",
        "                    if device_state[row[1]][\"server\"] == server_id: # case 1\n",
        "                        # Assume device was online from current event's timestamp until next event's timestamp\n",
        "                        dates = fillDates(device_state[row[1]][\"timestamp\"], timestamp)\n",
        "                    else: # case 2 different server\n",
        "                        # get previous server destruction time\n",
        "                        destruction_time = pd.Timestamp(server_data[server_data['id'] == 2]['destroyed_at'].values[0])\n",
        "                        if (pd.Timestamp(destruction_time) < timestamp):\n",
        "                            dates = fillDates(device_state[row[1]][\"timestamp\"], destruction_time)\n",
        "                        else:\n",
        "                            dates = fillDates(device_state[row[1]][\"timestamp\"], timestamp)\n",
        "                    \n",
        "                    #update the state dictionary Case 1 & 2\n",
        "                    state_dict = {\"state\": next_event, \"server\":server_id, \"timestamp\":timestamp}\n",
        "                    device_state[device_id] = state_dict        \n",
        "                else:# next event 'offline', \n",
        "                    if device_state[row[1]][\"server\"] == server_id: # case 3 Normal case, same next server\n",
        "                        #update the state dictionary Case 3\n",
        "                        state_dict = {\"state\": next_event, \"server\":server_id, \"timestamp\":timestamp}\n",
        "                        device_state[device_id] = state_dict\n",
        "                    else:# case 4, different next server\n",
        "                        # get previous server destruction time\n",
        "                        destruction_time = pd.Timestamp(server_data[server_data['id'] == 2]['destroyed_at'].values[0])\n",
        "                        dates = fillDates(device_state[row[1]][\"timestamp\"], destruction_time)\n",
        "                        # *NO* update for the state dictionary in Case 4\n",
        "            else:  # current event 'offline'\n",
        "                if next_event: # next event 'online' # case 5 & case 6: Normal Case\n",
        "                        #update the state dictionary: case 5 & 6\n",
        "                        state_dict = {\"state\": next_event, \"server\":server_id, \"timestamp\":timestamp}\n",
        "                        device_state[device_id] = state_dict\n",
        "                        dates = list().append(timestamp)\n",
        "                else: # next event 'offline' # case 7 &  case 8\n",
        "                        pass # Ignore next event\n",
        "                \n",
        "            if dates:\n",
        "                for d in dates:\n",
        "                    newentry = list()\n",
        "                    newentry.append(d)\n",
        "                    newentry.append(device_id)\n",
        "                    newentry.append(user_id)\n",
        "                    #print(newentry)\n",
        "                    rows_list.append(newentry)\n",
        "                #print(\"more dates\", dates)\n",
        "            \n",
        "    except KeyError:\n",
        "        state_dict = {\"state\":row[4], \"server\":row[3], \"timestamp\":row[0]}\n",
        "        device_state[row[1]] = state_dict\n",
        "        #print(row[1], device_state[row[1]])\n",
        "        if (row[4]):\n",
        "            r = row.tolist()\n",
        "            #print(\"r\",type(r))\n",
        "            rows_list.append(r[0:3]) \n",
        "\n",
        "    return r\n"
      ],
      "execution_count": 0,
      "outputs": []
    },
    {
      "cell_type": "code",
      "metadata": {
        "id": "gFkVLN8kB_Ql",
        "colab_type": "code",
        "colab": {}
      },
      "source": [
        "device_state = dict()\n",
        "rows_list = list()\n",
        "#print( device_state)\n",
        "#df = small_data.apply(processEventStream, axis=1)\n",
        "events_data=events_data.apply(processEventStream, axis=1)"
      ],
      "execution_count": 0,
      "outputs": []
    },
    {
      "cell_type": "markdown",
      "metadata": {
        "id": "dgtVd5PgB_Qr",
        "colab_type": "text"
      },
      "source": [
        "## 3. Calculate daily number of (unique) devices connected"
      ]
    },
    {
      "cell_type": "code",
      "metadata": {
        "id": "D_5-M3hTB_Qu",
        "colab_type": "code",
        "colab": {}
      },
      "source": [
        "events_data_connected =  pd.DataFrame(rows_list)\n",
        "events_data_connected.columns = [\"timestamp\", \"device_id\", \"user_id\"]"
      ],
      "execution_count": 0,
      "outputs": []
    },
    {
      "cell_type": "code",
      "metadata": {
        "id": "c0fIMTjyB_Q3",
        "colab_type": "code",
        "colab": {}
      },
      "source": [
        "events_data_connected=events_data_connected.dropna()"
      ],
      "execution_count": 0,
      "outputs": []
    },
    {
      "cell_type": "code",
      "metadata": {
        "id": "QuhLpDxdB_Q8",
        "colab_type": "code",
        "colab": {}
      },
      "source": [
        "events_data_connected['date'] = pd.DatetimeIndex(events_data_connected['timestamp']).date"
      ],
      "execution_count": 0,
      "outputs": []
    },
    {
      "cell_type": "code",
      "metadata": {
        "id": "yCBCPGDz8J26",
        "colab_type": "code",
        "colab": {}
      },
      "source": [
        "events_data_connected = events_data_connected.drop(columns=['timestamp'])"
      ],
      "execution_count": 0,
      "outputs": []
    },
    {
      "cell_type": "code",
      "metadata": {
        "id": "Z4AXktof7oIg",
        "colab_type": "code",
        "outputId": "fcd57f02-353c-4c18-ff7e-422e13567a31",
        "colab": {
          "base_uri": "https://localhost:8080/",
          "height": 35
        }
      },
      "source": [
        "events_data_connected.columns"
      ],
      "execution_count": 0,
      "outputs": [
        {
          "output_type": "execute_result",
          "data": {
            "text/plain": [
              "Index(['device_id', 'user_id', 'date'], dtype='object')"
            ]
          },
          "metadata": {
            "tags": []
          },
          "execution_count": 276
        }
      ]
    },
    {
      "cell_type": "code",
      "metadata": {
        "id": "BUTz_9-nB_RD",
        "colab_type": "code",
        "colab": {}
      },
      "source": [
        "unique_device_per_day = events_data_connected.drop_duplicates([\"date\", \"device_id\"],keep = \"first\")"
      ],
      "execution_count": 0,
      "outputs": []
    },
    {
      "cell_type": "code",
      "metadata": {
        "id": "4F1ax18A2u7y",
        "colab_type": "code",
        "colab": {}
      },
      "source": [
        "unique_device_per_day.to_csv(data_path + \"unique_device_daily.csv\", index=False)"
      ],
      "execution_count": 0,
      "outputs": []
    },
    {
      "cell_type": "code",
      "metadata": {
        "id": "PftbpbvU6AjX",
        "colab_type": "code",
        "outputId": "6b7aff0d-ec18-4d04-a2e8-d9e016d98819",
        "colab": {
          "base_uri": "https://localhost:8080/",
          "height": 197
        }
      },
      "source": [
        "!head /content/drive/My\\ Drive/colabData/unique_device_daily.csv"
      ],
      "execution_count": 0,
      "outputs": [
        {
          "output_type": "stream",
          "text": [
            "device_id,user_id,date\n",
            "100,4,2015-05-31\n",
            "101,1,2015-05-31\n",
            "102,1,2015-05-31\n",
            "103,26,2015-05-31\n",
            "104,1,2015-05-31\n",
            "105,1,2015-05-31\n",
            "106,1,2015-05-31\n",
            "10,6,2015-05-31\n",
            "107,1,2015-05-31\n"
          ],
          "name": "stdout"
        }
      ]
    },
    {
      "cell_type": "markdown",
      "metadata": {
        "id": "VcalyeeH4qT3",
        "colab_type": "text"
      },
      "source": [
        "## 3.1 Read unique_device_per_day from the csv instead of processing again and again"
      ]
    },
    {
      "cell_type": "code",
      "metadata": {
        "id": "GdDx_ajb5jj1",
        "colab_type": "code",
        "colab": {}
      },
      "source": [
        "#cols=['id', 'created_at', 'destroyed_at']\n",
        "df_device_daily = pd.read_csv(data_path + \"unique_device_daily.csv\", delimiter=\",\")"
      ],
      "execution_count": 0,
      "outputs": []
    },
    {
      "cell_type": "code",
      "metadata": {
        "id": "ON3BasmF6dCs",
        "colab_type": "code",
        "outputId": "a44c91d7-8d8b-4a45-eb42-27e5648505a3",
        "colab": {
          "base_uri": "https://localhost:8080/",
          "height": 269
        }
      },
      "source": [
        "df_device_daily.head"
      ],
      "execution_count": 0,
      "outputs": [
        {
          "output_type": "execute_result",
          "data": {
            "text/plain": [
              "<bound method NDFrame.head of        device_id  user_id        date\n",
              "0            100        4  2015-05-31\n",
              "1            101        1  2015-05-31\n",
              "2            102        1  2015-05-31\n",
              "3            103       26  2015-05-31\n",
              "4            104        1  2015-05-31\n",
              "...          ...      ...         ...\n",
              "56582      56298     4445  2018-02-28\n",
              "56583      56299     5455  2018-02-28\n",
              "56584      56300     4824  2018-02-28\n",
              "56585      56301     4445  2018-02-28\n",
              "56586      56302     5219  2018-02-28\n",
              "\n",
              "[56587 rows x 3 columns]>"
            ]
          },
          "metadata": {
            "tags": []
          },
          "execution_count": 282
        }
      ]
    },
    {
      "cell_type": "code",
      "metadata": {
        "id": "EF8mcRsJB_RI",
        "colab_type": "code",
        "colab": {}
      },
      "source": [
        "#dev_count_perday_peruser = unique_device_per_day.groupby(['date', 'user_id']).agg({'device_id':[\"count\"]})"
      ],
      "execution_count": 0,
      "outputs": []
    },
    {
      "cell_type": "code",
      "metadata": {
        "id": "2RXARNCGB_RS",
        "colab_type": "code",
        "colab": {}
      },
      "source": [
        "#dev_count_perday_peruser.columns"
      ],
      "execution_count": 0,
      "outputs": []
    },
    {
      "cell_type": "code",
      "metadata": {
        "id": "-kjhrYRAB_RX",
        "colab_type": "code",
        "colab": {}
      },
      "source": [
        "#dev_count_perday_peruser"
      ],
      "execution_count": 0,
      "outputs": []
    },
    {
      "cell_type": "code",
      "metadata": {
        "id": "KpwymPBsB_Rc",
        "colab_type": "code",
        "colab": {}
      },
      "source": [
        "dev_count_perday = df_device_daily.groupby(['date'])['device_id'].count().reset_index(name='count')"
      ],
      "execution_count": 0,
      "outputs": []
    },
    {
      "cell_type": "code",
      "metadata": {
        "id": "k2vsicftH2EV",
        "colab_type": "code",
        "outputId": "4e85a0fb-cdcc-49b0-f637-84319b1b2ab9",
        "colab": {
          "base_uri": "https://localhost:8080/",
          "height": 419
        }
      },
      "source": [
        "dev_count_perday"
      ],
      "execution_count": 0,
      "outputs": [
        {
          "output_type": "execute_result",
          "data": {
            "text/html": [
              "<div>\n",
              "<style scoped>\n",
              "    .dataframe tbody tr th:only-of-type {\n",
              "        vertical-align: middle;\n",
              "    }\n",
              "\n",
              "    .dataframe tbody tr th {\n",
              "        vertical-align: top;\n",
              "    }\n",
              "\n",
              "    .dataframe thead th {\n",
              "        text-align: right;\n",
              "    }\n",
              "</style>\n",
              "<table border=\"1\" class=\"dataframe\">\n",
              "  <thead>\n",
              "    <tr style=\"text-align: right;\">\n",
              "      <th></th>\n",
              "      <th>date</th>\n",
              "      <th>count</th>\n",
              "    </tr>\n",
              "  </thead>\n",
              "  <tbody>\n",
              "    <tr>\n",
              "      <th>0</th>\n",
              "      <td>2015-05-31</td>\n",
              "      <td>272</td>\n",
              "    </tr>\n",
              "    <tr>\n",
              "      <th>1</th>\n",
              "      <td>2015-06-01</td>\n",
              "      <td>35</td>\n",
              "    </tr>\n",
              "    <tr>\n",
              "      <th>2</th>\n",
              "      <td>2015-06-02</td>\n",
              "      <td>41</td>\n",
              "    </tr>\n",
              "    <tr>\n",
              "      <th>3</th>\n",
              "      <td>2015-06-03</td>\n",
              "      <td>30</td>\n",
              "    </tr>\n",
              "    <tr>\n",
              "      <th>4</th>\n",
              "      <td>2015-06-04</td>\n",
              "      <td>21</td>\n",
              "    </tr>\n",
              "    <tr>\n",
              "      <th>...</th>\n",
              "      <td>...</td>\n",
              "      <td>...</td>\n",
              "    </tr>\n",
              "    <tr>\n",
              "      <th>1000</th>\n",
              "      <td>2018-02-24</td>\n",
              "      <td>121</td>\n",
              "    </tr>\n",
              "    <tr>\n",
              "      <th>1001</th>\n",
              "      <td>2018-02-25</td>\n",
              "      <td>98</td>\n",
              "    </tr>\n",
              "    <tr>\n",
              "      <th>1002</th>\n",
              "      <td>2018-02-26</td>\n",
              "      <td>179</td>\n",
              "    </tr>\n",
              "    <tr>\n",
              "      <th>1003</th>\n",
              "      <td>2018-02-27</td>\n",
              "      <td>212</td>\n",
              "    </tr>\n",
              "    <tr>\n",
              "      <th>1004</th>\n",
              "      <td>2018-02-28</td>\n",
              "      <td>240</td>\n",
              "    </tr>\n",
              "  </tbody>\n",
              "</table>\n",
              "<p>1005 rows × 2 columns</p>\n",
              "</div>"
            ],
            "text/plain": [
              "            date  count\n",
              "0     2015-05-31    272\n",
              "1     2015-06-01     35\n",
              "2     2015-06-02     41\n",
              "3     2015-06-03     30\n",
              "4     2015-06-04     21\n",
              "...          ...    ...\n",
              "1000  2018-02-24    121\n",
              "1001  2018-02-25     98\n",
              "1002  2018-02-26    179\n",
              "1003  2018-02-27    212\n",
              "1004  2018-02-28    240\n",
              "\n",
              "[1005 rows x 2 columns]"
            ]
          },
          "metadata": {
            "tags": []
          },
          "execution_count": 289
        }
      ]
    },
    {
      "cell_type": "markdown",
      "metadata": {
        "id": "K0pDsdMaB_Rg",
        "colab_type": "text"
      },
      "source": [
        "#### Chart device count per day"
      ]
    },
    {
      "cell_type": "code",
      "metadata": {
        "id": "jUNoLY-GJAy3",
        "colab_type": "code",
        "outputId": "0f3cd5df-ab3a-4a72-f3e8-48f8f57a62bd",
        "colab": {
          "base_uri": "https://localhost:8080/",
          "height": 603
        }
      },
      "source": [
        "plt.gca().xaxis.set_major_formatter(mdates.DateFormatter('%Y-%m-%d'))\n",
        "plt.gca().xaxis.set_major_locator(mdates.DayLocator(interval=30))\n",
        "plt.plot(dev_count_perday[\"date\"], dev_count_perday[\"count\"], \"-b\", label='all data')\n",
        "plt.legend(loc=\"upper right\")\n",
        "plt.gcf().autofmt_xdate()\n",
        "\n",
        "fig_size = plt.rcParams[\"figure.figsize\"]\n",
        "print(\"default:\", fig_size)\n",
        "fig_size[0] = 24\n",
        "fig_size[1] = 10\n",
        "plt.rcParams[\"figure.figsize\"] =  fig_size \n",
        "\n",
        "plt.show()"
      ],
      "execution_count": 0,
      "outputs": [
        {
          "output_type": "stream",
          "text": [
            "default: [24.0, 10.0]\n"
          ],
          "name": "stdout"
        },
        {
          "output_type": "display_data",
          "data": {
            "image/png": "[encoded data removed]",
            "text/plain": [
              "<Figure size 1728x720 with 1 Axes>"
            ]
          },
          "metadata": {
            "tags": []
          }
        }
      ]
    },
    {
      "cell_type": "code",
      "metadata": {
        "id": "mMdih9fxK9_A",
        "colab_type": "code",
        "colab": {}
      },
      "source": [
        "dev_count_perday = dev_count_perday[1:]"
      ],
      "execution_count": 0,
      "outputs": []
    },
    {
      "cell_type": "code",
      "metadata": {
        "id": "-cltk2aZSWJ-",
        "colab_type": "code",
        "outputId": "118a1c9a-d156-41ba-c92f-cfc99a6667ea",
        "colab": {
          "base_uri": "https://localhost:8080/",
          "height": 142
        }
      },
      "source": [
        "dev_count_perday[0:3]"
      ],
      "execution_count": 0,
      "outputs": [
        {
          "output_type": "execute_result",
          "data": {
            "text/html": [
              "<div>\n",
              "<style scoped>\n",
              "    .dataframe tbody tr th:only-of-type {\n",
              "        vertical-align: middle;\n",
              "    }\n",
              "\n",
              "    .dataframe tbody tr th {\n",
              "        vertical-align: top;\n",
              "    }\n",
              "\n",
              "    .dataframe thead th {\n",
              "        text-align: right;\n",
              "    }\n",
              "</style>\n",
              "<table border=\"1\" class=\"dataframe\">\n",
              "  <thead>\n",
              "    <tr style=\"text-align: right;\">\n",
              "      <th></th>\n",
              "      <th>date</th>\n",
              "      <th>count</th>\n",
              "    </tr>\n",
              "  </thead>\n",
              "  <tbody>\n",
              "    <tr>\n",
              "      <th>1</th>\n",
              "      <td>2015-06-01</td>\n",
              "      <td>35</td>\n",
              "    </tr>\n",
              "    <tr>\n",
              "      <th>2</th>\n",
              "      <td>2015-06-02</td>\n",
              "      <td>41</td>\n",
              "    </tr>\n",
              "    <tr>\n",
              "      <th>3</th>\n",
              "      <td>2015-06-03</td>\n",
              "      <td>30</td>\n",
              "    </tr>\n",
              "  </tbody>\n",
              "</table>\n",
              "</div>"
            ],
            "text/plain": [
              "         date  count\n",
              "1  2015-06-01     35\n",
              "2  2015-06-02     41\n",
              "3  2015-06-03     30"
            ]
          },
          "metadata": {
            "tags": []
          },
          "execution_count": 117
        }
      ]
    },
    {
      "cell_type": "markdown",
      "metadata": {
        "id": "EROT_mUb20ha",
        "colab_type": "text"
      },
      "source": [
        "## 4. Monthly estimation"
      ]
    },
    {
      "cell_type": "code",
      "metadata": {
        "id": "32OEjF0rMQhN",
        "colab_type": "code",
        "colab": {}
      },
      "source": [
        "dev_count_monthly = dev_count_perday.copy()\n",
        "dev_count_monthly.date = pd.to_datetime(dev_count_monthly.date)\n",
        "dev_count_monthly.set_index('date', inplace=True)"
      ],
      "execution_count": 0,
      "outputs": []
    },
    {
      "cell_type": "code",
      "metadata": {
        "id": "hdda_iObMK-v",
        "colab_type": "code",
        "colab": {}
      },
      "source": [
        "dev_count_monthly = dev_count_monthly.resample('M', label='right').sum()"
      ],
      "execution_count": 0,
      "outputs": []
    },
    {
      "cell_type": "code",
      "metadata": {
        "id": "uYZNPnmzeOV5",
        "colab_type": "code",
        "outputId": "29466e4a-8efb-45e9-a94f-03d164ccb62e",
        "colab": {
          "base_uri": "https://localhost:8080/",
          "height": 35
        }
      },
      "source": [
        "dev_count_monthly.shape"
      ],
      "execution_count": 0,
      "outputs": [
        {
          "output_type": "execute_result",
          "data": {
            "text/plain": [
              "(33, 1)"
            ]
          },
          "metadata": {
            "tags": []
          },
          "execution_count": 120
        }
      ]
    },
    {
      "cell_type": "code",
      "metadata": {
        "id": "jpfnaG16OAVp",
        "colab_type": "code",
        "outputId": "4c7c07f4-800a-4fdf-b838-a544273c14ed",
        "colab": {
          "base_uri": "https://localhost:8080/",
          "height": 1000
        }
      },
      "source": [
        "dev_count_monthly"
      ],
      "execution_count": 0,
      "outputs": [
        {
          "output_type": "execute_result",
          "data": {
            "text/html": [
              "<div>\n",
              "<style scoped>\n",
              "    .dataframe tbody tr th:only-of-type {\n",
              "        vertical-align: middle;\n",
              "    }\n",
              "\n",
              "    .dataframe tbody tr th {\n",
              "        vertical-align: top;\n",
              "    }\n",
              "\n",
              "    .dataframe thead th {\n",
              "        text-align: right;\n",
              "    }\n",
              "</style>\n",
              "<table border=\"1\" class=\"dataframe\">\n",
              "  <thead>\n",
              "    <tr style=\"text-align: right;\">\n",
              "      <th></th>\n",
              "      <th>count</th>\n",
              "    </tr>\n",
              "    <tr>\n",
              "      <th>date</th>\n",
              "      <th></th>\n",
              "    </tr>\n",
              "  </thead>\n",
              "  <tbody>\n",
              "    <tr>\n",
              "      <th>2015-06-30</th>\n",
              "      <td>461</td>\n",
              "    </tr>\n",
              "    <tr>\n",
              "      <th>2015-07-31</th>\n",
              "      <td>503</td>\n",
              "    </tr>\n",
              "    <tr>\n",
              "      <th>2015-08-31</th>\n",
              "      <td>589</td>\n",
              "    </tr>\n",
              "    <tr>\n",
              "      <th>2015-09-30</th>\n",
              "      <td>428</td>\n",
              "    </tr>\n",
              "    <tr>\n",
              "      <th>2015-10-31</th>\n",
              "      <td>514</td>\n",
              "    </tr>\n",
              "    <tr>\n",
              "      <th>2015-11-30</th>\n",
              "      <td>384</td>\n",
              "    </tr>\n",
              "    <tr>\n",
              "      <th>2015-12-31</th>\n",
              "      <td>472</td>\n",
              "    </tr>\n",
              "    <tr>\n",
              "      <th>2016-01-31</th>\n",
              "      <td>410</td>\n",
              "    </tr>\n",
              "    <tr>\n",
              "      <th>2016-02-29</th>\n",
              "      <td>388</td>\n",
              "    </tr>\n",
              "    <tr>\n",
              "      <th>2016-03-31</th>\n",
              "      <td>504</td>\n",
              "    </tr>\n",
              "    <tr>\n",
              "      <th>2016-04-30</th>\n",
              "      <td>546</td>\n",
              "    </tr>\n",
              "    <tr>\n",
              "      <th>2016-05-31</th>\n",
              "      <td>534</td>\n",
              "    </tr>\n",
              "    <tr>\n",
              "      <th>2016-06-30</th>\n",
              "      <td>570</td>\n",
              "    </tr>\n",
              "    <tr>\n",
              "      <th>2016-07-31</th>\n",
              "      <td>552</td>\n",
              "    </tr>\n",
              "    <tr>\n",
              "      <th>2016-08-31</th>\n",
              "      <td>925</td>\n",
              "    </tr>\n",
              "    <tr>\n",
              "      <th>2016-09-30</th>\n",
              "      <td>875</td>\n",
              "    </tr>\n",
              "    <tr>\n",
              "      <th>2016-10-31</th>\n",
              "      <td>942</td>\n",
              "    </tr>\n",
              "    <tr>\n",
              "      <th>2016-11-30</th>\n",
              "      <td>1004</td>\n",
              "    </tr>\n",
              "    <tr>\n",
              "      <th>2016-12-31</th>\n",
              "      <td>873</td>\n",
              "    </tr>\n",
              "    <tr>\n",
              "      <th>2017-01-31</th>\n",
              "      <td>1236</td>\n",
              "    </tr>\n",
              "    <tr>\n",
              "      <th>2017-02-28</th>\n",
              "      <td>856</td>\n",
              "    </tr>\n",
              "    <tr>\n",
              "      <th>2017-03-31</th>\n",
              "      <td>1418</td>\n",
              "    </tr>\n",
              "    <tr>\n",
              "      <th>2017-04-30</th>\n",
              "      <td>1694</td>\n",
              "    </tr>\n",
              "    <tr>\n",
              "      <th>2017-05-31</th>\n",
              "      <td>2139</td>\n",
              "    </tr>\n",
              "    <tr>\n",
              "      <th>2017-06-30</th>\n",
              "      <td>2565</td>\n",
              "    </tr>\n",
              "    <tr>\n",
              "      <th>2017-07-31</th>\n",
              "      <td>2558</td>\n",
              "    </tr>\n",
              "    <tr>\n",
              "      <th>2017-08-31</th>\n",
              "      <td>4911</td>\n",
              "    </tr>\n",
              "    <tr>\n",
              "      <th>2017-09-30</th>\n",
              "      <td>3990</td>\n",
              "    </tr>\n",
              "    <tr>\n",
              "      <th>2017-10-31</th>\n",
              "      <td>5329</td>\n",
              "    </tr>\n",
              "    <tr>\n",
              "      <th>2017-11-30</th>\n",
              "      <td>4116</td>\n",
              "    </tr>\n",
              "    <tr>\n",
              "      <th>2017-12-31</th>\n",
              "      <td>3864</td>\n",
              "    </tr>\n",
              "    <tr>\n",
              "      <th>2018-01-31</th>\n",
              "      <td>5240</td>\n",
              "    </tr>\n",
              "    <tr>\n",
              "      <th>2018-02-28</th>\n",
              "      <td>4925</td>\n",
              "    </tr>\n",
              "  </tbody>\n",
              "</table>\n",
              "</div>"
            ],
            "text/plain": [
              "            count\n",
              "date             \n",
              "2015-06-30    461\n",
              "2015-07-31    503\n",
              "2015-08-31    589\n",
              "2015-09-30    428\n",
              "2015-10-31    514\n",
              "2015-11-30    384\n",
              "2015-12-31    472\n",
              "2016-01-31    410\n",
              "2016-02-29    388\n",
              "2016-03-31    504\n",
              "2016-04-30    546\n",
              "2016-05-31    534\n",
              "2016-06-30    570\n",
              "2016-07-31    552\n",
              "2016-08-31    925\n",
              "2016-09-30    875\n",
              "2016-10-31    942\n",
              "2016-11-30   1004\n",
              "2016-12-31    873\n",
              "2017-01-31   1236\n",
              "2017-02-28    856\n",
              "2017-03-31   1418\n",
              "2017-04-30   1694\n",
              "2017-05-31   2139\n",
              "2017-06-30   2565\n",
              "2017-07-31   2558\n",
              "2017-08-31   4911\n",
              "2017-09-30   3990\n",
              "2017-10-31   5329\n",
              "2017-11-30   4116\n",
              "2017-12-31   3864\n",
              "2018-01-31   5240\n",
              "2018-02-28   4925"
            ]
          },
          "metadata": {
            "tags": []
          },
          "execution_count": 121
        }
      ]
    },
    {
      "cell_type": "code",
      "metadata": {
        "id": "NteJHRcs3ECS",
        "colab_type": "code",
        "outputId": "093e8855-5c63-42ea-fb1d-7e0c818187c7",
        "colab": {
          "base_uri": "https://localhost:8080/",
          "height": 173
        }
      },
      "source": [
        "dev_count_monthly[-3:]"
      ],
      "execution_count": 0,
      "outputs": [
        {
          "output_type": "execute_result",
          "data": {
            "text/html": [
              "<div>\n",
              "<style scoped>\n",
              "    .dataframe tbody tr th:only-of-type {\n",
              "        vertical-align: middle;\n",
              "    }\n",
              "\n",
              "    .dataframe tbody tr th {\n",
              "        vertical-align: top;\n",
              "    }\n",
              "\n",
              "    .dataframe thead th {\n",
              "        text-align: right;\n",
              "    }\n",
              "</style>\n",
              "<table border=\"1\" class=\"dataframe\">\n",
              "  <thead>\n",
              "    <tr style=\"text-align: right;\">\n",
              "      <th></th>\n",
              "      <th>count</th>\n",
              "    </tr>\n",
              "    <tr>\n",
              "      <th>date</th>\n",
              "      <th></th>\n",
              "    </tr>\n",
              "  </thead>\n",
              "  <tbody>\n",
              "    <tr>\n",
              "      <th>2017-12-31</th>\n",
              "      <td>3864</td>\n",
              "    </tr>\n",
              "    <tr>\n",
              "      <th>2018-01-31</th>\n",
              "      <td>5240</td>\n",
              "    </tr>\n",
              "    <tr>\n",
              "      <th>2018-02-28</th>\n",
              "      <td>4925</td>\n",
              "    </tr>\n",
              "  </tbody>\n",
              "</table>\n",
              "</div>"
            ],
            "text/plain": [
              "            count\n",
              "date             \n",
              "2017-12-31   3864\n",
              "2018-01-31   5240\n",
              "2018-02-28   4925"
            ]
          },
          "metadata": {
            "tags": []
          },
          "execution_count": 122
        }
      ]
    },
    {
      "cell_type": "code",
      "metadata": {
        "id": "jc8gFou-Lodb",
        "colab_type": "code",
        "outputId": "37a80cc8-d08d-437a-efd5-e6c3f11a6849",
        "colab": {
          "base_uri": "https://localhost:8080/",
          "height": 323
        }
      },
      "source": [
        "dev_count_monthly.index.values"
      ],
      "execution_count": 0,
      "outputs": [
        {
          "output_type": "execute_result",
          "data": {
            "text/plain": [
              "array(['2015-06-30T00:00:00.000000000', '2015-07-31T00:00:00.000000000',\n",
              "       '2015-08-31T00:00:00.000000000', '2015-09-30T00:00:00.000000000',\n",
              "       '2015-10-31T00:00:00.000000000', '2015-11-30T00:00:00.000000000',\n",
              "       '2015-12-31T00:00:00.000000000', '2016-01-31T00:00:00.000000000',\n",
              "       '2016-02-29T00:00:00.000000000', '2016-03-31T00:00:00.000000000',\n",
              "       '2016-04-30T00:00:00.000000000', '2016-05-31T00:00:00.000000000',\n",
              "       '2016-06-30T00:00:00.000000000', '2016-07-31T00:00:00.000000000',\n",
              "       '2016-08-31T00:00:00.000000000', '2016-09-30T00:00:00.000000000',\n",
              "       '2016-10-31T00:00:00.000000000', '2016-11-30T00:00:00.000000000',\n",
              "       '2016-12-31T00:00:00.000000000', '2017-01-31T00:00:00.000000000',\n",
              "       '2017-02-28T00:00:00.000000000', '2017-03-31T00:00:00.000000000',\n",
              "       '2017-04-30T00:00:00.000000000', '2017-05-31T00:00:00.000000000',\n",
              "       '2017-06-30T00:00:00.000000000', '2017-07-31T00:00:00.000000000',\n",
              "       '2017-08-31T00:00:00.000000000', '2017-09-30T00:00:00.000000000',\n",
              "       '2017-10-31T00:00:00.000000000', '2017-11-30T00:00:00.000000000',\n",
              "       '2017-12-31T00:00:00.000000000', '2018-01-31T00:00:00.000000000',\n",
              "       '2018-02-28T00:00:00.000000000'], dtype='datetime64[ns]')"
            ]
          },
          "metadata": {
            "tags": []
          },
          "execution_count": 123
        }
      ]
    },
    {
      "cell_type": "code",
      "metadata": {
        "id": "8WoIZU-sNQQ1",
        "colab_type": "code",
        "outputId": "fdde9716-b607-46a5-a296-56a1fc9757c7",
        "colab": {
          "base_uri": "https://localhost:8080/",
          "height": 595
        }
      },
      "source": [
        "#plt.gca().xaxis.set_major_formatter(mdates.ConciseDateFormatter(mdates.MonthLocator(interval=1)))\n",
        "plt.gca().xaxis.set_major_formatter(mdates.DateFormatter('%Y-%m'))\n",
        "\n",
        "plt.xticks( dev_count_monthly.index.values ) \n",
        "\n",
        "plt.plot(dev_count_monthly[\"count\"], \"-b\", label='Monthly Sales')\n",
        "plt.legend(loc=\"upper right\")\n",
        "plt.gcf().autofmt_xdate()\n",
        "\n",
        "fig_size = plt.rcParams[\"figure.figsize\"]\n",
        "print(\"default:\", fig_size)\n",
        "fig_size[0] = 24\n",
        "fig_size[1] = 10\n",
        "plt.rcParams[\"figure.figsize\"] =  fig_size \n",
        "\n",
        "plt.show()"
      ],
      "execution_count": 0,
      "outputs": [
        {
          "output_type": "stream",
          "text": [
            "default: [24.0, 10.0]\n"
          ],
          "name": "stdout"
        },
        {
          "output_type": "display_data",
          "data": {
            "image/png": "[encoded data removed]",
            "text/plain": [
              "<Figure size 1728x720 with 1 Axes>"
            ]
          },
          "metadata": {
            "tags": []
          }
        }
      ]
    },
    {
      "cell_type": "code",
      "metadata": {
        "id": "fK1aYcm3UBVZ",
        "colab_type": "code",
        "outputId": "7df7620f-be1e-49f7-97a8-d39cda20ed80",
        "colab": {
          "base_uri": "https://localhost:8080/",
          "height": 35
        }
      },
      "source": [
        "#creating a new dataframe modelling the difference\n",
        "df_diff = dev_count_monthly.copy()\n",
        "\n",
        "#add previous count to the next row\n",
        "df_diff['prev_count'] = df_diff['count'].shift(1)\n",
        "\n",
        "#drop the null values and calculate the difference\n",
        "df_diff = df_diff.dropna()\n",
        "df_diff['diff_count'] = (df_diff['count'] - df_diff['prev_count'])\n",
        "df_diff.shape"
      ],
      "execution_count": 0,
      "outputs": [
        {
          "output_type": "execute_result",
          "data": {
            "text/plain": [
              "(32, 3)"
            ]
          },
          "metadata": {
            "tags": []
          },
          "execution_count": 125
        }
      ]
    },
    {
      "cell_type": "code",
      "metadata": {
        "id": "TFMppEJfUx2q",
        "colab_type": "code",
        "outputId": "779c07d0-ff5a-4a18-81c8-1f64b52eef29",
        "colab": {
          "base_uri": "https://localhost:8080/",
          "height": 173
        }
      },
      "source": [
        "df_diff[0:3]"
      ],
      "execution_count": 0,
      "outputs": [
        {
          "output_type": "execute_result",
          "data": {
            "text/html": [
              "<div>\n",
              "<style scoped>\n",
              "    .dataframe tbody tr th:only-of-type {\n",
              "        vertical-align: middle;\n",
              "    }\n",
              "\n",
              "    .dataframe tbody tr th {\n",
              "        vertical-align: top;\n",
              "    }\n",
              "\n",
              "    .dataframe thead th {\n",
              "        text-align: right;\n",
              "    }\n",
              "</style>\n",
              "<table border=\"1\" class=\"dataframe\">\n",
              "  <thead>\n",
              "    <tr style=\"text-align: right;\">\n",
              "      <th></th>\n",
              "      <th>count</th>\n",
              "      <th>prev_count</th>\n",
              "      <th>diff_count</th>\n",
              "    </tr>\n",
              "    <tr>\n",
              "      <th>date</th>\n",
              "      <th></th>\n",
              "      <th></th>\n",
              "      <th></th>\n",
              "    </tr>\n",
              "  </thead>\n",
              "  <tbody>\n",
              "    <tr>\n",
              "      <th>2015-07-31</th>\n",
              "      <td>503</td>\n",
              "      <td>461.0</td>\n",
              "      <td>42.0</td>\n",
              "    </tr>\n",
              "    <tr>\n",
              "      <th>2015-08-31</th>\n",
              "      <td>589</td>\n",
              "      <td>503.0</td>\n",
              "      <td>86.0</td>\n",
              "    </tr>\n",
              "    <tr>\n",
              "      <th>2015-09-30</th>\n",
              "      <td>428</td>\n",
              "      <td>589.0</td>\n",
              "      <td>-161.0</td>\n",
              "    </tr>\n",
              "  </tbody>\n",
              "</table>\n",
              "</div>"
            ],
            "text/plain": [
              "            count  prev_count  diff_count\n",
              "date                                     \n",
              "2015-07-31    503       461.0        42.0\n",
              "2015-08-31    589       503.0        86.0\n",
              "2015-09-30    428       589.0      -161.0"
            ]
          },
          "metadata": {
            "tags": []
          },
          "execution_count": 126
        }
      ]
    },
    {
      "cell_type": "code",
      "metadata": {
        "id": "EJdplWdcVhBC",
        "colab_type": "code",
        "outputId": "c23b9fe9-1182-42f2-8e27-f8e055b3f4e4",
        "colab": {
          "base_uri": "https://localhost:8080/",
          "height": 595
        }
      },
      "source": [
        "#plt.gca().xaxis.set_major_formatter(mdates.ConciseDateFormatter(mdates.MonthLocator(interval=1)))\n",
        "plt.gca().xaxis.set_major_formatter(mdates.DateFormatter('%Y-%m'))\n",
        "plt.xticks( df_diff.index.values ) \n",
        "\n",
        "plt.plot(df_diff[\"diff_count\"], \"-b\", label='Monthly count diff')\n",
        "plt.legend(loc=\"upper right\")\n",
        "plt.gcf().autofmt_xdate()\n",
        "\n",
        "fig_size = plt.rcParams[\"figure.figsize\"]\n",
        "print(\"default:\", fig_size)\n",
        "fig_size[0] = 24\n",
        "fig_size[1] = 10\n",
        "plt.rcParams[\"figure.figsize\"] =  fig_size \n",
        "\n",
        "plt.show()"
      ],
      "execution_count": 0,
      "outputs": [
        {
          "output_type": "stream",
          "text": [
            "default: [24.0, 10.0]\n"
          ],
          "name": "stdout"
        },
        {
          "output_type": "display_data",
          "data": {
            "image/png": "[encoded data removed]",
            "text/plain": [
              "<Figure size 1728x720 with 1 Axes>"
            ]
          },
          "metadata": {
            "tags": []
          }
        }
      ]
    },
    {
      "cell_type": "markdown",
      "metadata": {
        "id": "-fYguzMKWAPO",
        "colab_type": "text"
      },
      "source": [
        "The above graph looks stationary so we can model with these feature now"
      ]
    },
    {
      "cell_type": "markdown",
      "metadata": {
        "id": "hXufa6iAG0vd",
        "colab_type": "text"
      },
      "source": [
        "## 5. Preparing supervised data"
      ]
    },
    {
      "cell_type": "markdown",
      "metadata": {
        "id": "4B-sNWTU1qUo",
        "colab_type": "text"
      },
      "source": [
        "### Check which feature set gives the maximum variation"
      ]
    },
    {
      "cell_type": "code",
      "metadata": {
        "id": "N8We0rebXktB",
        "colab_type": "code",
        "outputId": "ac494f45-d0e3-4c0d-d8e5-150040231da0",
        "colab": {
          "base_uri": "https://localhost:8080/",
          "height": 35
        }
      },
      "source": [
        "#transformation from time series to supervised data sequence\n",
        "df_supervised = df_diff.drop(['prev_count'],axis=1)\n",
        "\n",
        "#adding lags\n",
        "for inc in range(1,13):\n",
        "    field_name = 'lag_' + str(inc)\n",
        "    df_supervised[field_name] = df_supervised['diff_count'].shift(inc)\n",
        "\n",
        "#drop null values\n",
        "#df_supervised = df_supervised.dropna().reset_index(drop=True)\n",
        "df_supervised = df_supervised.dropna().reset_index(drop=False)\n",
        "\n",
        "# Import statsmodels.formula.api\n",
        "import statsmodels.formula.api as smf\n",
        "# Define the regression formula\n",
        "model = smf.ols(formula='diff_count ~ lag_1 + lag_2 + lag_3 + lag_4 + lag_5 + lag_6 + lag_7 + lag_8 + lag_9 + lag_10 + lag_11 + lag_12', data=df_supervised)\n",
        "# Fit the regression\n",
        "model_fit = model.fit()\n",
        "# Extract the adjusted r-squared\n",
        "regression_adj_rsq = model_fit.rsquared_adj\n",
        "print(regression_adj_rsq)\n"
      ],
      "execution_count": 0,
      "outputs": [
        {
          "output_type": "stream",
          "text": [
            "0.5398317343131489\n"
          ],
          "name": "stdout"
        }
      ]
    },
    {
      "cell_type": "markdown",
      "metadata": {
        "id": "qhsdSSFPZUeW",
        "colab_type": "text"
      },
      "source": [
        "experiment using different features:  \n",
        "lag_1 + lag_2  + lag_3 + lag_4 + lag_5 + lag_6 + lag_7  + lag_8 + lag_9 + lag_10 + lag_11 + lag_12 yeilds variation score 55.58%  \n"
      ]
    },
    {
      "cell_type": "code",
      "metadata": {
        "id": "-ecjo_zWrGfr",
        "colab_type": "code",
        "colab": {}
      },
      "source": [
        "#create dataframe for transformation from time series to supervised\n",
        "df_supervised = df_diff.drop(['prev_count'],axis=1)\n",
        "#adding lags\n",
        "# using till lag 12 gives best regression_adj_rsq, \n",
        "#but looking at the latest data which is increasing at a high rate thaninitial months, 3 lags are choosen\n",
        "for l in range(1,4):\n",
        "    field_name = 'lag_' + str(l)\n",
        "    df_supervised[field_name] = df_supervised['count'].shift(l)\n",
        "#drop null values\n",
        "#df_supervised = df_supervised.dropna().reset_index(drop=True)\n",
        "df_supervised = df_supervised.dropna().reset_index(drop=True)"
      ],
      "execution_count": 0,
      "outputs": []
    },
    {
      "cell_type": "code",
      "metadata": {
        "id": "sEBwKxLVXZQy",
        "colab_type": "code",
        "outputId": "722c8d75-8895-44e2-ccb0-f5d4de7b27ab",
        "colab": {
          "base_uri": "https://localhost:8080/",
          "height": 297
        }
      },
      "source": [
        "df_supervised[-8:]"
      ],
      "execution_count": 0,
      "outputs": [
        {
          "output_type": "execute_result",
          "data": {
            "text/html": [
              "<div>\n",
              "<style scoped>\n",
              "    .dataframe tbody tr th:only-of-type {\n",
              "        vertical-align: middle;\n",
              "    }\n",
              "\n",
              "    .dataframe tbody tr th {\n",
              "        vertical-align: top;\n",
              "    }\n",
              "\n",
              "    .dataframe thead th {\n",
              "        text-align: right;\n",
              "    }\n",
              "</style>\n",
              "<table border=\"1\" class=\"dataframe\">\n",
              "  <thead>\n",
              "    <tr style=\"text-align: right;\">\n",
              "      <th></th>\n",
              "      <th>count</th>\n",
              "      <th>diff_count</th>\n",
              "      <th>lag_1</th>\n",
              "      <th>lag_2</th>\n",
              "      <th>lag_3</th>\n",
              "    </tr>\n",
              "  </thead>\n",
              "  <tbody>\n",
              "    <tr>\n",
              "      <th>21</th>\n",
              "      <td>2558</td>\n",
              "      <td>-7.0</td>\n",
              "      <td>2565.0</td>\n",
              "      <td>2139.0</td>\n",
              "      <td>1694.0</td>\n",
              "    </tr>\n",
              "    <tr>\n",
              "      <th>22</th>\n",
              "      <td>4911</td>\n",
              "      <td>2353.0</td>\n",
              "      <td>2558.0</td>\n",
              "      <td>2565.0</td>\n",
              "      <td>2139.0</td>\n",
              "    </tr>\n",
              "    <tr>\n",
              "      <th>23</th>\n",
              "      <td>3990</td>\n",
              "      <td>-921.0</td>\n",
              "      <td>4911.0</td>\n",
              "      <td>2558.0</td>\n",
              "      <td>2565.0</td>\n",
              "    </tr>\n",
              "    <tr>\n",
              "      <th>24</th>\n",
              "      <td>5329</td>\n",
              "      <td>1339.0</td>\n",
              "      <td>3990.0</td>\n",
              "      <td>4911.0</td>\n",
              "      <td>2558.0</td>\n",
              "    </tr>\n",
              "    <tr>\n",
              "      <th>25</th>\n",
              "      <td>4116</td>\n",
              "      <td>-1213.0</td>\n",
              "      <td>5329.0</td>\n",
              "      <td>3990.0</td>\n",
              "      <td>4911.0</td>\n",
              "    </tr>\n",
              "    <tr>\n",
              "      <th>26</th>\n",
              "      <td>3864</td>\n",
              "      <td>-252.0</td>\n",
              "      <td>4116.0</td>\n",
              "      <td>5329.0</td>\n",
              "      <td>3990.0</td>\n",
              "    </tr>\n",
              "    <tr>\n",
              "      <th>27</th>\n",
              "      <td>5240</td>\n",
              "      <td>1376.0</td>\n",
              "      <td>3864.0</td>\n",
              "      <td>4116.0</td>\n",
              "      <td>5329.0</td>\n",
              "    </tr>\n",
              "    <tr>\n",
              "      <th>28</th>\n",
              "      <td>4925</td>\n",
              "      <td>-315.0</td>\n",
              "      <td>5240.0</td>\n",
              "      <td>3864.0</td>\n",
              "      <td>4116.0</td>\n",
              "    </tr>\n",
              "  </tbody>\n",
              "</table>\n",
              "</div>"
            ],
            "text/plain": [
              "    count  diff_count   lag_1   lag_2   lag_3\n",
              "21   2558        -7.0  2565.0  2139.0  1694.0\n",
              "22   4911      2353.0  2558.0  2565.0  2139.0\n",
              "23   3990      -921.0  4911.0  2558.0  2565.0\n",
              "24   5329      1339.0  3990.0  4911.0  2558.0\n",
              "25   4116     -1213.0  5329.0  3990.0  4911.0\n",
              "26   3864      -252.0  4116.0  5329.0  3990.0\n",
              "27   5240      1376.0  3864.0  4116.0  5329.0\n",
              "28   4925      -315.0  5240.0  3864.0  4116.0"
            ]
          },
          "metadata": {
            "tags": []
          },
          "execution_count": 130
        }
      ]
    },
    {
      "cell_type": "code",
      "metadata": {
        "id": "ulJu1_8-Mew0",
        "colab_type": "code",
        "outputId": "27806bc6-7e62-493e-e6b5-812272bcd736",
        "colab": {
          "base_uri": "https://localhost:8080/",
          "height": 35
        }
      },
      "source": [
        "df_supervised.shape"
      ],
      "execution_count": 0,
      "outputs": [
        {
          "output_type": "execute_result",
          "data": {
            "text/plain": [
              "(29, 5)"
            ]
          },
          "metadata": {
            "tags": []
          },
          "execution_count": 131
        }
      ]
    },
    {
      "cell_type": "code",
      "metadata": {
        "id": "Y5oG4LTbQBgZ",
        "colab_type": "code",
        "colab": {}
      },
      "source": [
        "#df_supervised.head"
      ],
      "execution_count": 0,
      "outputs": []
    },
    {
      "cell_type": "code",
      "metadata": {
        "id": "OAQ8KudujUmu",
        "colab_type": "code",
        "colab": {}
      },
      "source": [
        "test_record_count = 9"
      ],
      "execution_count": 0,
      "outputs": []
    },
    {
      "cell_type": "code",
      "metadata": {
        "colab_type": "code",
        "id": "XR21VraaujIw",
        "colab": {}
      },
      "source": [
        "df_lag_features = df_supervised.drop(['count'],axis=1)\n",
        "#split train and test set\n",
        "train_set, test_set = df_lag_features[0:-test_record_count].values, df_lag_features[-test_record_count:].values"
      ],
      "execution_count": 0,
      "outputs": []
    },
    {
      "cell_type": "code",
      "metadata": {
        "id": "G3i8ogrZdQLm",
        "colab_type": "code",
        "outputId": "6ad69c70-4aae-46f1-86a8-01286d9c20af",
        "colab": {
          "base_uri": "https://localhost:8080/",
          "height": 35
        }
      },
      "source": [
        "train_set.shape"
      ],
      "execution_count": 0,
      "outputs": [
        {
          "output_type": "execute_result",
          "data": {
            "text/plain": [
              "(20, 4)"
            ]
          },
          "metadata": {
            "tags": []
          },
          "execution_count": 135
        }
      ]
    },
    {
      "cell_type": "code",
      "metadata": {
        "id": "itV8XWg-dOtj",
        "colab_type": "code",
        "outputId": "08188b21-49c2-4e00-fe17-1a1e4188c41a",
        "colab": {
          "base_uri": "https://localhost:8080/",
          "height": 35
        }
      },
      "source": [
        "test_set.shape"
      ],
      "execution_count": 0,
      "outputs": [
        {
          "output_type": "execute_result",
          "data": {
            "text/plain": [
              "(9, 4)"
            ]
          },
          "metadata": {
            "tags": []
          },
          "execution_count": 136
        }
      ]
    },
    {
      "cell_type": "code",
      "metadata": {
        "id": "WrOh4JL_drSH",
        "colab_type": "code",
        "outputId": "919fd679-7de7-426a-8e21-6aab93392413",
        "colab": {
          "base_uri": "https://localhost:8080/",
          "height": 948
        }
      },
      "source": [
        "df_lag_features"
      ],
      "execution_count": 0,
      "outputs": [
        {
          "output_type": "execute_result",
          "data": {
            "text/html": [
              "<div>\n",
              "<style scoped>\n",
              "    .dataframe tbody tr th:only-of-type {\n",
              "        vertical-align: middle;\n",
              "    }\n",
              "\n",
              "    .dataframe tbody tr th {\n",
              "        vertical-align: top;\n",
              "    }\n",
              "\n",
              "    .dataframe thead th {\n",
              "        text-align: right;\n",
              "    }\n",
              "</style>\n",
              "<table border=\"1\" class=\"dataframe\">\n",
              "  <thead>\n",
              "    <tr style=\"text-align: right;\">\n",
              "      <th></th>\n",
              "      <th>diff_count</th>\n",
              "      <th>lag_1</th>\n",
              "      <th>lag_2</th>\n",
              "      <th>lag_3</th>\n",
              "    </tr>\n",
              "  </thead>\n",
              "  <tbody>\n",
              "    <tr>\n",
              "      <th>0</th>\n",
              "      <td>86.0</td>\n",
              "      <td>428.0</td>\n",
              "      <td>589.0</td>\n",
              "      <td>503.0</td>\n",
              "    </tr>\n",
              "    <tr>\n",
              "      <th>1</th>\n",
              "      <td>-130.0</td>\n",
              "      <td>514.0</td>\n",
              "      <td>428.0</td>\n",
              "      <td>589.0</td>\n",
              "    </tr>\n",
              "    <tr>\n",
              "      <th>2</th>\n",
              "      <td>88.0</td>\n",
              "      <td>384.0</td>\n",
              "      <td>514.0</td>\n",
              "      <td>428.0</td>\n",
              "    </tr>\n",
              "    <tr>\n",
              "      <th>3</th>\n",
              "      <td>-62.0</td>\n",
              "      <td>472.0</td>\n",
              "      <td>384.0</td>\n",
              "      <td>514.0</td>\n",
              "    </tr>\n",
              "    <tr>\n",
              "      <th>4</th>\n",
              "      <td>-22.0</td>\n",
              "      <td>410.0</td>\n",
              "      <td>472.0</td>\n",
              "      <td>384.0</td>\n",
              "    </tr>\n",
              "    <tr>\n",
              "      <th>5</th>\n",
              "      <td>116.0</td>\n",
              "      <td>388.0</td>\n",
              "      <td>410.0</td>\n",
              "      <td>472.0</td>\n",
              "    </tr>\n",
              "    <tr>\n",
              "      <th>6</th>\n",
              "      <td>42.0</td>\n",
              "      <td>504.0</td>\n",
              "      <td>388.0</td>\n",
              "      <td>410.0</td>\n",
              "    </tr>\n",
              "    <tr>\n",
              "      <th>7</th>\n",
              "      <td>-12.0</td>\n",
              "      <td>546.0</td>\n",
              "      <td>504.0</td>\n",
              "      <td>388.0</td>\n",
              "    </tr>\n",
              "    <tr>\n",
              "      <th>8</th>\n",
              "      <td>36.0</td>\n",
              "      <td>534.0</td>\n",
              "      <td>546.0</td>\n",
              "      <td>504.0</td>\n",
              "    </tr>\n",
              "    <tr>\n",
              "      <th>9</th>\n",
              "      <td>-18.0</td>\n",
              "      <td>570.0</td>\n",
              "      <td>534.0</td>\n",
              "      <td>546.0</td>\n",
              "    </tr>\n",
              "    <tr>\n",
              "      <th>10</th>\n",
              "      <td>373.0</td>\n",
              "      <td>552.0</td>\n",
              "      <td>570.0</td>\n",
              "      <td>534.0</td>\n",
              "    </tr>\n",
              "    <tr>\n",
              "      <th>11</th>\n",
              "      <td>-50.0</td>\n",
              "      <td>925.0</td>\n",
              "      <td>552.0</td>\n",
              "      <td>570.0</td>\n",
              "    </tr>\n",
              "    <tr>\n",
              "      <th>12</th>\n",
              "      <td>67.0</td>\n",
              "      <td>875.0</td>\n",
              "      <td>925.0</td>\n",
              "      <td>552.0</td>\n",
              "    </tr>\n",
              "    <tr>\n",
              "      <th>13</th>\n",
              "      <td>62.0</td>\n",
              "      <td>942.0</td>\n",
              "      <td>875.0</td>\n",
              "      <td>925.0</td>\n",
              "    </tr>\n",
              "    <tr>\n",
              "      <th>14</th>\n",
              "      <td>-131.0</td>\n",
              "      <td>1004.0</td>\n",
              "      <td>942.0</td>\n",
              "      <td>875.0</td>\n",
              "    </tr>\n",
              "    <tr>\n",
              "      <th>15</th>\n",
              "      <td>363.0</td>\n",
              "      <td>873.0</td>\n",
              "      <td>1004.0</td>\n",
              "      <td>942.0</td>\n",
              "    </tr>\n",
              "    <tr>\n",
              "      <th>16</th>\n",
              "      <td>-380.0</td>\n",
              "      <td>1236.0</td>\n",
              "      <td>873.0</td>\n",
              "      <td>1004.0</td>\n",
              "    </tr>\n",
              "    <tr>\n",
              "      <th>17</th>\n",
              "      <td>562.0</td>\n",
              "      <td>856.0</td>\n",
              "      <td>1236.0</td>\n",
              "      <td>873.0</td>\n",
              "    </tr>\n",
              "    <tr>\n",
              "      <th>18</th>\n",
              "      <td>276.0</td>\n",
              "      <td>1418.0</td>\n",
              "      <td>856.0</td>\n",
              "      <td>1236.0</td>\n",
              "    </tr>\n",
              "    <tr>\n",
              "      <th>19</th>\n",
              "      <td>445.0</td>\n",
              "      <td>1694.0</td>\n",
              "      <td>1418.0</td>\n",
              "      <td>856.0</td>\n",
              "    </tr>\n",
              "    <tr>\n",
              "      <th>20</th>\n",
              "      <td>426.0</td>\n",
              "      <td>2139.0</td>\n",
              "      <td>1694.0</td>\n",
              "      <td>1418.0</td>\n",
              "    </tr>\n",
              "    <tr>\n",
              "      <th>21</th>\n",
              "      <td>-7.0</td>\n",
              "      <td>2565.0</td>\n",
              "      <td>2139.0</td>\n",
              "      <td>1694.0</td>\n",
              "    </tr>\n",
              "    <tr>\n",
              "      <th>22</th>\n",
              "      <td>2353.0</td>\n",
              "      <td>2558.0</td>\n",
              "      <td>2565.0</td>\n",
              "      <td>2139.0</td>\n",
              "    </tr>\n",
              "    <tr>\n",
              "      <th>23</th>\n",
              "      <td>-921.0</td>\n",
              "      <td>4911.0</td>\n",
              "      <td>2558.0</td>\n",
              "      <td>2565.0</td>\n",
              "    </tr>\n",
              "    <tr>\n",
              "      <th>24</th>\n",
              "      <td>1339.0</td>\n",
              "      <td>3990.0</td>\n",
              "      <td>4911.0</td>\n",
              "      <td>2558.0</td>\n",
              "    </tr>\n",
              "    <tr>\n",
              "      <th>25</th>\n",
              "      <td>-1213.0</td>\n",
              "      <td>5329.0</td>\n",
              "      <td>3990.0</td>\n",
              "      <td>4911.0</td>\n",
              "    </tr>\n",
              "    <tr>\n",
              "      <th>26</th>\n",
              "      <td>-252.0</td>\n",
              "      <td>4116.0</td>\n",
              "      <td>5329.0</td>\n",
              "      <td>3990.0</td>\n",
              "    </tr>\n",
              "    <tr>\n",
              "      <th>27</th>\n",
              "      <td>1376.0</td>\n",
              "      <td>3864.0</td>\n",
              "      <td>4116.0</td>\n",
              "      <td>5329.0</td>\n",
              "    </tr>\n",
              "    <tr>\n",
              "      <th>28</th>\n",
              "      <td>-315.0</td>\n",
              "      <td>5240.0</td>\n",
              "      <td>3864.0</td>\n",
              "      <td>4116.0</td>\n",
              "    </tr>\n",
              "  </tbody>\n",
              "</table>\n",
              "</div>"
            ],
            "text/plain": [
              "    diff_count   lag_1   lag_2   lag_3\n",
              "0         86.0   428.0   589.0   503.0\n",
              "1       -130.0   514.0   428.0   589.0\n",
              "2         88.0   384.0   514.0   428.0\n",
              "3        -62.0   472.0   384.0   514.0\n",
              "4        -22.0   410.0   472.0   384.0\n",
              "5        116.0   388.0   410.0   472.0\n",
              "6         42.0   504.0   388.0   410.0\n",
              "7        -12.0   546.0   504.0   388.0\n",
              "8         36.0   534.0   546.0   504.0\n",
              "9        -18.0   570.0   534.0   546.0\n",
              "10       373.0   552.0   570.0   534.0\n",
              "11       -50.0   925.0   552.0   570.0\n",
              "12        67.0   875.0   925.0   552.0\n",
              "13        62.0   942.0   875.0   925.0\n",
              "14      -131.0  1004.0   942.0   875.0\n",
              "15       363.0   873.0  1004.0   942.0\n",
              "16      -380.0  1236.0   873.0  1004.0\n",
              "17       562.0   856.0  1236.0   873.0\n",
              "18       276.0  1418.0   856.0  1236.0\n",
              "19       445.0  1694.0  1418.0   856.0\n",
              "20       426.0  2139.0  1694.0  1418.0\n",
              "21        -7.0  2565.0  2139.0  1694.0\n",
              "22      2353.0  2558.0  2565.0  2139.0\n",
              "23      -921.0  4911.0  2558.0  2565.0\n",
              "24      1339.0  3990.0  4911.0  2558.0\n",
              "25     -1213.0  5329.0  3990.0  4911.0\n",
              "26      -252.0  4116.0  5329.0  3990.0\n",
              "27      1376.0  3864.0  4116.0  5329.0\n",
              "28      -315.0  5240.0  3864.0  4116.0"
            ]
          },
          "metadata": {
            "tags": []
          },
          "execution_count": 137
        }
      ]
    },
    {
      "cell_type": "code",
      "metadata": {
        "id": "QUrhNcX-RECs",
        "colab_type": "code",
        "outputId": "275a2c79-9c10-460d-b6dc-b3e8fbc5c717",
        "colab": {
          "base_uri": "https://localhost:8080/",
          "height": 377
        }
      },
      "source": [
        "train_set"
      ],
      "execution_count": 0,
      "outputs": [
        {
          "output_type": "execute_result",
          "data": {
            "text/plain": [
              "array([[  86.,  428.,  589.,  503.],\n",
              "       [-130.,  514.,  428.,  589.],\n",
              "       [  88.,  384.,  514.,  428.],\n",
              "       [ -62.,  472.,  384.,  514.],\n",
              "       [ -22.,  410.,  472.,  384.],\n",
              "       [ 116.,  388.,  410.,  472.],\n",
              "       [  42.,  504.,  388.,  410.],\n",
              "       [ -12.,  546.,  504.,  388.],\n",
              "       [  36.,  534.,  546.,  504.],\n",
              "       [ -18.,  570.,  534.,  546.],\n",
              "       [ 373.,  552.,  570.,  534.],\n",
              "       [ -50.,  925.,  552.,  570.],\n",
              "       [  67.,  875.,  925.,  552.],\n",
              "       [  62.,  942.,  875.,  925.],\n",
              "       [-131., 1004.,  942.,  875.],\n",
              "       [ 363.,  873., 1004.,  942.],\n",
              "       [-380., 1236.,  873., 1004.],\n",
              "       [ 562.,  856., 1236.,  873.],\n",
              "       [ 276., 1418.,  856., 1236.],\n",
              "       [ 445., 1694., 1418.,  856.]])"
            ]
          },
          "metadata": {
            "tags": []
          },
          "execution_count": 138
        }
      ]
    },
    {
      "cell_type": "code",
      "metadata": {
        "id": "gjmjNQaUPnVP",
        "colab_type": "code",
        "outputId": "e79b995a-4b4b-4add-a6b6-fb7d53a21f05",
        "colab": {
          "base_uri": "https://localhost:8080/",
          "height": 179
        }
      },
      "source": [
        "test_set"
      ],
      "execution_count": 0,
      "outputs": [
        {
          "output_type": "execute_result",
          "data": {
            "text/plain": [
              "array([[  426.,  2139.,  1694.,  1418.],\n",
              "       [   -7.,  2565.,  2139.,  1694.],\n",
              "       [ 2353.,  2558.,  2565.,  2139.],\n",
              "       [ -921.,  4911.,  2558.,  2565.],\n",
              "       [ 1339.,  3990.,  4911.,  2558.],\n",
              "       [-1213.,  5329.,  3990.,  4911.],\n",
              "       [ -252.,  4116.,  5329.,  3990.],\n",
              "       [ 1376.,  3864.,  4116.,  5329.],\n",
              "       [ -315.,  5240.,  3864.,  4116.]])"
            ]
          },
          "metadata": {
            "tags": []
          },
          "execution_count": 139
        }
      ]
    },
    {
      "cell_type": "code",
      "metadata": {
        "id": "xRR5J0QTZuou",
        "colab_type": "code",
        "colab": {}
      },
      "source": [
        "#apply Min Max Scaler\n",
        "scaler = MinMaxScaler(feature_range=(-1, 1))\n",
        "scaler = scaler.fit(df_lag_features)\n",
        " \n",
        "# reshape training set\n",
        "train_set = train_set.reshape(train_set.shape[0], train_set.shape[1])\n",
        "train_set_scaled = scaler.transform(train_set)\n",
        "\n",
        "# reshape test set\n",
        "test_set = test_set.reshape(test_set.shape[0], test_set.shape[1])\n",
        "test_set_scaled = scaler.transform(test_set)"
      ],
      "execution_count": 0,
      "outputs": []
    },
    {
      "cell_type": "code",
      "metadata": {
        "id": "SSZJeIV9D_nc",
        "colab_type": "code",
        "outputId": "eef19a40-d8a5-4ec0-ddec-d3edd3dcb84a",
        "colab": {
          "base_uri": "https://localhost:8080/",
          "height": 179
        }
      },
      "source": [
        "test_set"
      ],
      "execution_count": 0,
      "outputs": [
        {
          "output_type": "execute_result",
          "data": {
            "text/plain": [
              "array([[  426.,  2139.,  1694.,  1418.],\n",
              "       [   -7.,  2565.,  2139.,  1694.],\n",
              "       [ 2353.,  2558.,  2565.,  2139.],\n",
              "       [ -921.,  4911.,  2558.,  2565.],\n",
              "       [ 1339.,  3990.,  4911.,  2558.],\n",
              "       [-1213.,  5329.,  3990.,  4911.],\n",
              "       [ -252.,  4116.,  5329.,  3990.],\n",
              "       [ 1376.,  3864.,  4116.,  5329.],\n",
              "       [ -315.,  5240.,  3864.,  4116.]])"
            ]
          },
          "metadata": {
            "tags": []
          },
          "execution_count": 141
        }
      ]
    },
    {
      "cell_type": "code",
      "metadata": {
        "id": "_VQASelOPICB",
        "colab_type": "code",
        "outputId": "004eb8d9-bf17-424d-e24c-fac3bbb947dd",
        "colab": {
          "base_uri": "https://localhost:8080/",
          "height": 179
        }
      },
      "source": [
        "test_set_scaled"
      ],
      "execution_count": 0,
      "outputs": [
        {
          "output_type": "execute_result",
          "data": {
            "text/plain": [
              "array([[-0.08076276, -0.29019211, -0.47017189, -0.5817998 ],\n",
              "       [-0.32361189, -0.11789687, -0.29019211, -0.47017189],\n",
              "       [ 1.        , -0.12072801, -0.11789687, -0.29019211],\n",
              "       [-0.83623107,  0.83094034, -0.12072801, -0.11789687],\n",
              "       [ 0.43129557,  0.45844287,  0.83094034, -0.12072801],\n",
              "       [-1.        ,  1.        ,  0.45844287,  0.83094034],\n",
              "       [-0.46102075,  0.50940344,  1.        ,  0.45844287],\n",
              "       [ 0.45204711,  0.40748231,  0.50940344,  1.        ],\n",
              "       [-0.49635446,  0.96400404,  0.40748231,  0.50940344]])"
            ]
          },
          "metadata": {
            "tags": []
          },
          "execution_count": 142
        }
      ]
    },
    {
      "cell_type": "code",
      "metadata": {
        "colab_type": "code",
        "id": "Lg_jLdqIg3wI",
        "colab": {}
      },
      "source": [
        "# feature and label sets from scaled datasets\n",
        "train_X, train_y = train_set_scaled[:, 1:], train_set_scaled[:, 0:1]\n",
        "train_X = train_X.reshape(train_X.shape[0], 1, train_X.shape[1])\n",
        "\n",
        "X_test, y_test = test_set_scaled[:, 1:], test_set_scaled[:, 0:1]\n",
        "X_test = X_test.reshape(X_test.shape[0], 1, X_test.shape[1])"
      ],
      "execution_count": 0,
      "outputs": []
    },
    {
      "cell_type": "code",
      "metadata": {
        "id": "J0ApcehMJrEd",
        "colab_type": "code",
        "outputId": "b1a434f3-10ea-4d9b-8bdc-e691e149b843",
        "colab": {
          "base_uri": "https://localhost:8080/",
          "height": 35
        }
      },
      "source": [
        "X_test.shape"
      ],
      "execution_count": 0,
      "outputs": [
        {
          "output_type": "execute_result",
          "data": {
            "text/plain": [
              "(9, 1, 3)"
            ]
          },
          "metadata": {
            "tags": []
          },
          "execution_count": 144
        }
      ]
    },
    {
      "cell_type": "markdown",
      "metadata": {
        "id": "3kFzEPUPG_Vl",
        "colab_type": "text"
      },
      "source": [
        "## 6. Prepare LSTM Model"
      ]
    },
    {
      "cell_type": "code",
      "metadata": {
        "id": "aFkxK48CB_Sl",
        "colab_type": "code",
        "colab": {}
      },
      "source": [
        "from keras import backend as K\n",
        "from keras import optimizers\n",
        "\n",
        "from keras.models import Sequential\n",
        "from keras.models import load_model\n",
        "\n",
        "from keras.layers import Dense\n",
        "from keras.layers import LSTM\n",
        "from keras.layers import Dropout\n",
        "\n",
        "from keras.callbacks import ModelCheckpoint\n",
        "from keras.callbacks import EarlyStopping\n",
        "from keras.callbacks import ReduceLROnPlateau\n",
        "from keras.callbacks import TerminateOnNaN\n",
        "from keras.callbacks import CSVLogger"
      ],
      "execution_count": 0,
      "outputs": []
    },
    {
      "cell_type": "code",
      "metadata": {
        "id": "uEbGt7ACYYr7",
        "colab_type": "code",
        "colab": {}
      },
      "source": [
        "# model callbacks.\n",
        "\n",
        "# filepath under which the weights are saveed\n",
        "model_checkpoint = ModelCheckpoint(filepath='diffcount_c1_epoch-{epoch:02d}_loss-{loss:.4f}.h5',\n",
        "                               #    monitor='val_loss',\n",
        "                                   verbose=1,\n",
        "                                   save_best_only=True,\n",
        "                                   save_weights_only=False,\n",
        "                                   mode='auto',\n",
        "                                   period=1)\n",
        "callbacks = [model_checkpoint\n",
        "            ]"
      ],
      "execution_count": 0,
      "outputs": []
    },
    {
      "cell_type": "code",
      "metadata": {
        "id": "4AeEy2wMvNzN",
        "colab_type": "code",
        "outputId": "30bdf65c-8f22-45c7-9692-e49bc936c9a5",
        "colab": {
          "base_uri": "https://localhost:8080/",
          "height": 1000
        }
      },
      "source": [
        "# fit our LSTM model:\n",
        "K.clear_session()  # Clear previous models from memory.    \n",
        "\n",
        "model = Sequential()\n",
        "\n",
        "#LSTM layer inputs shape of (batch_size, timesteps, input_dim)\n",
        "#(timesteps, input_dim) for input_shape argument\n",
        "# reshape(train_X.shape[0], 1, train_X.shape[1]), 1 in the reshape is the number of sequence\n",
        "model.add(LSTM(4, batch_input_shape=(1, train_X.shape[1], train_X.shape[2]), stateful=True))\n",
        "model.add(Dense(1))\n",
        "model.compile(loss='mean_squared_error', optimizer='adam')\n",
        "#model.fit(X_train, y_train, nb_epoch=100, batch_size=1, verbose=1, shuffle=False)\n",
        "\n",
        "epochs = 100\n",
        "# fit network\n",
        "history = model.fit(train_X, train_y, \n",
        "                    epochs=epochs, \n",
        "                    batch_size=1, \n",
        "                    verbose=1,\n",
        "                    callbacks=callbacks,\n",
        "                    shuffle=False)\n"
      ],
      "execution_count": 0,
      "outputs": [
        {
          "output_type": "stream",
          "text": [
            "Epoch 1/100\n",
            "20/20 [==============================] - 0s 25ms/step - loss: 0.4418\n",
            "Epoch 2/100\n",
            "20/20 [==============================] - 0s 2ms/step - loss: 0.2996\n",
            "Epoch 3/100\n",
            "20/20 [==============================] - 0s 2ms/step - loss: 0.1697\n",
            "Epoch 4/100\n",
            "20/20 [==============================] - 0s 2ms/step - loss: 0.0913\n",
            "Epoch 5/100\n",
            "20/20 [==============================] - 0s 2ms/step - loss: 0.0444\n",
            "Epoch 6/100\n",
            "20/20 [==============================] - 0s 2ms/step - loss: 0.0220\n",
            "Epoch 7/100\n",
            " 1/20 [>.............................] - ETA: 0s - loss: 0.0024"
          ],
          "name": "stdout"
        },
        {
          "output_type": "stream",
          "text": [
            "/usr/local/lib/python3.6/dist-packages/keras/callbacks.py:707: RuntimeWarning:\n",
            "\n",
            "Can save best model only with val_loss available, skipping.\n",
            "\n"
          ],
          "name": "stderr"
        },
        {
          "output_type": "stream",
          "text": [
            "20/20 [==============================] - 0s 2ms/step - loss: 0.0150\n",
            "Epoch 8/100\n",
            "20/20 [==============================] - 0s 2ms/step - loss: 0.0137\n",
            "Epoch 9/100\n",
            "20/20 [==============================] - 0s 2ms/step - loss: 0.0135\n",
            "Epoch 10/100\n",
            "20/20 [==============================] - 0s 2ms/step - loss: 0.0135\n",
            "Epoch 11/100\n",
            "20/20 [==============================] - 0s 2ms/step - loss: 0.0135\n",
            "Epoch 12/100\n",
            "20/20 [==============================] - 0s 2ms/step - loss: 0.0135\n",
            "Epoch 13/100\n",
            "20/20 [==============================] - 0s 2ms/step - loss: 0.0135\n",
            "Epoch 14/100\n",
            "20/20 [==============================] - 0s 2ms/step - loss: 0.0135\n",
            "Epoch 15/100\n",
            "20/20 [==============================] - 0s 2ms/step - loss: 0.0134\n",
            "Epoch 16/100\n",
            "20/20 [==============================] - 0s 2ms/step - loss: 0.0134\n",
            "Epoch 17/100\n",
            "20/20 [==============================] - 0s 2ms/step - loss: 0.0134\n",
            "Epoch 18/100\n",
            "20/20 [==============================] - 0s 2ms/step - loss: 0.0134\n",
            "Epoch 19/100\n",
            "20/20 [==============================] - 0s 2ms/step - loss: 0.0134\n",
            "Epoch 20/100\n",
            "20/20 [==============================] - 0s 2ms/step - loss: 0.0134\n",
            "Epoch 21/100\n",
            "20/20 [==============================] - 0s 2ms/step - loss: 0.0134\n",
            "Epoch 22/100\n",
            "20/20 [==============================] - 0s 2ms/step - loss: 0.0134\n",
            "Epoch 23/100\n",
            "20/20 [==============================] - 0s 2ms/step - loss: 0.0134\n",
            "Epoch 24/100\n",
            "20/20 [==============================] - 0s 2ms/step - loss: 0.0134\n",
            "Epoch 25/100\n",
            "20/20 [==============================] - 0s 2ms/step - loss: 0.0133\n",
            "Epoch 26/100\n",
            "20/20 [==============================] - 0s 2ms/step - loss: 0.0133\n",
            "Epoch 27/100\n",
            "20/20 [==============================] - 0s 2ms/step - loss: 0.0133\n",
            "Epoch 28/100\n",
            "20/20 [==============================] - 0s 2ms/step - loss: 0.0133\n",
            "Epoch 29/100\n",
            "20/20 [==============================] - 0s 2ms/step - loss: 0.0133\n",
            "Epoch 30/100\n",
            "20/20 [==============================] - 0s 2ms/step - loss: 0.0133\n",
            "Epoch 31/100\n",
            "20/20 [==============================] - 0s 2ms/step - loss: 0.0133\n",
            "Epoch 32/100\n",
            "20/20 [==============================] - 0s 2ms/step - loss: 0.0133\n",
            "Epoch 33/100\n",
            "20/20 [==============================] - 0s 2ms/step - loss: 0.0133\n",
            "Epoch 34/100\n",
            "20/20 [==============================] - 0s 2ms/step - loss: 0.0133\n",
            "Epoch 35/100\n",
            "20/20 [==============================] - 0s 2ms/step - loss: 0.0133\n",
            "Epoch 36/100\n",
            "20/20 [==============================] - 0s 2ms/step - loss: 0.0132\n",
            "Epoch 37/100\n",
            "20/20 [==============================] - 0s 2ms/step - loss: 0.0132\n",
            "Epoch 38/100\n",
            "20/20 [==============================] - 0s 2ms/step - loss: 0.0132\n",
            "Epoch 39/100\n",
            "20/20 [==============================] - 0s 2ms/step - loss: 0.0132\n",
            "Epoch 40/100\n",
            "20/20 [==============================] - 0s 2ms/step - loss: 0.0132\n",
            "Epoch 41/100\n",
            "20/20 [==============================] - 0s 2ms/step - loss: 0.0132\n",
            "Epoch 42/100\n",
            "20/20 [==============================] - 0s 2ms/step - loss: 0.0132\n",
            "Epoch 43/100\n",
            "20/20 [==============================] - 0s 2ms/step - loss: 0.0132\n",
            "Epoch 44/100\n",
            "20/20 [==============================] - 0s 2ms/step - loss: 0.0132\n",
            "Epoch 45/100\n",
            "20/20 [==============================] - 0s 2ms/step - loss: 0.0132\n",
            "Epoch 46/100\n",
            "20/20 [==============================] - 0s 2ms/step - loss: 0.0132\n",
            "Epoch 47/100\n",
            "20/20 [==============================] - 0s 2ms/step - loss: 0.0131\n",
            "Epoch 48/100\n",
            "20/20 [==============================] - 0s 2ms/step - loss: 0.0131\n",
            "Epoch 49/100\n",
            "20/20 [==============================] - 0s 2ms/step - loss: 0.0131\n",
            "Epoch 50/100\n",
            "20/20 [==============================] - 0s 2ms/step - loss: 0.0131\n",
            "Epoch 51/100\n",
            "20/20 [==============================] - 0s 2ms/step - loss: 0.0131\n",
            "Epoch 52/100\n",
            "20/20 [==============================] - 0s 2ms/step - loss: 0.0131\n",
            "Epoch 53/100\n",
            "20/20 [==============================] - 0s 2ms/step - loss: 0.0131\n",
            "Epoch 54/100\n",
            "20/20 [==============================] - 0s 2ms/step - loss: 0.0131\n",
            "Epoch 55/100\n",
            "20/20 [==============================] - 0s 3ms/step - loss: 0.0131\n",
            "Epoch 56/100\n",
            "20/20 [==============================] - 0s 2ms/step - loss: 0.0131\n",
            "Epoch 57/100\n",
            "20/20 [==============================] - 0s 2ms/step - loss: 0.0131\n",
            "Epoch 58/100\n",
            "20/20 [==============================] - 0s 2ms/step - loss: 0.0131\n",
            "Epoch 59/100\n",
            "20/20 [==============================] - 0s 2ms/step - loss: 0.0130\n",
            "Epoch 60/100\n",
            "20/20 [==============================] - 0s 2ms/step - loss: 0.0130\n",
            "Epoch 61/100\n",
            "20/20 [==============================] - 0s 2ms/step - loss: 0.0130\n",
            "Epoch 62/100\n",
            "20/20 [==============================] - 0s 2ms/step - loss: 0.0130\n",
            "Epoch 63/100\n",
            "20/20 [==============================] - 0s 2ms/step - loss: 0.0130\n",
            "Epoch 64/100\n",
            "20/20 [==============================] - 0s 2ms/step - loss: 0.0130\n",
            "Epoch 65/100\n",
            "20/20 [==============================] - 0s 2ms/step - loss: 0.0130\n",
            "Epoch 66/100\n",
            "20/20 [==============================] - 0s 2ms/step - loss: 0.0130\n",
            "Epoch 67/100\n",
            "20/20 [==============================] - 0s 2ms/step - loss: 0.0130\n",
            "Epoch 68/100\n",
            "20/20 [==============================] - 0s 2ms/step - loss: 0.0130\n",
            "Epoch 69/100\n",
            "20/20 [==============================] - 0s 2ms/step - loss: 0.0130\n",
            "Epoch 70/100\n",
            "20/20 [==============================] - 0s 2ms/step - loss: 0.0130\n",
            "Epoch 71/100\n",
            "20/20 [==============================] - 0s 2ms/step - loss: 0.0130\n",
            "Epoch 72/100\n",
            "20/20 [==============================] - 0s 2ms/step - loss: 0.0130\n",
            "Epoch 73/100\n",
            "20/20 [==============================] - 0s 2ms/step - loss: 0.0129\n",
            "Epoch 74/100\n",
            "20/20 [==============================] - 0s 2ms/step - loss: 0.0129\n",
            "Epoch 75/100\n",
            "20/20 [==============================] - 0s 2ms/step - loss: 0.0129\n",
            "Epoch 76/100\n",
            "20/20 [==============================] - 0s 2ms/step - loss: 0.0129\n",
            "Epoch 77/100\n",
            "20/20 [==============================] - 0s 2ms/step - loss: 0.0129\n",
            "Epoch 78/100\n",
            "20/20 [==============================] - 0s 2ms/step - loss: 0.0129\n",
            "Epoch 79/100\n",
            "20/20 [==============================] - 0s 2ms/step - loss: 0.0129\n",
            "Epoch 80/100\n",
            "20/20 [==============================] - 0s 2ms/step - loss: 0.0129\n",
            "Epoch 81/100\n",
            "20/20 [==============================] - 0s 2ms/step - loss: 0.0129\n",
            "Epoch 82/100\n",
            "20/20 [==============================] - 0s 2ms/step - loss: 0.0129\n",
            "Epoch 83/100\n",
            "20/20 [==============================] - 0s 2ms/step - loss: 0.0129\n",
            "Epoch 84/100\n",
            "20/20 [==============================] - 0s 2ms/step - loss: 0.0129\n",
            "Epoch 85/100\n",
            "20/20 [==============================] - 0s 2ms/step - loss: 0.0129\n",
            "Epoch 86/100\n",
            "20/20 [==============================] - 0s 2ms/step - loss: 0.0129\n",
            "Epoch 87/100\n",
            "20/20 [==============================] - 0s 2ms/step - loss: 0.0129\n",
            "Epoch 88/100\n",
            "20/20 [==============================] - 0s 2ms/step - loss: 0.0129\n",
            "Epoch 89/100\n",
            "20/20 [==============================] - 0s 2ms/step - loss: 0.0128\n",
            "Epoch 90/100\n",
            "20/20 [==============================] - 0s 2ms/step - loss: 0.0128\n",
            "Epoch 91/100\n",
            "20/20 [==============================] - 0s 2ms/step - loss: 0.0128\n",
            "Epoch 92/100\n",
            "20/20 [==============================] - 0s 2ms/step - loss: 0.0128\n",
            "Epoch 93/100\n",
            "20/20 [==============================] - 0s 2ms/step - loss: 0.0128\n",
            "Epoch 94/100\n",
            "20/20 [==============================] - 0s 2ms/step - loss: 0.0128\n",
            "Epoch 95/100\n",
            "20/20 [==============================] - 0s 2ms/step - loss: 0.0128\n",
            "Epoch 96/100\n",
            "20/20 [==============================] - 0s 2ms/step - loss: 0.0128\n",
            "Epoch 97/100\n",
            "20/20 [==============================] - 0s 2ms/step - loss: 0.0128\n",
            "Epoch 98/100\n",
            "20/20 [==============================] - 0s 2ms/step - loss: 0.0128\n",
            "Epoch 99/100\n",
            "20/20 [==============================] - 0s 2ms/step - loss: 0.0128\n",
            "Epoch 100/100\n",
            "20/20 [==============================] - 0s 2ms/step - loss: 0.0128\n"
          ],
          "name": "stdout"
        }
      ]
    },
    {
      "cell_type": "code",
      "metadata": {
        "id": "Pu-EzIMyXhN2",
        "colab_type": "code",
        "outputId": "b7ee172e-15e2-4191-c3ef-454337db4df6",
        "colab": {
          "base_uri": "https://localhost:8080/",
          "height": 612
        }
      },
      "source": [
        "# plot history\n",
        "plt.plot(history.history['loss'], label='train')\n",
        "#plt.plot(history.history['val_loss'], label='test')\n",
        "plt.legend()\n",
        "plt.savefig(\"diff_count_c1_lstm-training.png\")\n",
        "plt.show()"
      ],
      "execution_count": 0,
      "outputs": [
        {
          "output_type": "display_data",
          "data": {
            "image/png": "[encoded data removed]",
            "text/plain": [
              "<Figure size 1728x720 with 1 Axes>"
            ]
          },
          "metadata": {
            "tags": []
          }
        }
      ]
    },
    {
      "cell_type": "markdown",
      "metadata": {
        "id": "0rxenzUiS3jo",
        "colab_type": "text"
      },
      "source": [
        "## 5. Validating the model with test data"
      ]
    },
    {
      "cell_type": "code",
      "metadata": {
        "id": "NnYuDqclv2Ml",
        "colab_type": "code",
        "colab": {}
      },
      "source": [
        "y_pred = model.predict(X_test[-9:],batch_size=1)"
      ],
      "execution_count": 0,
      "outputs": []
    },
    {
      "cell_type": "code",
      "metadata": {
        "id": "9cR75zNtO0xm",
        "colab_type": "code",
        "colab": {}
      },
      "source": [
        "#X_test"
      ],
      "execution_count": 0,
      "outputs": []
    },
    {
      "cell_type": "code",
      "metadata": {
        "id": "hA2johRwfEJB",
        "colab_type": "code",
        "colab": {}
      },
      "source": [
        "#X_test.shape"
      ],
      "execution_count": 0,
      "outputs": []
    },
    {
      "cell_type": "code",
      "metadata": {
        "id": "peieXikLjJe6",
        "colab_type": "code",
        "colab": {}
      },
      "source": [
        "#y_pred"
      ],
      "execution_count": 0,
      "outputs": []
    },
    {
      "cell_type": "code",
      "metadata": {
        "id": "Si0MI0SjeIlh",
        "colab_type": "code",
        "colab": {}
      },
      "source": [
        "#y_pred.shape"
      ],
      "execution_count": 0,
      "outputs": []
    },
    {
      "cell_type": "code",
      "metadata": {
        "id": "tWZ5F_5reFmT",
        "colab_type": "code",
        "colab": {}
      },
      "source": [
        "#test_set[:, 0:1]"
      ],
      "execution_count": 0,
      "outputs": []
    },
    {
      "cell_type": "code",
      "metadata": {
        "id": "TifmCiAYwCNs",
        "colab_type": "code",
        "colab": {}
      },
      "source": [
        "#reshape y_pred\n",
        "y_pred = y_pred.reshape(y_pred.shape[0], 1, y_pred.shape[1])#rebuild test set for inverse transform\n",
        "pred_test_set = []\n",
        "for index in range(0,len(y_pred)):\n",
        "    pred_test_set.append(np.concatenate([y_pred[index],X_test[index]],axis=1))#reshape pred_test_set\n",
        "pred_test_set = np.array(pred_test_set)\n",
        "pred_test_set = pred_test_set.reshape(pred_test_set.shape[0], pred_test_set.shape[2])#inverse transform\n",
        "pred_test_set_inverted = scaler.inverse_transform(pred_test_set)"
      ],
      "execution_count": 0,
      "outputs": []
    },
    {
      "cell_type": "code",
      "metadata": {
        "id": "8_B92vLyixVn",
        "colab_type": "code",
        "outputId": "57381b55-9393-4d02-cb78-77452c6198b2",
        "colab": {
          "base_uri": "https://localhost:8080/",
          "height": 35
        }
      },
      "source": [
        "pred_test_set.shape"
      ],
      "execution_count": 0,
      "outputs": [
        {
          "output_type": "execute_result",
          "data": {
            "text/plain": [
              "(9, 4)"
            ]
          },
          "metadata": {
            "tags": []
          },
          "execution_count": 195
        }
      ]
    },
    {
      "cell_type": "code",
      "metadata": {
        "id": "BnXm9HgHjP-B",
        "colab_type": "code",
        "colab": {}
      },
      "source": [
        "#pred_test_set"
      ],
      "execution_count": 0,
      "outputs": []
    },
    {
      "cell_type": "code",
      "metadata": {
        "id": "2bhm1dh09gUu",
        "colab_type": "code",
        "colab": {}
      },
      "source": [
        "#dev_count_monthly[-12:].index"
      ],
      "execution_count": 0,
      "outputs": []
    },
    {
      "cell_type": "code",
      "metadata": {
        "id": "EPPS3ymqw8p0",
        "colab_type": "code",
        "colab": {}
      },
      "source": [
        "#create dataframe that shows the predicted count\n",
        "result_list = []\n",
        "count_dates = list(dev_count_monthly[-9:].index)\n",
        "act_count = list(dev_count_monthly[\"count\"][-9:])\n",
        "for index in range(0,len(pred_test_set_inverted)):\n",
        "    result_dict = {}\n",
        "    #print(pred_test_set_inverted[index][0], act_count[index])\n",
        "    result_dict['pred_value'] = int(pred_test_set_inverted[index][0] + act_count[index])\n",
        "    result_dict['date'] = count_dates[index]\n",
        "    result_list.append(result_dict)\n",
        "df_result = pd.DataFrame(result_list)"
      ],
      "execution_count": 0,
      "outputs": []
    },
    {
      "cell_type": "code",
      "metadata": {
        "id": "Zq_iqlh2bO8d",
        "colab_type": "code",
        "colab": {}
      },
      "source": [
        "#dev_count_monthly"
      ],
      "execution_count": 0,
      "outputs": []
    },
    {
      "cell_type": "code",
      "metadata": {
        "id": "hKRNSdbNs3Co",
        "colab_type": "code",
        "outputId": "f6f8bae2-da9a-4eb1-8891-668a47018e73",
        "colab": {
          "base_uri": "https://localhost:8080/",
          "height": 179
        }
      },
      "source": [
        "result_list"
      ],
      "execution_count": 0,
      "outputs": [
        {
          "output_type": "execute_result",
          "data": {
            "text/plain": [
              "[{'date': Timestamp('2017-06-30 00:00:00', freq='M'), 'pred_value': 2533},\n",
              " {'date': Timestamp('2017-07-31 00:00:00', freq='M'), 'pred_value': 2587},\n",
              " {'date': Timestamp('2017-08-31 00:00:00', freq='M'), 'pred_value': 5033},\n",
              " {'date': Timestamp('2017-09-30 00:00:00', freq='M'), 'pred_value': 4002},\n",
              " {'date': Timestamp('2017-10-31 00:00:00', freq='M'), 'pred_value': 5316},\n",
              " {'date': Timestamp('2017-11-30 00:00:00', freq='M'), 'pred_value': 3994},\n",
              " {'date': Timestamp('2017-12-31 00:00:00', freq='M'), 'pred_value': 3743},\n",
              " {'date': Timestamp('2018-01-31 00:00:00', freq='M'), 'pred_value': 5259},\n",
              " {'date': Timestamp('2018-02-28 00:00:00', freq='M'), 'pred_value': 4765}]"
            ]
          },
          "metadata": {
            "tags": []
          },
          "execution_count": 200
        }
      ]
    },
    {
      "cell_type": "code",
      "metadata": {
        "id": "NxvF6UKixfJw",
        "colab_type": "code",
        "outputId": "11287d8e-ae80-49fb-f9e4-8419b2f5f0fe",
        "colab": {
          "base_uri": "https://localhost:8080/",
          "height": 328
        }
      },
      "source": [
        "df_result"
      ],
      "execution_count": 0,
      "outputs": [
        {
          "output_type": "execute_result",
          "data": {
            "text/html": [
              "<div>\n",
              "<style scoped>\n",
              "    .dataframe tbody tr th:only-of-type {\n",
              "        vertical-align: middle;\n",
              "    }\n",
              "\n",
              "    .dataframe tbody tr th {\n",
              "        vertical-align: top;\n",
              "    }\n",
              "\n",
              "    .dataframe thead th {\n",
              "        text-align: right;\n",
              "    }\n",
              "</style>\n",
              "<table border=\"1\" class=\"dataframe\">\n",
              "  <thead>\n",
              "    <tr style=\"text-align: right;\">\n",
              "      <th></th>\n",
              "      <th>pred_value</th>\n",
              "      <th>date</th>\n",
              "    </tr>\n",
              "  </thead>\n",
              "  <tbody>\n",
              "    <tr>\n",
              "      <th>0</th>\n",
              "      <td>2533</td>\n",
              "      <td>2017-06-30</td>\n",
              "    </tr>\n",
              "    <tr>\n",
              "      <th>1</th>\n",
              "      <td>2587</td>\n",
              "      <td>2017-07-31</td>\n",
              "    </tr>\n",
              "    <tr>\n",
              "      <th>2</th>\n",
              "      <td>5033</td>\n",
              "      <td>2017-08-31</td>\n",
              "    </tr>\n",
              "    <tr>\n",
              "      <th>3</th>\n",
              "      <td>4002</td>\n",
              "      <td>2017-09-30</td>\n",
              "    </tr>\n",
              "    <tr>\n",
              "      <th>4</th>\n",
              "      <td>5316</td>\n",
              "      <td>2017-10-31</td>\n",
              "    </tr>\n",
              "    <tr>\n",
              "      <th>5</th>\n",
              "      <td>3994</td>\n",
              "      <td>2017-11-30</td>\n",
              "    </tr>\n",
              "    <tr>\n",
              "      <th>6</th>\n",
              "      <td>3743</td>\n",
              "      <td>2017-12-31</td>\n",
              "    </tr>\n",
              "    <tr>\n",
              "      <th>7</th>\n",
              "      <td>5259</td>\n",
              "      <td>2018-01-31</td>\n",
              "    </tr>\n",
              "    <tr>\n",
              "      <th>8</th>\n",
              "      <td>4765</td>\n",
              "      <td>2018-02-28</td>\n",
              "    </tr>\n",
              "  </tbody>\n",
              "</table>\n",
              "</div>"
            ],
            "text/plain": [
              "   pred_value       date\n",
              "0        2533 2017-06-30\n",
              "1        2587 2017-07-31\n",
              "2        5033 2017-08-31\n",
              "3        4002 2017-09-30\n",
              "4        5316 2017-10-31\n",
              "5        3994 2017-11-30\n",
              "6        3743 2017-12-31\n",
              "7        5259 2018-01-31\n",
              "8        4765 2018-02-28"
            ]
          },
          "metadata": {
            "tags": []
          },
          "execution_count": 201
        }
      ]
    },
    {
      "cell_type": "code",
      "metadata": {
        "id": "EYu28jWlyrpQ",
        "colab_type": "code",
        "colab": {}
      },
      "source": [
        "#act_count"
      ],
      "execution_count": 0,
      "outputs": []
    },
    {
      "cell_type": "code",
      "metadata": {
        "id": "vvTLXI1PzGAi",
        "colab_type": "code",
        "outputId": "58248e67-165f-4161-9b97-ff027f4ba05e",
        "colab": {
          "base_uri": "https://localhost:8080/",
          "height": 542
        }
      },
      "source": [
        "#merging predicted with actual sales dataframe\n",
        "\n",
        "import chart_studio.plotly as py\n",
        "import plotly.offline as pyoff\n",
        "import plotly.graph_objs as go\n",
        "\n",
        "df_count_pred = pd.merge(dev_count_monthly,df_result,on='date',how='left')#plot actual and predicted\n",
        "plot_data = [\n",
        "    go.Scatter(\n",
        "        x=df_count_pred['date'],\n",
        "        y=df_count_pred['count'],\n",
        "        name='actual'\n",
        "    ),\n",
        "        go.Scatter(\n",
        "        x=df_count_pred['date'],\n",
        "        y=df_count_pred['pred_value'],\n",
        "        name='predicted'\n",
        "    )\n",
        "    \n",
        "]\n",
        "plot_layout = go.Layout(\n",
        "        title='Count Prediction'\n",
        "    )\n",
        "fig = go.Figure(data=plot_data, layout=plot_layout)\n",
        "pyoff.iplot(fig)"
      ],
      "execution_count": 0,
      "outputs": [
        {
          "output_type": "display_data",
          "data": {
            "text/html": [
              "<html>\n",
              "<head><meta charset=\"utf-8\" /></head>\n",
              "<body>\n",
              "    <div>\n",
              "            <script src=\"https://cdnjs.cloudflare.com/ajax/libs/mathjax/2.7.5/MathJax.js?config=TeX-AMS-MML_SVG\"></script><script type=\"text/javascript\">if (window.MathJax) {MathJax.Hub.Config({SVG: {font: \"STIX-Web\"}});}</script>\n",
              "                <script type=\"text/javascript\">window.PlotlyConfig = {MathJaxConfig: 'local'};</script>\n",
              "        <script src=\"https://cdn.plot.ly/plotly-latest.min.js\"></script>    \n",
              "            <div id=\"e92bff69-e532-4bc5-afd7-2aed7ae403bf\" class=\"plotly-graph-div\" style=\"height:525px; width:100%;\"></div>\n",
              "            <script type=\"text/javascript\">\n",
              "                \n",
              "                    window.PLOTLYENV=window.PLOTLYENV || {};\n",
              "                    \n",
              "                if (document.getElementById(\"e92bff69-e532-4bc5-afd7-2aed7ae403bf\")) {\n",
              "                    Plotly.newPlot(\n",
              "                        'e92bff69-e532-4bc5-afd7-2aed7ae403bf',\n",
              "                        [{\"name\": \"actual\", \"type\": \"scatter\", \"x\": [\"2015-06-30T00:00:00\", \"2015-07-31T00:00:00\", \"2015-08-31T00:00:00\", \"2015-09-30T00:00:00\", \"2015-10-31T00:00:00\", \"2015-11-30T00:00:00\", \"2015-12-31T00:00:00\", \"2016-01-31T00:00:00\", \"2016-02-29T00:00:00\", \"2016-03-31T00:00:00\", \"2016-04-30T00:00:00\", \"2016-05-31T00:00:00\", \"2016-06-30T00:00:00\", \"2016-07-31T00:00:00\", \"2016-08-31T00:00:00\", \"2016-09-30T00:00:00\", \"2016-10-31T00:00:00\", \"2016-11-30T00:00:00\", \"2016-12-31T00:00:00\", \"2017-01-31T00:00:00\", \"2017-02-28T00:00:00\", \"2017-03-31T00:00:00\", \"2017-04-30T00:00:00\", \"2017-05-31T00:00:00\", \"2017-06-30T00:00:00\", \"2017-07-31T00:00:00\", \"2017-08-31T00:00:00\", \"2017-09-30T00:00:00\", \"2017-10-31T00:00:00\", \"2017-11-30T00:00:00\", \"2017-12-31T00:00:00\", \"2018-01-31T00:00:00\", \"2018-02-28T00:00:00\"], \"y\": [461, 503, 589, 428, 514, 384, 472, 410, 388, 504, 546, 534, 570, 552, 925, 875, 942, 1004, 873, 1236, 856, 1418, 1694, 2139, 2565, 2558, 4911, 3990, 5329, 4116, 3864, 5240, 4925]}, {\"name\": \"predicted\", \"type\": \"scatter\", \"x\": [\"2015-06-30T00:00:00\", \"2015-07-31T00:00:00\", \"2015-08-31T00:00:00\", \"2015-09-30T00:00:00\", \"2015-10-31T00:00:00\", \"2015-11-30T00:00:00\", \"2015-12-31T00:00:00\", \"2016-01-31T00:00:00\", \"2016-02-29T00:00:00\", \"2016-03-31T00:00:00\", \"2016-04-30T00:00:00\", \"2016-05-31T00:00:00\", \"2016-06-30T00:00:00\", \"2016-07-31T00:00:00\", \"2016-08-31T00:00:00\", \"2016-09-30T00:00:00\", \"2016-10-31T00:00:00\", \"2016-11-30T00:00:00\", \"2016-12-31T00:00:00\", \"2017-01-31T00:00:00\", \"2017-02-28T00:00:00\", \"2017-03-31T00:00:00\", \"2017-04-30T00:00:00\", \"2017-05-31T00:00:00\", \"2017-06-30T00:00:00\", \"2017-07-31T00:00:00\", \"2017-08-31T00:00:00\", \"2017-09-30T00:00:00\", \"2017-10-31T00:00:00\", \"2017-11-30T00:00:00\", \"2017-12-31T00:00:00\", \"2018-01-31T00:00:00\", \"2018-02-28T00:00:00\"], \"y\": [null, null, null, null, null, null, null, null, null, null, null, null, null, null, null, null, null, null, null, null, null, null, null, null, 2533.0, 2587.0, 5033.0, 4002.0, 5316.0, 3994.0, 3743.0, 5259.0, 4765.0]}],\n",
              "                        {\"template\": {\"data\": {\"bar\": [{\"error_x\": {\"color\": \"#2a3f5f\"}, \"error_y\": {\"color\": \"#2a3f5f\"}, \"marker\": {\"line\": {\"color\": \"#E5ECF6\", \"width\": 0.5}}, \"type\": \"bar\"}], \"barpolar\": [{\"marker\": {\"line\": {\"color\": \"#E5ECF6\", \"width\": 0.5}}, \"type\": \"barpolar\"}], \"carpet\": [{\"aaxis\": {\"endlinecolor\": \"#2a3f5f\", \"gridcolor\": \"white\", \"linecolor\": \"white\", \"minorgridcolor\": \"white\", \"startlinecolor\": \"#2a3f5f\"}, \"baxis\": {\"endlinecolor\": \"#2a3f5f\", \"gridcolor\": \"white\", \"linecolor\": \"white\", \"minorgridcolor\": \"white\", \"startlinecolor\": \"#2a3f5f\"}, \"type\": \"carpet\"}], \"choropleth\": [{\"colorbar\": {\"outlinewidth\": 0, \"ticks\": \"\"}, \"type\": \"choropleth\"}], \"contour\": [{\"colorbar\": {\"outlinewidth\": 0, \"ticks\": \"\"}, \"colorscale\": [[0.0, \"#0d0887\"], [0.1111111111111111, \"#46039f\"], [0.2222222222222222, \"#7201a8\"], [0.3333333333333333, \"#9c179e\"], [0.4444444444444444, \"#bd3786\"], [0.5555555555555556, \"#d8576b\"], [0.6666666666666666, \"#ed7953\"], [0.7777777777777778, \"#fb9f3a\"], [0.8888888888888888, \"#fdca26\"], [1.0, \"#f0f921\"]], \"type\": \"contour\"}], \"contourcarpet\": [{\"colorbar\": {\"outlinewidth\": 0, \"ticks\": \"\"}, \"type\": \"contourcarpet\"}], \"heatmap\": [{\"colorbar\": {\"outlinewidth\": 0, \"ticks\": \"\"}, \"colorscale\": [[0.0, \"#0d0887\"], [0.1111111111111111, \"#46039f\"], [0.2222222222222222, \"#7201a8\"], [0.3333333333333333, \"#9c179e\"], [0.4444444444444444, \"#bd3786\"], [0.5555555555555556, \"#d8576b\"], [0.6666666666666666, \"#ed7953\"], [0.7777777777777778, \"#fb9f3a\"], [0.8888888888888888, \"#fdca26\"], [1.0, \"#f0f921\"]], \"type\": \"heatmap\"}], \"heatmapgl\": [{\"colorbar\": {\"outlinewidth\": 0, \"ticks\": \"\"}, \"colorscale\": [[0.0, \"#0d0887\"], [0.1111111111111111, \"#46039f\"], [0.2222222222222222, \"#7201a8\"], [0.3333333333333333, \"#9c179e\"], [0.4444444444444444, \"#bd3786\"], [0.5555555555555556, \"#d8576b\"], [0.6666666666666666, \"#ed7953\"], [0.7777777777777778, \"#fb9f3a\"], [0.8888888888888888, \"#fdca26\"], [1.0, \"#f0f921\"]], \"type\": \"heatmapgl\"}], \"histogram\": [{\"marker\": {\"colorbar\": {\"outlinewidth\": 0, \"ticks\": \"\"}}, \"type\": \"histogram\"}], \"histogram2d\": [{\"colorbar\": {\"outlinewidth\": 0, \"ticks\": \"\"}, \"colorscale\": [[0.0, \"#0d0887\"], [0.1111111111111111, \"#46039f\"], [0.2222222222222222, \"#7201a8\"], [0.3333333333333333, \"#9c179e\"], [0.4444444444444444, \"#bd3786\"], [0.5555555555555556, \"#d8576b\"], [0.6666666666666666, \"#ed7953\"], [0.7777777777777778, \"#fb9f3a\"], [0.8888888888888888, \"#fdca26\"], [1.0, \"#f0f921\"]], \"type\": \"histogram2d\"}], \"histogram2dcontour\": [{\"colorbar\": {\"outlinewidth\": 0, \"ticks\": \"\"}, \"colorscale\": [[0.0, \"#0d0887\"], [0.1111111111111111, \"#46039f\"], [0.2222222222222222, \"#7201a8\"], [0.3333333333333333, \"#9c179e\"], [0.4444444444444444, \"#bd3786\"], [0.5555555555555556, \"#d8576b\"], [0.6666666666666666, \"#ed7953\"], [0.7777777777777778, \"#fb9f3a\"], [0.8888888888888888, \"#fdca26\"], [1.0, \"#f0f921\"]], \"type\": \"histogram2dcontour\"}], \"mesh3d\": [{\"colorbar\": {\"outlinewidth\": 0, \"ticks\": \"\"}, \"type\": \"mesh3d\"}], \"parcoords\": [{\"line\": {\"colorbar\": {\"outlinewidth\": 0, \"ticks\": \"\"}}, \"type\": \"parcoords\"}], \"pie\": [{\"automargin\": true, \"type\": \"pie\"}], \"scatter\": [{\"marker\": {\"colorbar\": {\"outlinewidth\": 0, \"ticks\": \"\"}}, \"type\": \"scatter\"}], \"scatter3d\": [{\"line\": {\"colorbar\": {\"outlinewidth\": 0, \"ticks\": \"\"}}, \"marker\": {\"colorbar\": {\"outlinewidth\": 0, \"ticks\": \"\"}}, \"type\": \"scatter3d\"}], \"scattercarpet\": [{\"marker\": {\"colorbar\": {\"outlinewidth\": 0, \"ticks\": \"\"}}, \"type\": \"scattercarpet\"}], \"scattergeo\": [{\"marker\": {\"colorbar\": {\"outlinewidth\": 0, \"ticks\": \"\"}}, \"type\": \"scattergeo\"}], \"scattergl\": [{\"marker\": {\"colorbar\": {\"outlinewidth\": 0, \"ticks\": \"\"}}, \"type\": \"scattergl\"}], \"scattermapbox\": [{\"marker\": {\"colorbar\": {\"outlinewidth\": 0, \"ticks\": \"\"}}, \"type\": \"scattermapbox\"}], \"scatterpolar\": [{\"marker\": {\"colorbar\": {\"outlinewidth\": 0, \"ticks\": \"\"}}, \"type\": \"scatterpolar\"}], \"scatterpolargl\": [{\"marker\": {\"colorbar\": {\"outlinewidth\": 0, \"ticks\": \"\"}}, \"type\": \"scatterpolargl\"}], \"scatterternary\": [{\"marker\": {\"colorbar\": {\"outlinewidth\": 0, \"ticks\": \"\"}}, \"type\": \"scatterternary\"}], \"surface\": [{\"colorbar\": {\"outlinewidth\": 0, \"ticks\": \"\"}, \"colorscale\": [[0.0, \"#0d0887\"], [0.1111111111111111, \"#46039f\"], [0.2222222222222222, \"#7201a8\"], [0.3333333333333333, \"#9c179e\"], [0.4444444444444444, \"#bd3786\"], [0.5555555555555556, \"#d8576b\"], [0.6666666666666666, \"#ed7953\"], [0.7777777777777778, \"#fb9f3a\"], [0.8888888888888888, \"#fdca26\"], [1.0, \"#f0f921\"]], \"type\": \"surface\"}], \"table\": [{\"cells\": {\"fill\": {\"color\": \"#EBF0F8\"}, \"line\": {\"color\": \"white\"}}, \"header\": {\"fill\": {\"color\": \"#C8D4E3\"}, \"line\": {\"color\": \"white\"}}, \"type\": \"table\"}]}, \"layout\": {\"annotationdefaults\": {\"arrowcolor\": \"#2a3f5f\", \"arrowhead\": 0, \"arrowwidth\": 1}, \"coloraxis\": {\"colorbar\": {\"outlinewidth\": 0, \"ticks\": \"\"}}, \"colorscale\": {\"diverging\": [[0, \"#8e0152\"], [0.1, \"#c51b7d\"], [0.2, \"#de77ae\"], [0.3, \"#f1b6da\"], [0.4, \"#fde0ef\"], [0.5, \"#f7f7f7\"], [0.6, \"#e6f5d0\"], [0.7, \"#b8e186\"], [0.8, \"#7fbc41\"], [0.9, \"#4d9221\"], [1, \"#276419\"]], \"sequential\": [[0.0, \"#0d0887\"], [0.1111111111111111, \"#46039f\"], [0.2222222222222222, \"#7201a8\"], [0.3333333333333333, \"#9c179e\"], [0.4444444444444444, \"#bd3786\"], [0.5555555555555556, \"#d8576b\"], [0.6666666666666666, \"#ed7953\"], [0.7777777777777778, \"#fb9f3a\"], [0.8888888888888888, \"#fdca26\"], [1.0, \"#f0f921\"]], \"sequentialminus\": [[0.0, \"#0d0887\"], [0.1111111111111111, \"#46039f\"], [0.2222222222222222, \"#7201a8\"], [0.3333333333333333, \"#9c179e\"], [0.4444444444444444, \"#bd3786\"], [0.5555555555555556, \"#d8576b\"], [0.6666666666666666, \"#ed7953\"], [0.7777777777777778, \"#fb9f3a\"], [0.8888888888888888, \"#fdca26\"], [1.0, \"#f0f921\"]]}, \"colorway\": [\"#636efa\", \"#EF553B\", \"#00cc96\", \"#ab63fa\", \"#FFA15A\", \"#19d3f3\", \"#FF6692\", \"#B6E880\", \"#FF97FF\", \"#FECB52\"], \"font\": {\"color\": \"#2a3f5f\"}, \"geo\": {\"bgcolor\": \"white\", \"lakecolor\": \"white\", \"landcolor\": \"#E5ECF6\", \"showlakes\": true, \"showland\": true, \"subunitcolor\": \"white\"}, \"hoverlabel\": {\"align\": \"left\"}, \"hovermode\": \"closest\", \"mapbox\": {\"style\": \"light\"}, \"paper_bgcolor\": \"white\", \"plot_bgcolor\": \"#E5ECF6\", \"polar\": {\"angularaxis\": {\"gridcolor\": \"white\", \"linecolor\": \"white\", \"ticks\": \"\"}, \"bgcolor\": \"#E5ECF6\", \"radialaxis\": {\"gridcolor\": \"white\", \"linecolor\": \"white\", \"ticks\": \"\"}}, \"scene\": {\"xaxis\": {\"backgroundcolor\": \"#E5ECF6\", \"gridcolor\": \"white\", \"gridwidth\": 2, \"linecolor\": \"white\", \"showbackground\": true, \"ticks\": \"\", \"zerolinecolor\": \"white\"}, \"yaxis\": {\"backgroundcolor\": \"#E5ECF6\", \"gridcolor\": \"white\", \"gridwidth\": 2, \"linecolor\": \"white\", \"showbackground\": true, \"ticks\": \"\", \"zerolinecolor\": \"white\"}, \"zaxis\": {\"backgroundcolor\": \"#E5ECF6\", \"gridcolor\": \"white\", \"gridwidth\": 2, \"linecolor\": \"white\", \"showbackground\": true, \"ticks\": \"\", \"zerolinecolor\": \"white\"}}, \"shapedefaults\": {\"line\": {\"color\": \"#2a3f5f\"}}, \"ternary\": {\"aaxis\": {\"gridcolor\": \"white\", \"linecolor\": \"white\", \"ticks\": \"\"}, \"baxis\": {\"gridcolor\": \"white\", \"linecolor\": \"white\", \"ticks\": \"\"}, \"bgcolor\": \"#E5ECF6\", \"caxis\": {\"gridcolor\": \"white\", \"linecolor\": \"white\", \"ticks\": \"\"}}, \"title\": {\"x\": 0.05}, \"xaxis\": {\"automargin\": true, \"gridcolor\": \"white\", \"linecolor\": \"white\", \"ticks\": \"\", \"title\": {\"standoff\": 15}, \"zerolinecolor\": \"white\", \"zerolinewidth\": 2}, \"yaxis\": {\"automargin\": true, \"gridcolor\": \"white\", \"linecolor\": \"white\", \"ticks\": \"\", \"title\": {\"standoff\": 15}, \"zerolinecolor\": \"white\", \"zerolinewidth\": 2}}}, \"title\": {\"text\": \"Count Prediction\"}},\n",
              "                        {\"responsive\": true}\n",
              "                    ).then(function(){\n",
              "                            \n",
              "var gd = document.getElementById('e92bff69-e532-4bc5-afd7-2aed7ae403bf');\n",
              "var x = new MutationObserver(function (mutations, observer) {{\n",
              "        var display = window.getComputedStyle(gd).display;\n",
              "        if (!display || display === 'none') {{\n",
              "            console.log([gd, 'removed!']);\n",
              "            Plotly.purge(gd);\n",
              "            observer.disconnect();\n",
              "        }}\n",
              "}});\n",
              "\n",
              "// Listen for the removal of the full notebook cells\n",
              "var notebookContainer = gd.closest('#notebook-container');\n",
              "if (notebookContainer) {{\n",
              "    x.observe(notebookContainer, {childList: true});\n",
              "}}\n",
              "\n",
              "// Listen for the clearing of the current output cell\n",
              "var outputEl = gd.closest('.output');\n",
              "if (outputEl) {{\n",
              "    x.observe(outputEl, {childList: true});\n",
              "}}\n",
              "\n",
              "                        })\n",
              "                };\n",
              "                \n",
              "            </script>\n",
              "        </div>\n",
              "</body>\n",
              "</html>"
            ]
          },
          "metadata": {
            "tags": []
          }
        }
      ]
    },
    {
      "cell_type": "markdown",
      "metadata": {
        "id": "Ehsa3DaCy5Xk",
        "colab_type": "text"
      },
      "source": [
        "It looks like the model is merging well while predicting the variation for the next month."
      ]
    },
    {
      "cell_type": "code",
      "metadata": {
        "id": "r0Rd8-qXrnPG",
        "colab_type": "code",
        "colab": {}
      },
      "source": [
        "#df_count_pred"
      ],
      "execution_count": 0,
      "outputs": []
    },
    {
      "cell_type": "code",
      "metadata": {
        "id": "XBvTDSXbRiWx",
        "colab_type": "code",
        "colab": {}
      },
      "source": [
        "#dev_count_monthly"
      ],
      "execution_count": 0,
      "outputs": []
    },
    {
      "cell_type": "code",
      "metadata": {
        "id": "a0R6hwnx0FIF",
        "colab_type": "code",
        "colab": {}
      },
      "source": [
        "#!pip install chart-studio"
      ],
      "execution_count": 0,
      "outputs": []
    },
    {
      "cell_type": "markdown",
      "metadata": {
        "id": "AmB1PNr8B_Tw",
        "colab_type": "text"
      },
      "source": [
        "## 6. Prediction for next year "
      ]
    },
    {
      "cell_type": "code",
      "metadata": {
        "id": "kgGFDSUF2BIY",
        "colab_type": "code",
        "colab": {}
      },
      "source": [
        "#df_lag_features"
      ],
      "execution_count": 0,
      "outputs": []
    },
    {
      "cell_type": "code",
      "metadata": {
        "id": "1gauBUTaDDvm",
        "colab_type": "code",
        "colab": {}
      },
      "source": [
        "#apply Min Max Scaler\n",
        "scaler_ = MinMaxScaler(feature_range=(-1, 1))\n",
        "scaler_ = scaler_.fit(df_lag_features.iloc[:,1:4])"
      ],
      "execution_count": 0,
      "outputs": []
    },
    {
      "cell_type": "code",
      "metadata": {
        "id": "A2A2668IB_UN",
        "colab_type": "code",
        "colab": {}
      },
      "source": [
        "future_months_no = 12\n",
        "next_year=list()\n",
        "input_next_year_X = test_set[-1:,1:]\n",
        "pred_count = df_supervised[\"count\"][-1:].values[0]\n",
        "\n",
        "for i in range(1, future_months_no + 1):\n",
        "    # make a prediction\n",
        "    #print(\"Predict %d day\"%i)\n",
        "    scaled_X = scaler_.transform(input_next_year_X)\n",
        "    scaled_X = scaled_X.reshape(1, scaled_X.shape[0], scaled_X.shape[1])\n",
        "\n",
        "    yhat = model.predict(scaled_X)\n",
        "\n",
        "    #reshape y_pred for inverse transform\n",
        "    yhat = yhat.reshape(yhat.shape[0], 1, yhat.shape[1])\n",
        "    pred_test_set = []\n",
        "    for index in range(0,len(yhat)):\n",
        "        pred_test_set.append(np.concatenate([yhat[index],X_test[index]],axis=1))\n",
        " \n",
        "    pred_test_set = np.array(pred_test_set)\n",
        "\n",
        "    #reshape pred_test_set\n",
        "    pred_test_set = pred_test_set.reshape(pred_test_set.shape[0], pred_test_set.shape[2])\n",
        "\n",
        "    #inverse transform\n",
        "    pred_test_set_inv = scaler.inverse_transform(pred_test_set)\n",
        "   \n",
        "    next_year.append(pred_count + pred_test_set_inv[0][0])\n",
        "    pred_count = pred_count + pred_test_set_inv[0][0]\n",
        "\n",
        "    # prepare the input for next prediction using the previous predicted value\n",
        "    input_next_year_X = np.delete(input_next_year_X[0], 2)\n",
        "    input_next_year_X = np.insert(input_next_year_X, 0, pred_count)\n",
        "    input_next_year_X = input_next_year_X.reshape( 1, input_next_year_X.shape[0])"
      ],
      "execution_count": 0,
      "outputs": []
    },
    {
      "cell_type": "code",
      "metadata": {
        "id": "V7lJW7W9B_UU",
        "colab_type": "code",
        "colab": {}
      },
      "source": [
        "#len(next_year)\n",
        "#next_year"
      ],
      "execution_count": 0,
      "outputs": []
    },
    {
      "cell_type": "code",
      "metadata": {
        "id": "nj6N4BDEB_UY",
        "colab_type": "code",
        "outputId": "d0d5fd99-c58b-4532-b94b-a3b280716048",
        "colab": {
          "base_uri": "https://localhost:8080/",
          "height": 603
        }
      },
      "source": [
        "start = pd.Timestamp('2018-03-31')\n",
        "end = start + timedelta(days=30 * future_months_no)\n",
        "days = mdates.drange(start, end, timedelta(days=30))\n",
        "\n",
        "plt.gca().xaxis.set_major_formatter(mdates.DateFormatter('%Y-%m-%d'))\n",
        "plt.gca().xaxis.set_major_locator(mdates.DayLocator(interval=30))\n",
        "\n",
        "#plt.plot(days, values, \"-b\", label='2017-18') # previous year\n",
        "plt.plot(days, next_year,    \"-r\"   , label='2018-19(prediction)')   # forecast\n",
        "\n",
        "plt.legend(loc=\"upper right\")\n",
        "plt.gcf().autofmt_xdate()\n",
        "\n",
        "fig_size = plt.rcParams[\"figure.figsize\"]\n",
        "print(\"default:\", fig_size)\n",
        "fig_size[0] = 24\n",
        "fig_size[1] = 10\n",
        "plt.rcParams[\"figure.figsize\"] =  fig_size \n",
        "\n",
        "plt.show()"
      ],
      "execution_count": 0,
      "outputs": [
        {
          "output_type": "stream",
          "text": [
            "default: [24.0, 10.0]\n"
          ],
          "name": "stdout"
        },
        {
          "output_type": "display_data",
          "data": {
            "image/png": "[encoded data removed]",
            "text/plain": [
              "<Figure size 1728x720 with 1 Axes>"
            ]
          },
          "metadata": {
            "tags": []
          }
        }
      ]
    },
    {
      "cell_type": "markdown",
      "metadata": {
        "id": "T00oOYpu3bGs",
        "colab_type": "text"
      },
      "source": [
        "The graph does not show well any variation on a monthly basis. Reason is due to using the predicted value as input for further future prediction.  \n",
        "Instead predicting for a short term with this model would be appropriate.  \n",
        "However supplying the model actual previous month data it could predict next month sales.  "
      ]
    },
    {
      "cell_type": "markdown",
      "metadata": {
        "id": "VQVhnKDowqLM",
        "colab_type": "text"
      },
      "source": [
        "## 7. Predict for Next (3) month"
      ]
    },
    {
      "cell_type": "code",
      "metadata": {
        "id": "AwxS4RvDfsrj",
        "colab_type": "code",
        "colab": {}
      },
      "source": [
        "future_months_no = 3\n",
        "next_year=list()\n",
        "input_next_year_X = test_set[-1:,1:]\n",
        "pred_count = df_supervised[\"count\"][-1:].values[0]\n",
        "\n",
        "for i in range(1, future_months_no + 1):\n",
        "    # make a prediction\n",
        "    #print(\"Predict %d day\"%i)\n",
        "    scaled_X = scaler_.transform(input_next_year_X)\n",
        "\n",
        "    #input_next_year_X = input_next_year_X[0:,1:]\n",
        "    scaled_X = scaled_X.reshape(1, scaled_X.shape[0], scaled_X.shape[1])\n",
        "\n",
        "    yhat = model.predict(scaled_X)\n",
        "    #reshape y_pred for inverse transform\n",
        "    yhat = yhat.reshape(yhat.shape[0], 1, yhat.shape[1])\n",
        "    pred_test_set = []\n",
        "    for index in range(0,len(yhat)):\n",
        "        pred_test_set.append(np.concatenate([yhat[index],X_test[index]],axis=1))\n",
        " \n",
        "    pred_test_set = np.array(pred_test_set)\n",
        "    #reshape pred_test_set\n",
        "    pred_test_set = pred_test_set.reshape(pred_test_set.shape[0], pred_test_set.shape[2])\n",
        "    #inverse transform\n",
        "    pred_test_set_inv = scaler.inverse_transform(pred_test_set)\n",
        "   \n",
        "    next_year.append(pred_count + pred_test_set_inv[0][0])\n",
        "\n",
        "    pred_count = pred_count + pred_test_set_inv[0][0]\n",
        "\n",
        "    # prepare the input for next prediction using the previous predicted value\n",
        "    input_next_year_X = np.delete(input_next_year_X[0], 2)\n",
        "    input_next_year_X = np.insert(input_next_year_X, 0, pred_count)\n",
        "    input_next_year_X = input_next_year_X.reshape( 1, input_next_year_X.shape[0])"
      ],
      "execution_count": 0,
      "outputs": []
    },
    {
      "cell_type": "code",
      "metadata": {
        "id": "gjI7o08ygLU7",
        "colab_type": "code",
        "colab": {}
      },
      "source": [
        "#next_year"
      ],
      "execution_count": 0,
      "outputs": []
    },
    {
      "cell_type": "code",
      "metadata": {
        "id": "t3bil5IwzaMZ",
        "colab_type": "code",
        "colab": {}
      },
      "source": [
        "predictions = result_list.copy()\n",
        "\n",
        "for index in range(0,len(next_year)):\n",
        "  date = pd.Timestamp('2018-03-31') + timedelta(days = 30 * index)\n",
        "  result_dict = {}\n",
        "  result_dict['pred_value'] = int(next_year[index])\n",
        "  result_dict['date'] = date\n",
        "  predictions.append(result_dict)\n",
        "\n",
        "df_predictions = pd.DataFrame(predictions)"
      ],
      "execution_count": 0,
      "outputs": []
    },
    {
      "cell_type": "code",
      "metadata": {
        "id": "ToDYoR0bsosT",
        "colab_type": "code",
        "outputId": "0b4b6170-5eaf-40c8-cc85-45f6718bb5a4",
        "colab": {
          "base_uri": "https://localhost:8080/",
          "height": 793
        }
      },
      "source": [
        "df_future"
      ],
      "execution_count": 0,
      "outputs": [
        {
          "output_type": "execute_result",
          "data": {
            "text/html": [
              "<div>\n",
              "<style scoped>\n",
              "    .dataframe tbody tr th:only-of-type {\n",
              "        vertical-align: middle;\n",
              "    }\n",
              "\n",
              "    .dataframe tbody tr th {\n",
              "        vertical-align: top;\n",
              "    }\n",
              "\n",
              "    .dataframe thead th {\n",
              "        text-align: right;\n",
              "    }\n",
              "</style>\n",
              "<table border=\"1\" class=\"dataframe\">\n",
              "  <thead>\n",
              "    <tr style=\"text-align: right;\">\n",
              "      <th></th>\n",
              "      <th>pred_value</th>\n",
              "      <th>date</th>\n",
              "    </tr>\n",
              "  </thead>\n",
              "  <tbody>\n",
              "    <tr>\n",
              "      <th>0</th>\n",
              "      <td>2818</td>\n",
              "      <td>2017-06-30</td>\n",
              "    </tr>\n",
              "    <tr>\n",
              "      <th>1</th>\n",
              "      <td>2856</td>\n",
              "      <td>2017-07-31</td>\n",
              "    </tr>\n",
              "    <tr>\n",
              "      <th>2</th>\n",
              "      <td>5253</td>\n",
              "      <td>2017-08-31</td>\n",
              "    </tr>\n",
              "    <tr>\n",
              "      <th>3</th>\n",
              "      <td>4215</td>\n",
              "      <td>2017-09-30</td>\n",
              "    </tr>\n",
              "    <tr>\n",
              "      <th>4</th>\n",
              "      <td>5499</td>\n",
              "      <td>2017-10-31</td>\n",
              "    </tr>\n",
              "    <tr>\n",
              "      <th>5</th>\n",
              "      <td>4099</td>\n",
              "      <td>2017-11-30</td>\n",
              "    </tr>\n",
              "    <tr>\n",
              "      <th>6</th>\n",
              "      <td>3824</td>\n",
              "      <td>2017-12-31</td>\n",
              "    </tr>\n",
              "    <tr>\n",
              "      <th>7</th>\n",
              "      <td>5315</td>\n",
              "      <td>2018-01-31</td>\n",
              "    </tr>\n",
              "    <tr>\n",
              "      <th>8</th>\n",
              "      <td>4805</td>\n",
              "      <td>2018-02-28</td>\n",
              "    </tr>\n",
              "    <tr>\n",
              "      <th>9</th>\n",
              "      <td>4767</td>\n",
              "      <td>2018-03-31</td>\n",
              "    </tr>\n",
              "    <tr>\n",
              "      <th>10</th>\n",
              "      <td>4563</td>\n",
              "      <td>2018-04-30</td>\n",
              "    </tr>\n",
              "    <tr>\n",
              "      <th>11</th>\n",
              "      <td>4450</td>\n",
              "      <td>2018-05-30</td>\n",
              "    </tr>\n",
              "    <tr>\n",
              "      <th>12</th>\n",
              "      <td>4347</td>\n",
              "      <td>2018-06-29</td>\n",
              "    </tr>\n",
              "    <tr>\n",
              "      <th>13</th>\n",
              "      <td>4254</td>\n",
              "      <td>2018-07-29</td>\n",
              "    </tr>\n",
              "    <tr>\n",
              "      <th>14</th>\n",
              "      <td>4173</td>\n",
              "      <td>2018-08-28</td>\n",
              "    </tr>\n",
              "    <tr>\n",
              "      <th>15</th>\n",
              "      <td>4103</td>\n",
              "      <td>2018-09-27</td>\n",
              "    </tr>\n",
              "    <tr>\n",
              "      <th>16</th>\n",
              "      <td>4045</td>\n",
              "      <td>2018-10-27</td>\n",
              "    </tr>\n",
              "    <tr>\n",
              "      <th>17</th>\n",
              "      <td>3997</td>\n",
              "      <td>2018-11-26</td>\n",
              "    </tr>\n",
              "    <tr>\n",
              "      <th>18</th>\n",
              "      <td>3959</td>\n",
              "      <td>2018-12-26</td>\n",
              "    </tr>\n",
              "    <tr>\n",
              "      <th>19</th>\n",
              "      <td>3930</td>\n",
              "      <td>2019-01-25</td>\n",
              "    </tr>\n",
              "    <tr>\n",
              "      <th>20</th>\n",
              "      <td>3910</td>\n",
              "      <td>2019-02-24</td>\n",
              "    </tr>\n",
              "    <tr>\n",
              "      <th>21</th>\n",
              "      <td>4773</td>\n",
              "      <td>2018-03-31</td>\n",
              "    </tr>\n",
              "    <tr>\n",
              "      <th>22</th>\n",
              "      <td>4571</td>\n",
              "      <td>2018-04-30</td>\n",
              "    </tr>\n",
              "    <tr>\n",
              "      <th>23</th>\n",
              "      <td>4459</td>\n",
              "      <td>2018-05-30</td>\n",
              "    </tr>\n",
              "  </tbody>\n",
              "</table>\n",
              "</div>"
            ],
            "text/plain": [
              "    pred_value       date\n",
              "0         2818 2017-06-30\n",
              "1         2856 2017-07-31\n",
              "2         5253 2017-08-31\n",
              "3         4215 2017-09-30\n",
              "4         5499 2017-10-31\n",
              "5         4099 2017-11-30\n",
              "6         3824 2017-12-31\n",
              "7         5315 2018-01-31\n",
              "8         4805 2018-02-28\n",
              "9         4767 2018-03-31\n",
              "10        4563 2018-04-30\n",
              "11        4450 2018-05-30\n",
              "12        4347 2018-06-29\n",
              "13        4254 2018-07-29\n",
              "14        4173 2018-08-28\n",
              "15        4103 2018-09-27\n",
              "16        4045 2018-10-27\n",
              "17        3997 2018-11-26\n",
              "18        3959 2018-12-26\n",
              "19        3930 2019-01-25\n",
              "20        3910 2019-02-24\n",
              "21        4773 2018-03-31\n",
              "22        4571 2018-04-30\n",
              "23        4459 2018-05-30"
            ]
          },
          "metadata": {
            "tags": []
          },
          "execution_count": 224
        }
      ]
    },
    {
      "cell_type": "code",
      "metadata": {
        "id": "9VgE2WtkB_Ue",
        "colab_type": "code",
        "outputId": "3ff22a7e-fb45-4ff5-e30e-0ad51db8bd5e",
        "colab": {
          "base_uri": "https://localhost:8080/",
          "height": 542
        }
      },
      "source": [
        "#merging predicted with actual sales dataframe\n",
        "\n",
        "import chart_studio.plotly as py\n",
        "import plotly.offline as pyoff\n",
        "import plotly.graph_objs as go\n",
        "\n",
        "df_count_pred = pd.merge(dev_count_monthly,df_predictions,on='date',how='outer')#plot actual and predicted\n",
        "plot_data = [\n",
        "    go.Scatter(\n",
        "        x=df_count_pred['date'],\n",
        "        y=df_count_pred['count'],\n",
        "        name='actual'\n",
        "    ),\n",
        "        go.Scatter(\n",
        "        x=df_count_pred['date'],\n",
        "        y=df_count_pred['pred_value'],\n",
        "        name='predicted'\n",
        "    )\n",
        "    \n",
        "]\n",
        "plot_layout = go.Layout(\n",
        "        title='Count Prediction'\n",
        "    )\n",
        "fig = go.Figure(data=plot_data, layout=plot_layout)\n",
        "pyoff.iplot(fig)"
      ],
      "execution_count": 0,
      "outputs": [
        {
          "output_type": "display_data",
          "data": {
            "text/html": [
              "<html>\n",
              "<head><meta charset=\"utf-8\" /></head>\n",
              "<body>\n",
              "    <div>\n",
              "            <script src=\"https://cdnjs.cloudflare.com/ajax/libs/mathjax/2.7.5/MathJax.js?config=TeX-AMS-MML_SVG\"></script><script type=\"text/javascript\">if (window.MathJax) {MathJax.Hub.Config({SVG: {font: \"STIX-Web\"}});}</script>\n",
              "                <script type=\"text/javascript\">window.PlotlyConfig = {MathJaxConfig: 'local'};</script>\n",
              "        <script src=\"https://cdn.plot.ly/plotly-latest.min.js\"></script>    \n",
              "            <div id=\"1684da9f-5236-4ffe-b00d-4f3eac1b97d6\" class=\"plotly-graph-div\" style=\"height:525px; width:100%;\"></div>\n",
              "            <script type=\"text/javascript\">\n",
              "                \n",
              "                    window.PLOTLYENV=window.PLOTLYENV || {};\n",
              "                    \n",
              "                if (document.getElementById(\"1684da9f-5236-4ffe-b00d-4f3eac1b97d6\")) {\n",
              "                    Plotly.newPlot(\n",
              "                        '1684da9f-5236-4ffe-b00d-4f3eac1b97d6',\n",
              "                        [{\"name\": \"actual\", \"type\": \"scatter\", \"x\": [\"2015-06-30T00:00:00\", \"2015-07-31T00:00:00\", \"2015-08-31T00:00:00\", \"2015-09-30T00:00:00\", \"2015-10-31T00:00:00\", \"2015-11-30T00:00:00\", \"2015-12-31T00:00:00\", \"2016-01-31T00:00:00\", \"2016-02-29T00:00:00\", \"2016-03-31T00:00:00\", \"2016-04-30T00:00:00\", \"2016-05-31T00:00:00\", \"2016-06-30T00:00:00\", \"2016-07-31T00:00:00\", \"2016-08-31T00:00:00\", \"2016-09-30T00:00:00\", \"2016-10-31T00:00:00\", \"2016-11-30T00:00:00\", \"2016-12-31T00:00:00\", \"2017-01-31T00:00:00\", \"2017-02-28T00:00:00\", \"2017-03-31T00:00:00\", \"2017-04-30T00:00:00\", \"2017-05-31T00:00:00\", \"2017-06-30T00:00:00\", \"2017-07-31T00:00:00\", \"2017-08-31T00:00:00\", \"2017-09-30T00:00:00\", \"2017-10-31T00:00:00\", \"2017-11-30T00:00:00\", \"2017-12-31T00:00:00\", \"2018-01-31T00:00:00\", \"2018-02-28T00:00:00\", \"2018-03-31T00:00:00\", \"2018-04-30T00:00:00\", \"2018-05-30T00:00:00\"], \"y\": [461.0, 503.0, 589.0, 428.0, 514.0, 384.0, 472.0, 410.0, 388.0, 504.0, 546.0, 534.0, 570.0, 552.0, 925.0, 875.0, 942.0, 1004.0, 873.0, 1236.0, 856.0, 1418.0, 1694.0, 2139.0, 2565.0, 2558.0, 4911.0, 3990.0, 5329.0, 4116.0, 3864.0, 5240.0, 4925.0, null, null, null]}, {\"name\": \"predicted\", \"type\": \"scatter\", \"x\": [\"2015-06-30T00:00:00\", \"2015-07-31T00:00:00\", \"2015-08-31T00:00:00\", \"2015-09-30T00:00:00\", \"2015-10-31T00:00:00\", \"2015-11-30T00:00:00\", \"2015-12-31T00:00:00\", \"2016-01-31T00:00:00\", \"2016-02-29T00:00:00\", \"2016-03-31T00:00:00\", \"2016-04-30T00:00:00\", \"2016-05-31T00:00:00\", \"2016-06-30T00:00:00\", \"2016-07-31T00:00:00\", \"2016-08-31T00:00:00\", \"2016-09-30T00:00:00\", \"2016-10-31T00:00:00\", \"2016-11-30T00:00:00\", \"2016-12-31T00:00:00\", \"2017-01-31T00:00:00\", \"2017-02-28T00:00:00\", \"2017-03-31T00:00:00\", \"2017-04-30T00:00:00\", \"2017-05-31T00:00:00\", \"2017-06-30T00:00:00\", \"2017-07-31T00:00:00\", \"2017-08-31T00:00:00\", \"2017-09-30T00:00:00\", \"2017-10-31T00:00:00\", \"2017-11-30T00:00:00\", \"2017-12-31T00:00:00\", \"2018-01-31T00:00:00\", \"2018-02-28T00:00:00\", \"2018-03-31T00:00:00\", \"2018-04-30T00:00:00\", \"2018-05-30T00:00:00\"], \"y\": [null, null, null, null, null, null, null, null, null, null, null, null, null, null, null, null, null, null, null, null, null, null, null, null, 2533.0, 2587.0, 5033.0, 4002.0, 5316.0, 3994.0, 3743.0, 5259.0, 4765.0, 4774.0, 4573.0, 4460.0]}],\n",
              "                        {\"template\": {\"data\": {\"bar\": [{\"error_x\": {\"color\": \"#2a3f5f\"}, \"error_y\": {\"color\": \"#2a3f5f\"}, \"marker\": {\"line\": {\"color\": \"#E5ECF6\", \"width\": 0.5}}, \"type\": \"bar\"}], \"barpolar\": [{\"marker\": {\"line\": {\"color\": \"#E5ECF6\", \"width\": 0.5}}, \"type\": \"barpolar\"}], \"carpet\": [{\"aaxis\": {\"endlinecolor\": \"#2a3f5f\", \"gridcolor\": \"white\", \"linecolor\": \"white\", \"minorgridcolor\": \"white\", \"startlinecolor\": \"#2a3f5f\"}, \"baxis\": {\"endlinecolor\": \"#2a3f5f\", \"gridcolor\": \"white\", \"linecolor\": \"white\", \"minorgridcolor\": \"white\", \"startlinecolor\": \"#2a3f5f\"}, \"type\": \"carpet\"}], \"choropleth\": [{\"colorbar\": {\"outlinewidth\": 0, \"ticks\": \"\"}, \"type\": \"choropleth\"}], \"contour\": [{\"colorbar\": {\"outlinewidth\": 0, \"ticks\": \"\"}, \"colorscale\": [[0.0, \"#0d0887\"], [0.1111111111111111, \"#46039f\"], [0.2222222222222222, \"#7201a8\"], [0.3333333333333333, \"#9c179e\"], [0.4444444444444444, \"#bd3786\"], [0.5555555555555556, \"#d8576b\"], [0.6666666666666666, \"#ed7953\"], [0.7777777777777778, \"#fb9f3a\"], [0.8888888888888888, \"#fdca26\"], [1.0, \"#f0f921\"]], \"type\": \"contour\"}], \"contourcarpet\": [{\"colorbar\": {\"outlinewidth\": 0, \"ticks\": \"\"}, \"type\": \"contourcarpet\"}], \"heatmap\": [{\"colorbar\": {\"outlinewidth\": 0, \"ticks\": \"\"}, \"colorscale\": [[0.0, \"#0d0887\"], [0.1111111111111111, \"#46039f\"], [0.2222222222222222, \"#7201a8\"], [0.3333333333333333, \"#9c179e\"], [0.4444444444444444, \"#bd3786\"], [0.5555555555555556, \"#d8576b\"], [0.6666666666666666, \"#ed7953\"], [0.7777777777777778, \"#fb9f3a\"], [0.8888888888888888, \"#fdca26\"], [1.0, \"#f0f921\"]], \"type\": \"heatmap\"}], \"heatmapgl\": [{\"colorbar\": {\"outlinewidth\": 0, \"ticks\": \"\"}, \"colorscale\": [[0.0, \"#0d0887\"], [0.1111111111111111, \"#46039f\"], [0.2222222222222222, \"#7201a8\"], [0.3333333333333333, \"#9c179e\"], [0.4444444444444444, \"#bd3786\"], [0.5555555555555556, \"#d8576b\"], [0.6666666666666666, \"#ed7953\"], [0.7777777777777778, \"#fb9f3a\"], [0.8888888888888888, \"#fdca26\"], [1.0, \"#f0f921\"]], \"type\": \"heatmapgl\"}], \"histogram\": [{\"marker\": {\"colorbar\": {\"outlinewidth\": 0, \"ticks\": \"\"}}, \"type\": \"histogram\"}], \"histogram2d\": [{\"colorbar\": {\"outlinewidth\": 0, \"ticks\": \"\"}, \"colorscale\": [[0.0, \"#0d0887\"], [0.1111111111111111, \"#46039f\"], [0.2222222222222222, \"#7201a8\"], [0.3333333333333333, \"#9c179e\"], [0.4444444444444444, \"#bd3786\"], [0.5555555555555556, \"#d8576b\"], [0.6666666666666666, \"#ed7953\"], [0.7777777777777778, \"#fb9f3a\"], [0.8888888888888888, \"#fdca26\"], [1.0, \"#f0f921\"]], \"type\": \"histogram2d\"}], \"histogram2dcontour\": [{\"colorbar\": {\"outlinewidth\": 0, \"ticks\": \"\"}, \"colorscale\": [[0.0, \"#0d0887\"], [0.1111111111111111, \"#46039f\"], [0.2222222222222222, \"#7201a8\"], [0.3333333333333333, \"#9c179e\"], [0.4444444444444444, \"#bd3786\"], [0.5555555555555556, \"#d8576b\"], [0.6666666666666666, \"#ed7953\"], [0.7777777777777778, \"#fb9f3a\"], [0.8888888888888888, \"#fdca26\"], [1.0, \"#f0f921\"]], \"type\": \"histogram2dcontour\"}], \"mesh3d\": [{\"colorbar\": {\"outlinewidth\": 0, \"ticks\": \"\"}, \"type\": \"mesh3d\"}], \"parcoords\": [{\"line\": {\"colorbar\": {\"outlinewidth\": 0, \"ticks\": \"\"}}, \"type\": \"parcoords\"}], \"pie\": [{\"automargin\": true, \"type\": \"pie\"}], \"scatter\": [{\"marker\": {\"colorbar\": {\"outlinewidth\": 0, \"ticks\": \"\"}}, \"type\": \"scatter\"}], \"scatter3d\": [{\"line\": {\"colorbar\": {\"outlinewidth\": 0, \"ticks\": \"\"}}, \"marker\": {\"colorbar\": {\"outlinewidth\": 0, \"ticks\": \"\"}}, \"type\": \"scatter3d\"}], \"scattercarpet\": [{\"marker\": {\"colorbar\": {\"outlinewidth\": 0, \"ticks\": \"\"}}, \"type\": \"scattercarpet\"}], \"scattergeo\": [{\"marker\": {\"colorbar\": {\"outlinewidth\": 0, \"ticks\": \"\"}}, \"type\": \"scattergeo\"}], \"scattergl\": [{\"marker\": {\"colorbar\": {\"outlinewidth\": 0, \"ticks\": \"\"}}, \"type\": \"scattergl\"}], \"scattermapbox\": [{\"marker\": {\"colorbar\": {\"outlinewidth\": 0, \"ticks\": \"\"}}, \"type\": \"scattermapbox\"}], \"scatterpolar\": [{\"marker\": {\"colorbar\": {\"outlinewidth\": 0, \"ticks\": \"\"}}, \"type\": \"scatterpolar\"}], \"scatterpolargl\": [{\"marker\": {\"colorbar\": {\"outlinewidth\": 0, \"ticks\": \"\"}}, \"type\": \"scatterpolargl\"}], \"scatterternary\": [{\"marker\": {\"colorbar\": {\"outlinewidth\": 0, \"ticks\": \"\"}}, \"type\": \"scatterternary\"}], \"surface\": [{\"colorbar\": {\"outlinewidth\": 0, \"ticks\": \"\"}, \"colorscale\": [[0.0, \"#0d0887\"], [0.1111111111111111, \"#46039f\"], [0.2222222222222222, \"#7201a8\"], [0.3333333333333333, \"#9c179e\"], [0.4444444444444444, \"#bd3786\"], [0.5555555555555556, \"#d8576b\"], [0.6666666666666666, \"#ed7953\"], [0.7777777777777778, \"#fb9f3a\"], [0.8888888888888888, \"#fdca26\"], [1.0, \"#f0f921\"]], \"type\": \"surface\"}], \"table\": [{\"cells\": {\"fill\": {\"color\": \"#EBF0F8\"}, \"line\": {\"color\": \"white\"}}, \"header\": {\"fill\": {\"color\": \"#C8D4E3\"}, \"line\": {\"color\": \"white\"}}, \"type\": \"table\"}]}, \"layout\": {\"annotationdefaults\": {\"arrowcolor\": \"#2a3f5f\", \"arrowhead\": 0, \"arrowwidth\": 1}, \"coloraxis\": {\"colorbar\": {\"outlinewidth\": 0, \"ticks\": \"\"}}, \"colorscale\": {\"diverging\": [[0, \"#8e0152\"], [0.1, \"#c51b7d\"], [0.2, \"#de77ae\"], [0.3, \"#f1b6da\"], [0.4, \"#fde0ef\"], [0.5, \"#f7f7f7\"], [0.6, \"#e6f5d0\"], [0.7, \"#b8e186\"], [0.8, \"#7fbc41\"], [0.9, \"#4d9221\"], [1, \"#276419\"]], \"sequential\": [[0.0, \"#0d0887\"], [0.1111111111111111, \"#46039f\"], [0.2222222222222222, \"#7201a8\"], [0.3333333333333333, \"#9c179e\"], [0.4444444444444444, \"#bd3786\"], [0.5555555555555556, \"#d8576b\"], [0.6666666666666666, \"#ed7953\"], [0.7777777777777778, \"#fb9f3a\"], [0.8888888888888888, \"#fdca26\"], [1.0, \"#f0f921\"]], \"sequentialminus\": [[0.0, \"#0d0887\"], [0.1111111111111111, \"#46039f\"], [0.2222222222222222, \"#7201a8\"], [0.3333333333333333, \"#9c179e\"], [0.4444444444444444, \"#bd3786\"], [0.5555555555555556, \"#d8576b\"], [0.6666666666666666, \"#ed7953\"], [0.7777777777777778, \"#fb9f3a\"], [0.8888888888888888, \"#fdca26\"], [1.0, \"#f0f921\"]]}, \"colorway\": [\"#636efa\", \"#EF553B\", \"#00cc96\", \"#ab63fa\", \"#FFA15A\", \"#19d3f3\", \"#FF6692\", \"#B6E880\", \"#FF97FF\", \"#FECB52\"], \"font\": {\"color\": \"#2a3f5f\"}, \"geo\": {\"bgcolor\": \"white\", \"lakecolor\": \"white\", \"landcolor\": \"#E5ECF6\", \"showlakes\": true, \"showland\": true, \"subunitcolor\": \"white\"}, \"hoverlabel\": {\"align\": \"left\"}, \"hovermode\": \"closest\", \"mapbox\": {\"style\": \"light\"}, \"paper_bgcolor\": \"white\", \"plot_bgcolor\": \"#E5ECF6\", \"polar\": {\"angularaxis\": {\"gridcolor\": \"white\", \"linecolor\": \"white\", \"ticks\": \"\"}, \"bgcolor\": \"#E5ECF6\", \"radialaxis\": {\"gridcolor\": \"white\", \"linecolor\": \"white\", \"ticks\": \"\"}}, \"scene\": {\"xaxis\": {\"backgroundcolor\": \"#E5ECF6\", \"gridcolor\": \"white\", \"gridwidth\": 2, \"linecolor\": \"white\", \"showbackground\": true, \"ticks\": \"\", \"zerolinecolor\": \"white\"}, \"yaxis\": {\"backgroundcolor\": \"#E5ECF6\", \"gridcolor\": \"white\", \"gridwidth\": 2, \"linecolor\": \"white\", \"showbackground\": true, \"ticks\": \"\", \"zerolinecolor\": \"white\"}, \"zaxis\": {\"backgroundcolor\": \"#E5ECF6\", \"gridcolor\": \"white\", \"gridwidth\": 2, \"linecolor\": \"white\", \"showbackground\": true, \"ticks\": \"\", \"zerolinecolor\": \"white\"}}, \"shapedefaults\": {\"line\": {\"color\": \"#2a3f5f\"}}, \"ternary\": {\"aaxis\": {\"gridcolor\": \"white\", \"linecolor\": \"white\", \"ticks\": \"\"}, \"baxis\": {\"gridcolor\": \"white\", \"linecolor\": \"white\", \"ticks\": \"\"}, \"bgcolor\": \"#E5ECF6\", \"caxis\": {\"gridcolor\": \"white\", \"linecolor\": \"white\", \"ticks\": \"\"}}, \"title\": {\"x\": 0.05}, \"xaxis\": {\"automargin\": true, \"gridcolor\": \"white\", \"linecolor\": \"white\", \"ticks\": \"\", \"title\": {\"standoff\": 15}, \"zerolinecolor\": \"white\", \"zerolinewidth\": 2}, \"yaxis\": {\"automargin\": true, \"gridcolor\": \"white\", \"linecolor\": \"white\", \"ticks\": \"\", \"title\": {\"standoff\": 15}, \"zerolinecolor\": \"white\", \"zerolinewidth\": 2}}}, \"title\": {\"text\": \"Count Prediction\"}},\n",
              "                        {\"responsive\": true}\n",
              "                    ).then(function(){\n",
              "                            \n",
              "var gd = document.getElementById('1684da9f-5236-4ffe-b00d-4f3eac1b97d6');\n",
              "var x = new MutationObserver(function (mutations, observer) {{\n",
              "        var display = window.getComputedStyle(gd).display;\n",
              "        if (!display || display === 'none') {{\n",
              "            console.log([gd, 'removed!']);\n",
              "            Plotly.purge(gd);\n",
              "            observer.disconnect();\n",
              "        }}\n",
              "}});\n",
              "\n",
              "// Listen for the removal of the full notebook cells\n",
              "var notebookContainer = gd.closest('#notebook-container');\n",
              "if (notebookContainer) {{\n",
              "    x.observe(notebookContainer, {childList: true});\n",
              "}}\n",
              "\n",
              "// Listen for the clearing of the current output cell\n",
              "var outputEl = gd.closest('.output');\n",
              "if (outputEl) {{\n",
              "    x.observe(outputEl, {childList: true});\n",
              "}}\n",
              "\n",
              "                        })\n",
              "                };\n",
              "                \n",
              "            </script>\n",
              "        </div>\n",
              "</body>\n",
              "</html>"
            ]
          },
          "metadata": {
            "tags": []
          }
        }
      ]
    },
    {
      "cell_type": "markdown",
      "metadata": {
        "id": "-kEEtAxk5Pgb",
        "colab_type": "text"
      },
      "source": [
        "The model shows a very good approximation while predicting 9 months from test data.  \n",
        "9 data point prediction from Jun 30, 2017 till Feb 28, 2018)  \n",
        "Model showing good approximation for next three months.  \n",
        "After that showing a decreasing trend at this point!  \n",
        "Additional features and better model is needed to predict both up-down  "
      ]
    },
    {
      "cell_type": "markdown",
      "metadata": {
        "id": "2TwtEBSk9TZr",
        "colab_type": "text"
      },
      "source": [
        "# Task 3"
      ]
    },
    {
      "cell_type": "code",
      "metadata": {
        "id": "1lB-ZjCwJEfO",
        "colab_type": "code",
        "colab": {}
      },
      "source": [
        "df_device_daily = pd.read_csv(data_path + \"unique_device_daily.csv\", delimiter=\",\")"
      ],
      "execution_count": 0,
      "outputs": []
    },
    {
      "cell_type": "code",
      "metadata": {
        "id": "ZM0v_mB-yf0R",
        "colab_type": "code",
        "colab": {}
      },
      "source": [
        "df_device_daily.date = pd.to_datetime(df_device_daily.date)"
      ],
      "execution_count": 0,
      "outputs": []
    },
    {
      "cell_type": "code",
      "metadata": {
        "id": "iNwdqW4__F02",
        "colab_type": "code",
        "outputId": "71bd81ba-66a2-45d4-d758-b4ecac9f039c",
        "colab": {
          "base_uri": "https://localhost:8080/",
          "height": 269
        }
      },
      "source": [
        "df_device_daily.head"
      ],
      "execution_count": 67,
      "outputs": [
        {
          "output_type": "execute_result",
          "data": {
            "text/plain": [
              "<bound method NDFrame.head of        device_id  user_id       date\n",
              "0            100        4 2015-05-31\n",
              "1            101        1 2015-05-31\n",
              "2            102        1 2015-05-31\n",
              "3            103       26 2015-05-31\n",
              "4            104        1 2015-05-31\n",
              "...          ...      ...        ...\n",
              "56582      56298     4445 2018-02-28\n",
              "56583      56299     5455 2018-02-28\n",
              "56584      56300     4824 2018-02-28\n",
              "56585      56301     4445 2018-02-28\n",
              "56586      56302     5219 2018-02-28\n",
              "\n",
              "[56587 rows x 3 columns]>"
            ]
          },
          "metadata": {
            "tags": []
          },
          "execution_count": 67
        }
      ]
    },
    {
      "cell_type": "code",
      "metadata": {
        "id": "foWsfCNswtmK",
        "colab_type": "code",
        "colab": {}
      },
      "source": [
        "last_date = df_device_daily.date.max()"
      ],
      "execution_count": 0,
      "outputs": []
    },
    {
      "cell_type": "code",
      "metadata": {
        "id": "TtEQ-JrTw_VW",
        "colab_type": "code",
        "colab": {
          "base_uri": "https://localhost:8080/",
          "height": 35
        },
        "outputId": "76a34867-8d16-44b5-d449-13ae07c42cce"
      },
      "source": [
        "last_date"
      ],
      "execution_count": 69,
      "outputs": [
        {
          "output_type": "execute_result",
          "data": {
            "text/plain": [
              "Timestamp('2018-02-28 00:00:00')"
            ]
          },
          "metadata": {
            "tags": []
          },
          "execution_count": 69
        }
      ]
    },
    {
      "cell_type": "code",
      "metadata": {
        "id": "uoqH8hbFxb-h",
        "colab_type": "code",
        "colab": {}
      },
      "source": [
        "last_3_month= last_date - timedelta(days = 30 * 3)"
      ],
      "execution_count": 0,
      "outputs": []
    },
    {
      "cell_type": "code",
      "metadata": {
        "id": "oeovKFt5ysHI",
        "colab_type": "code",
        "colab": {
          "base_uri": "https://localhost:8080/",
          "height": 35
        },
        "outputId": "6e7e683e-2beb-416c-a52a-c9b2558656eb"
      },
      "source": [
        "last_3_month"
      ],
      "execution_count": 75,
      "outputs": [
        {
          "output_type": "execute_result",
          "data": {
            "text/plain": [
              "Timestamp('2017-11-30 00:00:00')"
            ]
          },
          "metadata": {
            "tags": []
          },
          "execution_count": 75
        }
      ]
    },
    {
      "cell_type": "code",
      "metadata": {
        "id": "Wo7sy2ney49q",
        "colab_type": "code",
        "colab": {}
      },
      "source": [
        "last_6_month = last_date - timedelta(days = 30 * 6)"
      ],
      "execution_count": 0,
      "outputs": []
    },
    {
      "cell_type": "code",
      "metadata": {
        "id": "i0qxAU5ay_qO",
        "colab_type": "code",
        "colab": {
          "base_uri": "https://localhost:8080/",
          "height": 35
        },
        "outputId": "5ed8b3f6-7ca7-42d9-f256-1be1ce929587"
      },
      "source": [
        "last_6_month"
      ],
      "execution_count": 122,
      "outputs": [
        {
          "output_type": "execute_result",
          "data": {
            "text/plain": [
              "Timestamp('2017-09-01 00:00:00')"
            ]
          },
          "metadata": {
            "tags": []
          },
          "execution_count": 122
        }
      ]
    },
    {
      "cell_type": "code",
      "metadata": {
        "id": "vP8Gir2hz5DC",
        "colab_type": "code",
        "colab": {}
      },
      "source": [
        "df_reference = df_device_daily[(df_device_daily.date > last_6_month) & (df_device_daily.date < last_3_month) ]"
      ],
      "execution_count": 0,
      "outputs": []
    },
    {
      "cell_type": "code",
      "metadata": {
        "id": "YBpS9y3E0MbO",
        "colab_type": "code",
        "colab": {
          "base_uri": "https://localhost:8080/",
          "height": 269
        },
        "outputId": "38e63e7b-ad9e-4768-9eda-0eb67c0883df"
      },
      "source": [
        "df_reference.head"
      ],
      "execution_count": 124,
      "outputs": [
        {
          "output_type": "execute_result",
          "data": {
            "text/plain": [
              "<bound method NDFrame.head of        device_id  user_id       date\n",
              "29199      29080     1220 2017-09-02\n",
              "29200      29081     2035 2017-09-02\n",
              "29201      29082     2035 2017-09-02\n",
              "29202      29083     2035 2017-09-02\n",
              "29203      29084     2035 2017-09-02\n",
              "...          ...      ...        ...\n",
              "42298      42067     3261 2017-11-29\n",
              "42299      42068     1220 2017-11-29\n",
              "42300      42069     3261 2017-11-29\n",
              "42882      15082     2035 2017-11-28\n",
              "42883      15082     2035 2017-11-29\n",
              "\n",
              "[13049 rows x 3 columns]>"
            ]
          },
          "metadata": {
            "tags": []
          },
          "execution_count": 124
        }
      ]
    },
    {
      "cell_type": "code",
      "metadata": {
        "id": "KGMV-KHA1WRH",
        "colab_type": "code",
        "colab": {}
      },
      "source": [
        "df_recent = df_device_daily[(df_device_daily.date > last_3_month) ]"
      ],
      "execution_count": 0,
      "outputs": []
    },
    {
      "cell_type": "code",
      "metadata": {
        "id": "zBHpbF_-1rxL",
        "colab_type": "code",
        "colab": {
          "base_uri": "https://localhost:8080/",
          "height": 269
        },
        "outputId": "c3d3a309-6b6b-450e-fc4b-219b3103f207"
      },
      "source": [
        "df_recent.head"
      ],
      "execution_count": 126,
      "outputs": [
        {
          "output_type": "execute_result",
          "data": {
            "text/plain": [
              "<bound method NDFrame.head of        device_id  user_id       date\n",
              "42555      42324     1220 2017-12-01\n",
              "42556      42325     1220 2017-12-01\n",
              "42557      42326     1220 2017-12-01\n",
              "42558      42327     2519 2017-12-01\n",
              "42559      42328     4179 2017-12-01\n",
              "...          ...      ...        ...\n",
              "56582      56298     4445 2018-02-28\n",
              "56583      56299     5455 2018-02-28\n",
              "56584      56300     4824 2018-02-28\n",
              "56585      56301     4445 2018-02-28\n",
              "56586      56302     5219 2018-02-28\n",
              "\n",
              "[14029 rows x 3 columns]>"
            ]
          },
          "metadata": {
            "tags": []
          },
          "execution_count": 126
        }
      ]
    },
    {
      "cell_type": "code",
      "metadata": {
        "id": "43iVJjAP2BDN",
        "colab_type": "code",
        "colab": {}
      },
      "source": [
        "user_list_ref = df_reference.user_id.values # numpy.ndarray"
      ],
      "execution_count": 0,
      "outputs": []
    },
    {
      "cell_type": "code",
      "metadata": {
        "id": "p0Yt-ppD2GnM",
        "colab_type": "code",
        "colab": {}
      },
      "source": [
        "user_list_ref = np.unique(user_list_ref)"
      ],
      "execution_count": 0,
      "outputs": []
    },
    {
      "cell_type": "code",
      "metadata": {
        "id": "0e48ytxr2yXe",
        "colab_type": "code",
        "colab": {
          "base_uri": "https://localhost:8080/",
          "height": 35
        },
        "outputId": "abbc01ae-2b00-4f09-89a6-58b3e2e858b6"
      },
      "source": [
        "len(user_list_ref)"
      ],
      "execution_count": 130,
      "outputs": [
        {
          "output_type": "execute_result",
          "data": {
            "text/plain": [
              "1298"
            ]
          },
          "metadata": {
            "tags": []
          },
          "execution_count": 130
        }
      ]
    },
    {
      "cell_type": "code",
      "metadata": {
        "colab_type": "code",
        "id": "rQpjhWmU3VBZ",
        "colab": {}
      },
      "source": [
        "user_list = df_recent.user_id.values # numpy.ndarray"
      ],
      "execution_count": 0,
      "outputs": []
    },
    {
      "cell_type": "code",
      "metadata": {
        "colab_type": "code",
        "id": "Hq2JaUGN3VBo",
        "colab": {}
      },
      "source": [
        "user_list = np.unique(user_list)"
      ],
      "execution_count": 0,
      "outputs": []
    },
    {
      "cell_type": "code",
      "metadata": {
        "colab_type": "code",
        "outputId": "e257ae42-1fc6-4dc4-f6ef-038315a5506e",
        "id": "xEsG_j353VBs",
        "colab": {
          "base_uri": "https://localhost:8080/",
          "height": 35
        }
      },
      "source": [
        "len(user_list)"
      ],
      "execution_count": 134,
      "outputs": [
        {
          "output_type": "execute_result",
          "data": {
            "text/plain": [
              "1667"
            ]
          },
          "metadata": {
            "tags": []
          },
          "execution_count": 134
        }
      ]
    },
    {
      "cell_type": "markdown",
      "metadata": {
        "id": "oHMiDlB836Y5",
        "colab_type": "text"
      },
      "source": [
        "### Find those users, who were active within a period of 3 months prior to previous 3 months, but are no more active within last 3 months"
      ]
    },
    {
      "cell_type": "code",
      "metadata": {
        "id": "Qe-GLfp64U0V",
        "colab_type": "code",
        "colab": {}
      },
      "source": [
        "immediate_contact_user_list = np.setdiff1d(user_list_ref, user_list)"
      ],
      "execution_count": 0,
      "outputs": []
    },
    {
      "cell_type": "code",
      "metadata": {
        "id": "B1MMVRMg5Nrl",
        "colab_type": "code",
        "colab": {
          "base_uri": "https://localhost:8080/",
          "height": 35
        },
        "outputId": "f17c91fe-c652-4e1a-85c2-6dd7fe56834e"
      },
      "source": [
        "len(immediate_contact_user_list) "
      ],
      "execution_count": 136,
      "outputs": [
        {
          "output_type": "execute_result",
          "data": {
            "text/plain": [
              "890"
            ]
          },
          "metadata": {
            "tags": []
          },
          "execution_count": 136
        }
      ]
    },
    {
      "cell_type": "code",
      "metadata": {
        "id": "8avWiIbo6YNd",
        "colab_type": "code",
        "colab": {
          "base_uri": "https://localhost:8080/",
          "height": 1000
        },
        "outputId": "760a8f5e-4ee5-49ed-cf5d-436333391288"
      },
      "source": [
        "immediate_contact_user_list"
      ],
      "execution_count": 137,
      "outputs": [
        {
          "output_type": "execute_result",
          "data": {
            "text/plain": [
              "array([   4,   21,   38,   45,   77,   81,   86,  110,  113,  192,  205,\n",
              "        259,  262,  312,  319,  365,  366,  476,  493,  512,  519,  525,\n",
              "        589,  683,  735,  747,  781,  789,  794,  810,  815,  879,  906,\n",
              "        918,  988,  996, 1007, 1085, 1086, 1089, 1090, 1115, 1136, 1164,\n",
              "       1205, 1233, 1248, 1320, 1333, 1345, 1381, 1394, 1413, 1435, 1449,\n",
              "       1464, 1468, 1483, 1544, 1668, 1689, 1715, 1722, 1736, 1753, 1782,\n",
              "       1817, 1837, 1851, 1859, 1861, 1869, 1878, 1886, 1895, 1899, 1908,\n",
              "       1910, 1919, 1923, 1926, 1942, 1965, 1981, 1982, 1986, 2015, 2031,\n",
              "       2042, 2062, 2077, 2087, 2195, 2208, 2220, 2233, 2250, 2290, 2313,\n",
              "       2328, 2341, 2345, 2348, 2365, 2379, 2405, 2407, 2414, 2439, 2452,\n",
              "       2470, 2524, 2536, 2566, 2582, 2602, 2608, 2612, 2613, 2652, 2694,\n",
              "       2695, 2701, 2707, 2708, 2710, 2726, 2727, 2731, 2741, 2762, 2774,\n",
              "       2789, 2817, 2828, 2832, 2841, 2850, 2854, 2865, 2872, 2874, 2875,\n",
              "       2888, 2893, 2902, 2922, 2936, 2943, 2954, 2955, 2964, 2966, 2988,\n",
              "       2992, 2994, 2995, 2996, 3005, 3026, 3032, 3049, 3053, 3055, 3057,\n",
              "       3058, 3090, 3108, 3112, 3114, 3121, 3122, 3130, 3145, 3179, 3180,\n",
              "       3192, 3206, 3207, 3209, 3211, 3212, 3217, 3229, 3230, 3248, 3249,\n",
              "       3255, 3257, 3263, 3269, 3275, 3279, 3292, 3306, 3324, 3347, 3355,\n",
              "       3361, 3366, 3373, 3399, 3404, 3406, 3411, 3413, 3422, 3427, 3428,\n",
              "       3432, 3435, 3437, 3439, 3440, 3442, 3443, 3444, 3446, 3447, 3448,\n",
              "       3449, 3450, 3451, 3452, 3453, 3454, 3456, 3457, 3458, 3459, 3462,\n",
              "       3463, 3464, 3467, 3469, 3472, 3475, 3476, 3477, 3478, 3479, 3480,\n",
              "       3481, 3482, 3483, 3484, 3485, 3486, 3487, 3488, 3489, 3490, 3491,\n",
              "       3492, 3493, 3494, 3497, 3498, 3499, 3500, 3502, 3503, 3504, 3505,\n",
              "       3506, 3507, 3508, 3509, 3510, 3511, 3512, 3513, 3514, 3515, 3516,\n",
              "       3517, 3518, 3519, 3520, 3521, 3522, 3523, 3524, 3525, 3527, 3528,\n",
              "       3529, 3530, 3531, 3532, 3533, 3534, 3535, 3536, 3538, 3539, 3540,\n",
              "       3542, 3543, 3545, 3547, 3548, 3550, 3551, 3552, 3554, 3555, 3556,\n",
              "       3559, 3561, 3562, 3563, 3564, 3565, 3566, 3567, 3568, 3569, 3570,\n",
              "       3571, 3572, 3573, 3574, 3575, 3576, 3578, 3579, 3580, 3582, 3583,\n",
              "       3585, 3587, 3590, 3591, 3593, 3595, 3596, 3598, 3599, 3601, 3602,\n",
              "       3603, 3604, 3605, 3606, 3609, 3610, 3611, 3612, 3613, 3614, 3615,\n",
              "       3617, 3618, 3619, 3620, 3621, 3622, 3623, 3624, 3625, 3626, 3627,\n",
              "       3628, 3629, 3630, 3631, 3632, 3633, 3635, 3636, 3637, 3638, 3639,\n",
              "       3640, 3641, 3642, 3643, 3644, 3645, 3646, 3647, 3648, 3649, 3650,\n",
              "       3651, 3652, 3653, 3654, 3655, 3656, 3657, 3658, 3659, 3660, 3661,\n",
              "       3662, 3663, 3664, 3665, 3666, 3667, 3668, 3669, 3670, 3671, 3672,\n",
              "       3673, 3674, 3675, 3676, 3677, 3678, 3679, 3681, 3682, 3683, 3684,\n",
              "       3685, 3686, 3687, 3688, 3689, 3690, 3691, 3692, 3693, 3694, 3695,\n",
              "       3696, 3697, 3698, 3700, 3701, 3702, 3703, 3708, 3709, 3710, 3711,\n",
              "       3712, 3713, 3714, 3715, 3717, 3718, 3719, 3720, 3721, 3722, 3723,\n",
              "       3724, 3725, 3726, 3727, 3728, 3729, 3730, 3731, 3732, 3733, 3735,\n",
              "       3736, 3737, 3738, 3739, 3740, 3741, 3742, 3743, 3744, 3745, 3746,\n",
              "       3749, 3750, 3751, 3752, 3753, 3754, 3755, 3756, 3757, 3758, 3759,\n",
              "       3760, 3761, 3762, 3763, 3764, 3765, 3766, 3767, 3768, 3769, 3770,\n",
              "       3771, 3774, 3776, 3777, 3783, 3784, 3786, 3787, 3788, 3789, 3790,\n",
              "       3791, 3792, 3793, 3794, 3795, 3798, 3799, 3801, 3803, 3804, 3805,\n",
              "       3806, 3808, 3809, 3810, 3811, 3813, 3814, 3815, 3816, 3818, 3819,\n",
              "       3820, 3821, 3823, 3824, 3825, 3826, 3827, 3829, 3830, 3831, 3832,\n",
              "       3833, 3834, 3835, 3837, 3838, 3840, 3841, 3844, 3845, 3846, 3847,\n",
              "       3848, 3849, 3850, 3852, 3853, 3854, 3857, 3858, 3859, 3860, 3861,\n",
              "       3862, 3863, 3864, 3865, 3867, 3868, 3869, 3870, 3871, 3872, 3874,\n",
              "       3875, 3876, 3877, 3879, 3880, 3881, 3882, 3884, 3885, 3886, 3887,\n",
              "       3889, 3890, 3891, 3892, 3893, 3894, 3895, 3896, 3897, 3899, 3901,\n",
              "       3902, 3903, 3904, 3905, 3906, 3907, 3908, 3909, 3910, 3911, 3914,\n",
              "       3916, 3918, 3919, 3920, 3922, 3924, 3928, 3930, 3931, 3932, 3933,\n",
              "       3934, 3935, 3937, 3939, 3940, 3941, 3942, 3943, 3945, 3946, 3947,\n",
              "       3948, 3949, 3950, 3951, 3952, 3953, 3954, 3955, 3956, 3957, 3958,\n",
              "       3959, 3961, 3962, 3963, 3964, 3965, 3966, 3967, 3968, 3969, 3970,\n",
              "       3971, 3972, 3973, 3974, 3975, 3976, 3977, 3978, 3979, 3980, 3981,\n",
              "       3982, 3983, 3984, 3985, 3986, 3987, 3988, 3989, 3990, 3991, 3992,\n",
              "       3993, 3996, 3997, 3998, 3999, 4000, 4001, 4002, 4003, 4004, 4005,\n",
              "       4007, 4009, 4010, 4011, 4013, 4014, 4016, 4017, 4018, 4019, 4021,\n",
              "       4022, 4023, 4025, 4026, 4028, 4029, 4030, 4031, 4033, 4034, 4035,\n",
              "       4036, 4038, 4039, 4041, 4042, 4043, 4044, 4045, 4046, 4047, 4048,\n",
              "       4049, 4050, 4052, 4056, 4057, 4058, 4059, 4060, 4061, 4063, 4064,\n",
              "       4065, 4066, 4067, 4068, 4069, 4070, 4072, 4073, 4075, 4076, 4077,\n",
              "       4078, 4079, 4080, 4084, 4085, 4088, 4089, 4090, 4091, 4092, 4093,\n",
              "       4094, 4095, 4096, 4098, 4099, 4100, 4102, 4103, 4104, 4105, 4106,\n",
              "       4109, 4110, 4113, 4114, 4115, 4117, 4118, 4119, 4120, 4122, 4123,\n",
              "       4124, 4125, 4127, 4128, 4130, 4131, 4132, 4133, 4134, 4136, 4137,\n",
              "       4138, 4140, 4141, 4143, 4144, 4145, 4146, 4148, 4149, 4150, 4151,\n",
              "       4152, 4154, 4156, 4158, 4160, 4162, 4163, 4164, 4165, 4166, 4168,\n",
              "       4169, 4170, 4171, 4172, 4173, 4175, 4177, 4178, 4180, 4181, 4182,\n",
              "       4184, 4185, 4186, 4187, 4188, 4190, 4193, 4194, 4195, 4196, 4197,\n",
              "       4198, 4199, 4201, 4203, 4204, 4205, 4207, 4208, 4210, 4211, 4212,\n",
              "       4214, 4218, 4220, 4221, 4222, 4225, 4227, 4228, 4230, 4231, 4232,\n",
              "       4234, 4236, 4237, 4239, 4240, 4241, 4242, 4243, 4245, 4246, 4247,\n",
              "       4248, 4250, 4252, 4253, 4254, 4255, 4256, 4257, 4259, 4260, 4262,\n",
              "       4265, 4266, 4268, 4269, 4270, 4272, 4273, 4274, 4275, 4276, 4278,\n",
              "       4281, 4282, 4284, 4289, 4290, 4291, 4294, 4295, 4301, 4302])"
            ]
          },
          "metadata": {
            "tags": []
          },
          "execution_count": 137
        }
      ]
    },
    {
      "cell_type": "markdown",
      "metadata": {
        "id": "dzNlhSmg6ueK",
        "colab_type": "text"
      },
      "source": [
        "**Above is the list of user id, they were active in a period of 3 months prior to the last 3-months, but not active in the last three months, that indicates they are in a process of churning** "
      ]
    },
    {
      "cell_type": "markdown",
      "metadata": {
        "id": "XyTwiVVe7ntG",
        "colab_type": "text"
      },
      "source": [
        "Further filtering is required to filter those users who had certain number od devices active during that period, and are not so critical from the revenue point of view than others who had more number of devices and are not active any more, and this is critical as we are losing revenues for such users."
      ]
    }
  ]
}