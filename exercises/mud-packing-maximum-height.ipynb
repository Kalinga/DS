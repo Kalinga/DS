{
 "cells": [
  {
   "cell_type": "code",
   "execution_count": 3,
   "metadata": {},
   "outputs": [],
   "source": [
    "def showZip(z):\n",
    "    for t in z:\n",
    "        print (t)"
   ]
  },
  {
   "cell_type": "code",
   "execution_count": 4,
   "metadata": {},
   "outputs": [],
   "source": [
    "def missingSegment(wallPosition):\n",
    "    diff = lambda l1,l2: [x for x in l1 if x not in l2]\n",
    "    mudSegment = diff(list(range(1, wallPosition[-1]+1)), wallPosition)\n",
    "    mudSegmentList = map(lambda x: (x, 0), mudSegment)\n",
    "    \n",
    "    return(list(mudSegmentList))"
   ]
  },
  {
   "cell_type": "code",
   "execution_count": 5,
   "metadata": {},
   "outputs": [],
   "source": [
    "#the filter() method filters the given iterable with the help of a function that tests each element in the iterable to be true or not.\n",
    "#(element for element in iterable if function(element))\n",
    "\n",
    "def missingSegment2(wallPosition):\n",
    "    mudSegment = filter(lambda x: x not in  wallPosition, list(range(1, wallPosition[-1] + 1 )))\n",
    "    \n",
    "    for s in mudSegment:\n",
    "        print(s)"
   ]
  },
  {
   "cell_type": "code",
   "execution_count": 34,
   "metadata": {},
   "outputs": [],
   "source": [
    "def maxHeight(wallPosition, wallHeight):\n",
    "    concreteSegment =  list(zip(wallPosition, wallHeight))\n",
    "    #print(concreteSegment)\n",
    "    mudSegment = missingSegment(wallPosition)\n",
    "    #print(mudSegment)\n",
    "    \n",
    "    allSegment = concreteSegment + mudSegment\n",
    "    allSegment.sort(key=lambda tup: tup[0]) #inplace\n",
    "    \n",
    "    print(allSegment)\n",
    "    \n",
    "    for m in allSegment:\n",
    "        h = m[1]\n",
    "        if(h == 0):\n",
    "            #print(m[0])\n",
    "            index = m[0] - 1 # index in the array\n",
    "            adjacentFilld = False\n",
    "            if (allSegment[index - 1][1]) > 0 and (allSegment[index + 1][1] > 0) :\n",
    "                adjacentFilld = True\n",
    "            #print(\"adjacentFilld\", adjacentFilld)\n",
    "            if adjacentFilld:\n",
    "                height = min(allSegment[index - 1][1], allSegment[index + 1][1]) + 1\n",
    "                allSegment[index] = (allSegment[index][0], height)\n",
    "            else:\n",
    "                left = allSegment[index -1 ][1]\n",
    "                tmpIndex = index + 1\n",
    "                while(not allSegment[tmpIndex][1]):\n",
    "                    tmpIndex += 1\n",
    "                right = allSegment[tmpIndex][1]\n",
    "                \n",
    "                slots = tmpIndex - index\n",
    "                if abs(left - right) > slots + 1:\n",
    "                    return 0\n",
    "                else:\n",
    "                    inc = (right - left ) / abs(left - right)\n",
    "\n",
    "                    tmpIndex = index\n",
    "                    while(not allSegment[tmpIndex][1]):\n",
    "                        allSegment[tmpIndex] = (allSegment[tmpIndex][0], allSegment[tmpIndex- 1][1] + inc)\n",
    "                        tmpIndex += 1\n",
    "                    \n",
    "    print(allSegment)\n",
    "    maxHeight = max([allSegment[i[0] - 1][1] for i in mudSegment]) \n",
    "    return maxHeight"
   ]
  },
  {
   "cell_type": "code",
   "execution_count": 35,
   "metadata": {},
   "outputs": [
    {
     "name": "stdout",
     "output_type": "stream",
     "text": [
      "[(1, 4), (2, 6), (3, 0), (4, 8), (5, 0), (6, 0), (7, 11)]\n",
      "[(1, 4), (2, 6), (3, 7), (4, 8), (5, 9.0), (6, 10.0), (7, 11)]\n"
     ]
    },
    {
     "data": {
      "text/plain": [
       "10.0"
      ]
     },
     "execution_count": 35,
     "metadata": {},
     "output_type": "execute_result"
    }
   ],
   "source": [
    "maxHeight([1,2,4,7], [4,6,8,11])"
   ]
  },
  {
   "cell_type": "code",
   "execution_count": 38,
   "metadata": {},
   "outputs": [
    {
     "name": "stdout",
     "output_type": "stream",
     "text": [
      "[(1, 4), (2, 6), (3, 0), (4, 8), (5, 0), (6, 0), (7, 5)]\n",
      "[(1, 4), (2, 6), (3, 7), (4, 8), (5, 7.0), (6, 6.0), (7, 5)]\n"
     ]
    },
    {
     "data": {
      "text/plain": [
       "7"
      ]
     },
     "execution_count": 38,
     "metadata": {},
     "output_type": "execute_result"
    }
   ],
   "source": [
    "maxHeight([1,2,4,7], [4,6,8,5])"
   ]
  },
  {
   "cell_type": "code",
   "execution_count": 39,
   "metadata": {},
   "outputs": [],
   "source": [
    "a=[1,2,3,4,5,6,3]"
   ]
  },
  {
   "cell_type": "code",
   "execution_count": 40,
   "metadata": {},
   "outputs": [],
   "source": [
    "b=[7,8,9,10,11,12]"
   ]
  },
  {
   "cell_type": "code",
   "execution_count": 41,
   "metadata": {},
   "outputs": [
    {
     "data": {
      "text/plain": [
       "[(1, 7), (2, 8), (3, 9), (4, 10), (5, 11), (6, 12)]"
      ]
     },
     "execution_count": 41,
     "metadata": {},
     "output_type": "execute_result"
    }
   ],
   "source": [
    "list(zip(a, b))"
   ]
  }
 ],
 "metadata": {
  "kernelspec": {
   "display_name": "Python 3",
   "language": "python",
   "name": "python3"
  },
  "language_info": {
   "codemirror_mode": {
    "name": "ipython",
    "version": 3
   },
   "file_extension": ".py",
   "mimetype": "text/x-python",
   "name": "python",
   "nbconvert_exporter": "python",
   "pygments_lexer": "ipython3",
   "version": "3.7.3"
  }
 },
 "nbformat": 4,
 "nbformat_minor": 2
}
