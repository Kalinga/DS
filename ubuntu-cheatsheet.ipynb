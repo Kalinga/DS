{
 "cells": [
  {
   "cell_type": "code",
   "execution_count": 1,
   "metadata": {},
   "outputs": [
    {
     "name": "stdout",
     "output_type": "stream",
     "text": [
      " [ + ]  acpid\n",
      " [ + ]  apache-htcacheclean\n",
      " [ + ]  apparmor\n",
      " [ + ]  avahi-daemon\n",
      " [ + ]  binfmt-support\n",
      " [ + ]  console-setup\n",
      " [ + ]  cron\n",
      " [ + ]  cups\n",
      " [ + ]  cups-browsed\n",
      " [ + ]  dbus\n",
      " [ + ]  grub-common\n",
      " [ + ]  irqbalance\n",
      " [ + ]  kmod\n",
      " [ + ]  lightdm\n",
      " [ + ]  network-manager\n",
      " [ + ]  networking\n",
      " [ + ]  nmbd\n",
      " [ + ]  ondemand\n",
      " [ + ]  procps\n",
      " [ + ]  rc.local\n",
      " [ + ]  resolvconf\n",
      " [ + ]  speech-dispatcher\n",
      " [ + ]  udev\n",
      " [ + ]  ufw\n",
      " [ + ]  unattended-upgrades\n",
      " [ + ]  urandom\n",
      " [ + ]  whoopsie\n"
     ]
    }
   ],
   "source": [
    "!service --status-all | grep +"
   ]
  },
  {
   "cell_type": "code",
   "execution_count": 3,
   "metadata": {},
   "outputs": [
    {
     "name": "stdout",
     "output_type": "stream",
     "text": [
      "[sudo] password for kalinga: Synchronizing state of bluetooth.service with SysV init with /lib/systemd/systemd-sysv-install...\n",
      "Executing /lib/systemd/systemd-sysv-install disable bluetooth\n",
      "insserv: warning: current start runlevel(s) (empty) of script `bluetooth' overrides LSB defaults (2 3 4 5).\n",
      "insserv: warning: current stop runlevel(s) (0 1 2 3 4 5 6) of script `bluetooth' overrides LSB defaults (0 1 6).\n",
      "insserv: warning: current start runlevel(s) (empty) of script `bluetooth' overrides LSB defaults (2 3 4 5).\n",
      "insserv: warning: current stop runlevel(s) (0 1 2 3 4 5 6) of script `bluetooth' overrides LSB defaults (0 1 6).\n"
     ]
    }
   ],
   "source": [
    "!sudo -S systemctl disable bluetooth < ~/.sudopassword"
   ]
  },
  {
   "cell_type": "code",
   "execution_count": 4,
   "metadata": {},
   "outputs": [
    {
     "name": "stdout",
     "output_type": "stream",
     "text": [
      "[sudo] password for kalinga: nmbd.service is not a native service, redirecting to systemd-sysv-install\n",
      "Executing /lib/systemd/systemd-sysv-install disable nmbd\n",
      "insserv: warning: current start runlevel(s) (empty) of script `nmbd' overrides LSB defaults (2 3 4 5).\n",
      "insserv: warning: current stop runlevel(s) (0 1 2 3 4 5 6) of script `nmbd' overrides LSB defaults (0 1 6).\n"
     ]
    }
   ],
   "source": [
    "!sudo -S systemctl disable nmbd < ~/.sudopassword"
   ]
  },
  {
   "cell_type": "code",
   "execution_count": 10,
   "metadata": {},
   "outputs": [
    {
     "name": "stdout",
     "output_type": "stream",
     "text": [
      "[sudo] password for kalinga: Synchronizing state of bluetooth.service with SysV init with /lib/systemd/systemd-sysv-install...\n",
      "Executing /lib/systemd/systemd-sysv-install disable bluetooth\n",
      "insserv: warning: current start runlevel(s) (empty) of script `bluetooth' overrides LSB defaults (2 3 4 5).\n",
      "insserv: warning: current stop runlevel(s) (0 1 2 3 4 5 6) of script `bluetooth' overrides LSB defaults (0 1 6).\n",
      "insserv: warning: current start runlevel(s) (empty) of script `bluetooth' overrides LSB defaults (2 3 4 5).\n",
      "insserv: warning: current stop runlevel(s) (0 1 2 3 4 5 6) of script `bluetooth' overrides LSB defaults (0 1 6).\n"
     ]
    }
   ],
   "source": [
    "!sudo -S systemctl disable cups < ~/.sudopassword"
   ]
  },
  {
   "cell_type": "code",
   "execution_count": 2,
   "metadata": {},
   "outputs": [
    {
     "name": "stdout",
     "output_type": "stream",
     "text": [
      "[sudo] password for kalinga: Synchronizing state of cups-browsed.service with SysV init with /lib/systemd/systemd-sysv-install...\n",
      "Executing /lib/systemd/systemd-sysv-install disable cups-browsed\n",
      "insserv: warning: current start runlevel(s) (empty) of script `cups-browsed' overrides LSB defaults (2 3 4 5).\n",
      "insserv: warning: current stop runlevel(s) (0 1 2 3 4 5 6) of script `cups-browsed' overrides LSB defaults (0 1 6).\n"
     ]
    }
   ],
   "source": [
    "!sudo -S systemctl disable cups-browsed < ~/.sudopassword"
   ]
  },
  {
   "cell_type": "code",
   "execution_count": 11,
   "metadata": {},
   "outputs": [
    {
     "name": "stdout",
     "output_type": "stream",
     "text": [
      "[sudo] password for kalinga: Synchronizing state of docker.service with SysV init with /lib/systemd/systemd-sysv-install...\n",
      "Executing /lib/systemd/systemd-sysv-install disable docker\n",
      "insserv: warning: current start runlevel(s) (empty) of script `docker' overrides LSB defaults (2 3 4 5).\n",
      "insserv: warning: current stop runlevel(s) (0 1 2 3 4 5 6) of script `docker' overrides LSB defaults (0 1 6).\n"
     ]
    }
   ],
   "source": [
    "!sudo -S systemctl disable docker < ~/.sudopassword"
   ]
  },
  {
   "cell_type": "code",
   "execution_count": 12,
   "metadata": {},
   "outputs": [
    {
     "name": "stdout",
     "output_type": "stream",
     "text": [
      "[sudo] password for kalinga: Synchronizing state of mysql.service with SysV init with /lib/systemd/systemd-sysv-install...\n",
      "Executing /lib/systemd/systemd-sysv-install disable mysql\n",
      "insserv: warning: current start runlevel(s) (empty) of script `mysql' overrides LSB defaults (2 3 4 5).\n",
      "insserv: warning: current stop runlevel(s) (0 1 2 3 4 5 6) of script `mysql' overrides LSB defaults (0 1 6).\n"
     ]
    }
   ],
   "source": [
    "!sudo -S systemctl disable mysql < ~/.sudopassword"
   ]
  },
  {
   "cell_type": "code",
   "execution_count": 2,
   "metadata": {},
   "outputs": [
    {
     "name": "stdout",
     "output_type": "stream",
     "text": [
      "[sudo] password for kalinga: apport.service is not a native service, redirecting to systemd-sysv-install\n",
      "Executing /lib/systemd/systemd-sysv-install disable apport\n",
      "insserv: warning: current start runlevel(s) (empty) of script `apport' overrides LSB defaults (2 3 4 5).\n",
      "insserv: warning: current stop runlevel(s) (2 3 4 5) of script `apport' overrides LSB defaults (empty).\n"
     ]
    }
   ],
   "source": [
    "!sudo -S systemctl disable apport < ~/.sudopassword"
   ]
  },
  {
   "cell_type": "code",
   "execution_count": 3,
   "metadata": {},
   "outputs": [
    {
     "name": "stdout",
     "output_type": "stream",
     "text": [
      "[sudo] password for kalinga: Synchronizing state of whoopsie.service with SysV init with /lib/systemd/systemd-sysv-install...\n",
      "Executing /lib/systemd/systemd-sysv-install disable whoopsie\n",
      "insserv: warning: current start runlevel(s) (empty) of script `whoopsie' overrides LSB defaults (2 3 4 5).\n",
      "insserv: warning: current stop runlevel(s) (1 2 3 4 5) of script `whoopsie' overrides LSB defaults (1).\n",
      "insserv: warning: current start runlevel(s) (empty) of script `whoopsie' overrides LSB defaults (2 3 4 5).\n",
      "insserv: warning: current stop runlevel(s) (1 2 3 4 5) of script `whoopsie' overrides LSB defaults (1).\n"
     ]
    }
   ],
   "source": [
    "!sudo -S systemctl disable whoopsie < ~/.sudopassword"
   ]
  },
  {
   "cell_type": "code",
   "execution_count": 14,
   "metadata": {},
   "outputs": [
    {
     "name": "stdout",
     "output_type": "stream",
     "text": [
      "[sudo] password for kalinga: Synchronizing state of vnstat.service with SysV init with /lib/systemd/systemd-sysv-install...\n",
      "Executing /lib/systemd/systemd-sysv-install disable vnstat\n",
      "insserv: warning: current start runlevel(s) (empty) of script `vnstat' overrides LSB defaults (2 3 4 5).\n",
      "insserv: warning: current stop runlevel(s) (0 1 2 3 4 5 6) of script `vnstat' overrides LSB defaults (0 1 6).\n"
     ]
    }
   ],
   "source": [
    "!sudo -S systemctl disable vnstat < ~/.sudopassword"
   ]
  },
  {
   "cell_type": "code",
   "execution_count": 16,
   "metadata": {},
   "outputs": [
    {
     "name": "stdout",
     "output_type": "stream",
     "text": [
      "[sudo] password for kalinga: Synchronizing state of samba.service with SysV init with /lib/systemd/systemd-sysv-install...\n",
      "Executing /lib/systemd/systemd-sysv-install disable samba\n",
      "update-rc.d: error: samba Default-Start contains no runlevels, aborting.\n"
     ]
    }
   ],
   "source": [
    "!sudo -S systemctl disable samba  < ~/.sudopassword"
   ]
  },
  {
   "cell_type": "code",
   "execution_count": 17,
   "metadata": {},
   "outputs": [
    {
     "name": "stdout",
     "output_type": "stream",
     "text": [
      "[sudo] password for kalinga: smbd.service is not a native service, redirecting to systemd-sysv-install\n",
      "Executing /lib/systemd/systemd-sysv-install disable smbd\n",
      "insserv: warning: current start runlevel(s) (empty) of script `smbd' overrides LSB defaults (2 3 4 5).\n",
      "insserv: warning: current stop runlevel(s) (0 1 2 3 4 5 6) of script `smbd' overrides LSB defaults (0 1 6).\n"
     ]
    }
   ],
   "source": [
    "!sudo -S systemctl disable smbd  < ~/.sudopassword"
   ]
  },
  {
   "cell_type": "code",
   "execution_count": 18,
   "metadata": {},
   "outputs": [
    {
     "name": "stdout",
     "output_type": "stream",
     "text": [
      "[sudo] password for kalinga: samba-ad-dc.service is not a native service, redirecting to systemd-sysv-install\n",
      "Executing /lib/systemd/systemd-sysv-install disable samba-ad-dc\n",
      "insserv: warning: current start runlevel(s) (empty) of script `samba-ad-dc' overrides LSB defaults (2 3 4 5).\n",
      "insserv: warning: current stop runlevel(s) (0 1 2 3 4 5 6) of script `samba-ad-dc' overrides LSB defaults (0 1 6).\n"
     ]
    }
   ],
   "source": [
    "!sudo -S systemctl disable samba-ad-dc  < ~/.sudopassword"
   ]
  },
  {
   "cell_type": "code",
   "execution_count": 19,
   "metadata": {},
   "outputs": [
    {
     "name": "stdout",
     "output_type": "stream",
     "text": [
      "[sudo] password for kalinga: Synchronizing state of rsyslog.service with SysV init with /lib/systemd/systemd-sysv-install...\n",
      "Executing /lib/systemd/systemd-sysv-install disable rsyslog\n",
      "insserv: warning: current start runlevel(s) (empty) of script `rsyslog' overrides LSB defaults (2 3 4 5).\n",
      "insserv: warning: current stop runlevel(s) (0 1 2 3 4 5 6) of script `rsyslog' overrides LSB defaults (0 1 6).\n",
      "Removed symlink /etc/systemd/system/syslog.service.\n"
     ]
    }
   ],
   "source": [
    "!sudo -S systemctl disable rsyslog < ~/.sudopassword"
   ]
  },
  {
   "cell_type": "code",
   "execution_count": null,
   "metadata": {},
   "outputs": [],
   "source": []
  },
  {
   "cell_type": "code",
   "execution_count": null,
   "metadata": {},
   "outputs": [],
   "source": []
  }
 ],
 "metadata": {
  "kernelspec": {
   "display_name": "Python 3",
   "language": "python",
   "name": "python3"
  },
  "language_info": {
   "codemirror_mode": {
    "name": "ipython",
    "version": 3
   },
   "file_extension": ".py",
   "mimetype": "text/x-python",
   "name": "python",
   "nbconvert_exporter": "python",
   "pygments_lexer": "ipython3",
   "version": "3.7.3"
  }
 },
 "nbformat": 4,
 "nbformat_minor": 2
}
